{
 "cells": [
  {
   "cell_type": "code",
   "execution_count": 14,
   "metadata": {},
   "outputs": [],
   "source": [
    "import torch\n",
    "import torch.nn as nn\n",
    "import torch.optim as optim\n",
    "from torch.utils.data import DataLoader, Dataset\n",
    "import numpy as np\n",
    "from scipy.signal import spectrogram\n",
    "from scipy.io import loadmat\n",
    "import pandas as pd\n",
    "from pathlib import Path\n",
    "from tqdm import tqdm\n",
    "import matplotlib.pyplot as plt\n",
    "from sklearn.metrics import confusion_matrix, f1_score\n",
    "import seaborn as sns\n",
    "import matplotlib.pyplot as plt\n",
    "import torch.nn.functional as F\n",
    "import numpy as np\n",
    "from scipy.signal import butter, filtfilt\n",
    "import torch\n",
    "import torch.nn as nn\n",
    "import torch.nn.functional as F\n"
   ]
  },
  {
   "cell_type": "code",
   "execution_count": 15,
   "metadata": {},
   "outputs": [],
   "source": [
    "class TTTEEGBlock(nn.Module):\n",
    "    def __init__(self, hidden_size, num_heads=4, head_dim=None, eta=0.001):\n",
    "        super().__init__()\n",
    "        self.hidden_size = hidden_size\n",
    "        self.num_heads = num_heads\n",
    "        self.head_dim = head_dim if head_dim is not None else hidden_size // num_heads\n",
    "        self.eta = eta\n",
    "        \n",
    "        self.W1 = nn.Parameter(torch.randn(num_heads, self.head_dim, self.head_dim) * 0.02)\n",
    "        self.b1 = nn.Parameter(torch.zeros(num_heads, 1, self.head_dim))\n",
    "        \n",
    "        self.layer_norm = nn.LayerNorm(hidden_size)\n",
    "        self.dropout = nn.Dropout(0.1)\n",
    "        \n",
    "    def forward(self, x, cache_params=None):\n",
    "        B, L, C = x.shape\n",
    "        \n",
    "        x = self.layer_norm(x)\n",
    "        x = x.reshape(B, L, self.num_heads, self.head_dim)\n",
    "        x = x.permute(0, 2, 1, 3)  # [B, H, L, D]\n",
    "        \n",
    "        if cache_params is None:\n",
    "            output = self.dropout(torch.einsum('bhld,hdf->bhlf', x, self.W1) + self.b1.unsqueeze(0))\n",
    "        else:\n",
    "            with torch.enable_grad():\n",
    "                x_temp = x.detach().requires_grad_()\n",
    "                output_temp = torch.einsum('bhld,hdf->bhlf', x_temp, self.W1) + self.b1.unsqueeze(0)\n",
    "                \n",
    "                # Self-supervised loss: L2 loss + consistency loss\n",
    "                l2_loss = output_temp.pow(2).mean()\n",
    "                consistency_loss = torch.abs(output_temp - x_temp.mean(dim=-1, keepdim=True)).mean()\n",
    "                self_supervised_loss = l2_loss + 0.1 * consistency_loss\n",
    "                \n",
    "                # Compute gradients for self-supervised loss\n",
    "                grads = torch.autograd.grad(self_supervised_loss, [self.W1, self.b1], retain_graph=True, create_graph=False)\n",
    "                grad_W1, grad_b1 = grads\n",
    "                \n",
    "                grad_W1 = torch.clamp(grad_W1, -1.0, 1.0)\n",
    "                grad_b1 = torch.clamp(grad_b1, -1.0, 1.0)\n",
    "                \n",
    "                if f'W1_states_{id(self)}' not in cache_params:\n",
    "                    cache_params[f'W1_states_{id(self)}'] = self.W1.clone()\n",
    "                    cache_params[f'b1_states_{id(self)}'] = self.b1.clone()\n",
    "                    cache_params[f'momentum_W1_{id(self)}'] = torch.zeros_like(self.W1)\n",
    "                    cache_params[f'momentum_b1_{id(self)}'] = torch.zeros_like(self.b1)\n",
    "                \n",
    "                momentum = 0.9\n",
    "                cache_params[f'momentum_W1_{id(self)}'] = (\n",
    "                    momentum * cache_params[f'momentum_W1_{id(self)}'] + \n",
    "                    (1 - momentum) * grad_W1\n",
    "                )\n",
    "                cache_params[f'momentum_b1_{id(self)}'] = (\n",
    "                    momentum * cache_params[f'momentum_b1_{id(self)}'] + \n",
    "                    (1 - momentum) * grad_b1\n",
    "                )\n",
    "                \n",
    "                cache_params[f'W1_states_{id(self)}'] -= self.eta * cache_params[f'momentum_W1_{id(self)}']\n",
    "                cache_params[f'b1_states_{id(self)}'] -= self.eta * cache_params[f'momentum_b1_{id(self)}']\n",
    "                \n",
    "                output = self.dropout(torch.einsum('bhld,hdf->bhlf', x, \n",
    "                                    cache_params[f'W1_states_{id(self)}']) + \n",
    "                                    cache_params[f'b1_states_{id(self)}'].unsqueeze(0))\n",
    "        \n",
    "        output = output.permute(0, 2, 1, 3)  # [B, L, H, D]\n",
    "        output = output.reshape(B, L, -1)     # [B, L, H*D]\n",
    "        \n",
    "        return output + x.permute(0, 2, 1, 3).reshape(B, L, -1)  # Residual connection"
   ]
  },
  {
   "cell_type": "code",
   "execution_count": 16,
   "metadata": {},
   "outputs": [],
   "source": [
    "# Load EEG data from .mat files\n",
    "def load_mat_data(file_path):\n",
    "    data = loadmat(file_path)['data'][0]\n",
    "    inputs, targets = [], []\n",
    "    map = {}\n",
    "    current = 3\n",
    "    for i in range(len(data)):\n",
    "        y = data[i].flatten()\n",
    "        sub = y[0][0]\n",
    "        if y[1][0]=='letter-composing':\n",
    "            continue\n",
    "        if y[2][0] not in ['trial 1','trial 2','trial 3']:\n",
    "            continue\n",
    "        eeg_data = y[3][:6, :]\n",
    "        if sub not in map:\n",
    "            map[sub] = current\n",
    "            current += 1\n",
    "        targets.append(map[sub])\n",
    "        inputs.append(eeg_data)\n",
    "    return np.array(inputs), np.array(targets)\n",
    "\n",
    "def preprocess_eeg(eeg_data):\n",
    "    eeg_data = (eeg_data - np.mean(eeg_data)) / (np.std(eeg_data) + 1e-8)\n",
    "    nyq = 0.5 * 256\n",
    "    low, high = 0.5 / nyq, 45 / nyq\n",
    "    b, a = butter(4, [low, high], btype='band')\n",
    "    return filtfilt(b, a, eeg_data)\n",
    "\n",
    "# Load EEG data from folder structure\n",
    "def load_folder_data(root_path, tasks=['baseline', 'counting', 'logical', 'rotation']):\n",
    "    root = Path(root_path)\n",
    "    X, y = [], []\n",
    "    subjects = [d for d in root.iterdir() if d.is_dir() and d.name in ['eshwa', 'Giri', 'Nithish']]\n",
    "    for subject_idx, subject in enumerate(subjects):\n",
    "        for task in tasks:\n",
    "            session_pattern = f\"OpenBCISession_{subject.name.lower()}_{task}_*\"\n",
    "            sessions = list(subject.glob(session_pattern))\n",
    "            for session in sessions:\n",
    "                raw_files = list(session.glob(\"OpenBCI-RAW-*.txt\"))\n",
    "                for raw_file in raw_files:\n",
    "                    eeg_data = load_eeg_data(raw_file)\n",
    "                    if eeg_data is not None:\n",
    "                        for i in range(6):\n",
    "                            X.append(eeg_data[3750:6250, i])\n",
    "                            y.append(subject_idx)\n",
    "    return np.array(X), np.array(y)\n",
    "\n",
    "# Data Augmentation Functions\n",
    "def jitter(x, sigma=0.01):\n",
    "    return x + np.random.normal(loc=0., scale=sigma, size=x.shape)\n",
    "\n",
    "def scaling(x, sigma=0.1):\n",
    "    factor = np.random.normal(loc=1.0, scale=sigma, size=(x.shape[0], 1))\n",
    "    return x * factor\n",
    "\n",
    "\n",
    "def create_spectrogram(eeg_data, fs=256, target_area=2500, num_frequencies=50, num_times=50):   \n",
    "    # Calculate the segment length (nperseg) based on the desired number of frequency bins\n",
    "    # The formula for frequency bins is: number of bins = nperseg / 2 + 1\n",
    "    required_nperseg = (num_frequencies - 1) * 2  # Desired frequency bins and corresponding nperseg\n",
    "\n",
    "    # Ensure nperseg doesn't exceed the total signal length\n",
    "    nperseg = min(required_nperseg, len(eeg_data))\n",
    "\n",
    "    noverlap = nperseg // 2  # Overlap (half of segment length by default)\n",
    "\n",
    "    # Compute the spectrogram\n",
    "    frequencies, times, Sxx = spectrogram(\n",
    "        eeg_data, fs=fs, window='hamming', nperseg=nperseg, noverlap=noverlap, detrend='constant', scaling='density'\n",
    "    )\n",
    "\n",
    "    # Ensure we get the expected number of frequency bins\n",
    "    if Sxx.shape[0] < num_frequencies:\n",
    "        print(f\"Warning: Expected {num_frequencies} frequency bins, but got {Sxx.shape[0]}. Padding with zeros.\")\n",
    "        padding = num_frequencies - Sxx.shape[0]\n",
    "        Sxx = np.pad(Sxx, ((0, padding), (0, 0)), mode='constant')\n",
    "    elif Sxx.shape[0] > num_frequencies:\n",
    "        # If the number of frequency bins is more than desired, truncate\n",
    "        Sxx = Sxx[:num_frequencies, :]\n",
    "\n",
    "    # Ensure the number of time bins matches the desired number\n",
    "    if Sxx.shape[1] < num_times:\n",
    "        padding = num_times - Sxx.shape[1]\n",
    "        Sxx = np.pad(Sxx, ((0, 0), (0, padding)), mode='constant')\n",
    "    elif Sxx.shape[1] > num_times:\n",
    "        # Trim time bins if there are more than desired\n",
    "        Sxx = Sxx[:, :num_times]\n",
    "\n",
    "    # Convert to decibels\n",
    "    Sxx = 10 * np.log10(Sxx + 1e-5)\n",
    "\n",
    "    # Normalize the spectrogram\n",
    "    Sxx = (Sxx - Sxx.min()) / (Sxx.max() - Sxx.min() + 1e-8)\n",
    "    return Sxx"
   ]
  },
  {
   "cell_type": "code",
   "execution_count": 17,
   "metadata": {},
   "outputs": [],
   "source": [
    "import torch\n",
    "import torch.nn as nn\n",
    "import torch.nn.functional as F\n",
    "import torch.optim as optim\n",
    "from torch.utils.data import DataLoader\n",
    "\n",
    "class TTTCell(nn.Module):\n",
    "    def __init__(self, input_size, hidden_size, eta=0.001):\n",
    "        super().__init__()\n",
    "        self.hidden_size = hidden_size\n",
    "        self.eta = eta\n",
    "        \n",
    "        # Hidden state model (f in the paper)\n",
    "        self.hidden_model = nn.Sequential(\n",
    "            nn.Linear(input_size, hidden_size * 2),\n",
    "            nn.LayerNorm(hidden_size * 2),\n",
    "            nn.GELU(),\n",
    "            nn.Linear(hidden_size * 2, hidden_size)\n",
    "        )\n",
    "        \n",
    "        # Initialize cache for test-time updates\n",
    "        self.cache_params = {}\n",
    "        \n",
    "    def forward(self, x, hidden, is_training=True):\n",
    "        if is_training:\n",
    "            next_hidden = self.hidden_model(x)\n",
    "        else:\n",
    "            # Test-time training update\n",
    "            with torch.enable_grad():\n",
    "                x_temp = x.detach().requires_grad_()\n",
    "                pred = self.hidden_model(x_temp)\n",
    "                \n",
    "                # Self-supervised loss (as described in paper section 2.1)\n",
    "                l2_loss = pred.pow(2).mean()\n",
    "                consistency_loss = torch.abs(pred - x_temp.mean(dim=-1, keepdim=True)).mean()\n",
    "                loss = l2_loss + 0.1 * consistency_loss\n",
    "                \n",
    "                # Update hidden model parameters\n",
    "                grads = torch.autograd.grad(loss, self.hidden_model.parameters())\n",
    "                \n",
    "                with torch.no_grad():\n",
    "                    for param, grad in zip(self.hidden_model.parameters(), grads):\n",
    "                        if f'momentum_{id(param)}' not in self.cache_params:\n",
    "                            self.cache_params[f'momentum_{id(param)}'] = torch.zeros_like(param)\n",
    "                        \n",
    "                        # Momentum update\n",
    "                        self.cache_params[f'momentum_{id(param)}'].mul_(0.9).add_(grad, alpha=0.1)\n",
    "                        param.add_(self.cache_params[f'momentum_{id(param)}'], alpha=-self.eta)\n",
    "                \n",
    "                next_hidden = self.hidden_model(x)\n",
    "                \n",
    "        return next_hidden\n",
    "\n",
    "\n",
    "class TTTRNN(nn.Module):\n",
    "    def __init__(self, input_size, hidden_size, num_layers=2):\n",
    "        super().__init__()\n",
    "        self.hidden_size = hidden_size\n",
    "        self.num_layers = num_layers\n",
    "        \n",
    "        # Create TTT cells for each layer\n",
    "        self.cells = nn.ModuleList([\n",
    "            TTTCell(\n",
    "                input_size if i == 0 else hidden_size,\n",
    "                hidden_size\n",
    "            ) for i in range(num_layers)\n",
    "        ])\n",
    "    \n",
    "    def forward(self, x, hidden=None, is_training=True):\n",
    "        batch_size, seq_len, _ = x.shape\n",
    "        \n",
    "        if hidden is None:\n",
    "            hidden = [torch.zeros(batch_size, self.hidden_size).to(x.device)\n",
    "                     for _ in range(self.num_layers)]\n",
    "        \n",
    "        outputs = []\n",
    "        for t in range(seq_len):\n",
    "            layer_input = x[:, t, :]\n",
    "            for layer_idx, cell in enumerate(self.cells):\n",
    "                hidden[layer_idx] = cell(layer_input, hidden[layer_idx], is_training)\n",
    "                layer_input = hidden[layer_idx]\n",
    "            outputs.append(layer_input)\n",
    "            \n",
    "        outputs = torch.stack(outputs, dim=1)\n",
    "        return outputs, hidden\n",
    "\n",
    "\n",
    "class EEGClassifier(nn.Module):\n",
    "    def __init__(self, input_channels=1, num_classes=10, dropout_prob=0.5):\n",
    "        super().__init__()\n",
    "        self.cache_params = {}\n",
    "        \n",
    "        # Feature extractor\n",
    "        self.feature_extractor = nn.Sequential(\n",
    "            # Initial block\n",
    "            nn.Conv2d(input_channels, 32, kernel_size=3, padding=1),\n",
    "            nn.BatchNorm2d(32),\n",
    "            nn.ReLU(),\n",
    "            nn.MaxPool2d(2),  # 25x25\n",
    "            \n",
    "            # Second block\n",
    "            nn.Conv2d(32, 64, kernel_size=3, padding=1),\n",
    "            nn.BatchNorm2d(64),\n",
    "            nn.ReLU(),\n",
    "            nn.MaxPool2d(2),  # 12x12\n",
    "            \n",
    "            # Third block\n",
    "            nn.Conv2d(64, 128, kernel_size=3, padding=1),\n",
    "            nn.BatchNorm2d(128),\n",
    "            nn.ReLU(),\n",
    "            nn.MaxPool2d(2),  # 6x6\n",
    "            \n",
    "            # Fourth block with global pooling\n",
    "            nn.Conv2d(128, 256, kernel_size=3, padding=1),\n",
    "            nn.BatchNorm2d(256),\n",
    "            nn.ReLU(),\n",
    "            nn.AdaptiveAvgPool2d((1, 1))  # Global average pooling to 1x1\n",
    "        )\n",
    "        \n",
    "        # TTT blocks\n",
    "        self.ttt_blocks = nn.ModuleList([\n",
    "            TTTEEGBlock(hidden_size=256, num_heads=4)\n",
    "            for _ in range(2)\n",
    "        ])\n",
    "        \n",
    "        # Classification head\n",
    "        self.classifier = nn.Sequential(\n",
    "            nn.Linear(256, 512),  # Now using 256 features from global pooling\n",
    "            nn.ReLU(),\n",
    "            nn.Dropout(dropout_prob),\n",
    "            nn.Linear(512, num_classes)\n",
    "        )\n",
    "        \n",
    "        # Reconstruction decoder\n",
    "        self.decoder = nn.Sequential(\n",
    "            nn.Linear(256, 1024),  # From 256 features\n",
    "            nn.ReLU(),\n",
    "            nn.Linear(1024, 50 * 50)\n",
    "        )\n",
    "    \n",
    "    def forward(self, x):\n",
    "        # Print input shape for debugging\n",
    "        # print(\"Input shape:\", x.shape)\n",
    "        \n",
    "        # Ensure input shape [B, C, H, W]\n",
    "        if len(x.shape) == 3:\n",
    "            x = x.unsqueeze(1)\n",
    "        \n",
    "        # Extract features\n",
    "        features = self.feature_extractor(x)  # [B, 256, 1, 1]\n",
    "        # print(\"After feature extractor:\", features.shape)\n",
    "        \n",
    "        # Reshape for TTT blocks\n",
    "        features = features.squeeze(-1).squeeze(-1)  # [B, 256]\n",
    "        features = features.unsqueeze(1)  # [B, 1, 256]\n",
    "        \n",
    "        # Apply TTT blocks\n",
    "        for block in self.ttt_blocks:\n",
    "            features = block(features, self.cache_params)\n",
    "        \n",
    "        # Prepare for classification\n",
    "        features = features.squeeze(1)  # [B, 256]\n",
    "        \n",
    "        # Classification\n",
    "        logits = self.classifier(features)\n",
    "        \n",
    "        # Reconstruction\n",
    "        recon = self.decoder(features)\n",
    "        recon = recon.view(-1, 1, 50, 50)\n",
    "        \n",
    "        return logits, recon\n",
    "    \n",
    "def SEBlock(channels):\n",
    "    return nn.Sequential(\n",
    "        nn.AdaptiveAvgPool2d(1),\n",
    "        nn.Conv2d(channels, channels, kernel_size=1),\n",
    "        nn.Sigmoid()\n",
    "    )\n",
    "\n",
    "\n",
    "def ResidualBlock(in_channels, out_channels):\n",
    "    return nn.Sequential(\n",
    "        nn.Conv2d(in_channels, out_channels, kernel_size=3, padding=1),\n",
    "        nn.BatchNorm2d(out_channels),\n",
    "        nn.GELU(),\n",
    "        SEBlock(out_channels),\n",
    "    )"
   ]
  },
  {
   "cell_type": "code",
   "execution_count": 18,
   "metadata": {},
   "outputs": [],
   "source": [
    "import matplotlib.pyplot as plt\n",
    "from sklearn.metrics import f1_score, precision_score, recall_score, accuracy_score\n",
    "\n",
    "def train_model(model, train_loader, val_loader, num_epochs=50, learning_rate=0.001):\n",
    "    optimizer = optim.AdamW(model.parameters(), lr=learning_rate, weight_decay=0.01)\n",
    "    scheduler = optim.lr_scheduler.OneCycleLR(\n",
    "        optimizer,\n",
    "        max_lr=learning_rate,\n",
    "        epochs=num_epochs,\n",
    "        steps_per_epoch=len(train_loader)\n",
    "    )\n",
    "    criterion = nn.CrossEntropyLoss(label_smoothing=0.1)\n",
    "    \n",
    "    best_val_acc = 0\n",
    "    patience = 7\n",
    "    patience_counter = 0\n",
    "\n",
    "    # Initialize lists to store metrics\n",
    "    train_losses = []\n",
    "    val_losses = []\n",
    "    train_accuracies = []\n",
    "    val_accuracies = []\n",
    "    train_precisions = []\n",
    "    val_precisions = []\n",
    "    train_recalls = []\n",
    "    val_recalls = []\n",
    "    train_f1s = []\n",
    "    val_f1s = []\n",
    "    \n",
    "    for epoch in range(num_epochs):\n",
    "        model.train()\n",
    "        running_loss = 0.0\n",
    "        all_preds = []\n",
    "        all_labels = []\n",
    "        \n",
    "        pbar = tqdm(train_loader, desc=f'Epoch {epoch+1}/{num_epochs}')\n",
    "        for batch_idx, (inputs, labels) in enumerate(pbar):\n",
    "            inputs = inputs.float()\n",
    "            optimizer.zero_grad(set_to_none=True)\n",
    "            \n",
    "            try:\n",
    "                # Forward pass\n",
    "                outputs, recon = model(inputs)\n",
    "                \n",
    "                # Calculate losses\n",
    "                ce_loss = criterion(outputs, labels)\n",
    "                recon_loss = F.mse_loss(recon, inputs)\n",
    "                loss = ce_loss + 0.1 * recon_loss\n",
    "                \n",
    "                # Backward pass\n",
    "                loss.backward()\n",
    "                torch.nn.utils.clip_grad_norm_(model.parameters(), 1.0)\n",
    "                optimizer.step()\n",
    "                scheduler.step()\n",
    "                \n",
    "                # Update metrics\n",
    "                running_loss += loss.item()\n",
    "                _, predicted = outputs.max(1)\n",
    "                all_preds.extend(predicted.cpu().numpy())\n",
    "                all_labels.extend(labels.cpu().numpy())\n",
    "                \n",
    "                # Update progress bar\n",
    "                pbar.set_postfix({\n",
    "                    'loss': f'{running_loss/(batch_idx+1):.4f}',\n",
    "                })\n",
    "                \n",
    "            except RuntimeError as e:\n",
    "                print(f\"Error in batch {batch_idx}: {e}\")\n",
    "                print(f\"Input shape: {inputs.shape}\")\n",
    "                raise e\n",
    "            \n",
    "        # Compute metrics for the training phase\n",
    "        train_loss = running_loss / len(train_loader)\n",
    "        train_losses.append(train_loss)\n",
    "        train_f1 = f1_score(all_labels, all_preds, average='weighted')\n",
    "        train_precision = precision_score(all_labels, all_preds, average='weighted')\n",
    "        train_recall = recall_score(all_labels, all_preds, average='weighted')\n",
    "        train_accuracy = accuracy_score(all_labels, all_preds)\n",
    "        train_accuracies.append(train_accuracy)\n",
    "        train_precisions.append(train_precision)\n",
    "        train_recalls.append(train_recall)\n",
    "        train_f1s.append(train_f1)\n",
    "        \n",
    "        print(f\"\\nEpoch {epoch+1} Training - Accuracy: {train_accuracy:.4f}, F1: {train_f1:.4f}, Precision: {train_precision:.4f}, Recall: {train_recall:.4f}\")\n",
    "        \n",
    "        # Validation phase\n",
    "        model.eval()\n",
    "        val_preds = []\n",
    "        val_labels = []\n",
    "        val_running_loss = 0.0\n",
    "        \n",
    "        with torch.no_grad():\n",
    "            for inputs, labels in val_loader:\n",
    "                inputs = inputs.float()\n",
    "                outputs, recon = model(inputs)\n",
    "                ce_loss = criterion(outputs, labels)\n",
    "                recon_loss = F.mse_loss(recon, inputs)\n",
    "                loss = ce_loss + 0.1 * recon_loss\n",
    "                val_running_loss += loss.item()\n",
    "                _, predicted = outputs.max(1)\n",
    "                val_preds.extend(predicted.cpu().numpy())\n",
    "                val_labels.extend(labels.cpu().numpy())\n",
    "        \n",
    "        # Compute metrics for the validation phase\n",
    "        val_loss = val_running_loss / len(val_loader)\n",
    "        val_losses.append(val_loss)\n",
    "        val_f1 = f1_score(val_labels, val_preds, average='weighted')\n",
    "        val_precision = precision_score(val_labels, val_preds, average='weighted')\n",
    "        val_recall = recall_score(val_labels, val_preds, average='weighted')\n",
    "        val_accuracy = accuracy_score(val_labels, val_preds)\n",
    "        val_accuracies.append(val_accuracy)\n",
    "        val_precisions.append(val_precision)\n",
    "        val_recalls.append(val_recall)\n",
    "        val_f1s.append(val_f1)\n",
    "        \n",
    "        print(f\"\\nEpoch {epoch+1} Validation - Accuracy: {val_accuracy:.4f}, F1: {val_f1:.4f}, Precision: {val_precision:.4f}, Recall: {val_recall:.4f}\")\n",
    "        \n",
    "        # Early stopping\n",
    "        if val_accuracy > best_val_acc:\n",
    "            best_val_acc = val_accuracy\n",
    "            patience_counter = 0\n",
    "            torch.save({\n",
    "                'epoch': epoch,\n",
    "                'model_state_dict': model.state_dict(),\n",
    "                'optimizer_state_dict': optimizer.state_dict(),\n",
    "                'val_acc': val_accuracy,\n",
    "            }, 'best_model_latest.pth')\n",
    "        else:\n",
    "            patience_counter += 1\n",
    "            # if patience_counter >= patience:\n",
    "            #     print(f'Early stopping triggered. Best validation accuracy: {best_val_acc:.4f}')\n",
    "            #     checkpoint = torch.load('best_model.pth')\n",
    "            #     model.load_state_dict(checkpoint['model_state_dict'])\n",
    "            #     break\n",
    "    \n",
    "    # Plot the metrics\n",
    "    epochs = range(1, num_epochs + 1)\n",
    "\n",
    "    plt.figure(figsize=(12, 10))\n",
    "\n",
    "    plt.subplot(2, 2, 1)\n",
    "    plt.plot(epochs, train_losses, label='Train Loss')\n",
    "    plt.plot(epochs, val_losses, label='Val Loss')\n",
    "    plt.title('Loss')\n",
    "    plt.xlabel('Epoch')\n",
    "    plt.ylabel('Loss')\n",
    "    plt.legend()\n",
    "\n",
    "    plt.subplot(2, 2, 2)\n",
    "    plt.plot(epochs, train_accuracies, label='Train Accuracy')\n",
    "    plt.plot(epochs, val_accuracies, label='Val Accuracy')\n",
    "    plt.title('Accuracy')\n",
    "    plt.xlabel('Epoch')\n",
    "    plt.ylabel('Accuracy')\n",
    "    plt.legend()\n",
    "\n",
    "    plt.subplot(2, 2, 3)\n",
    "    plt.plot(epochs, train_precisions, label='Train Precision')\n",
    "    plt.plot(epochs, val_precisions, label='Val Precision')\n",
    "    plt.title('Precision')\n",
    "    plt.xlabel('Epoch')\n",
    "    plt.ylabel('Precision')\n",
    "    plt.legend()\n",
    "\n",
    "    plt.subplot(2, 2, 4)\n",
    "    plt.plot(epochs, train_recalls, label='Train Recall')\n",
    "    plt.plot(epochs, val_recalls, label='Val Recall')\n",
    "    plt.title('Recall')\n",
    "    plt.xlabel('Epoch')\n",
    "    plt.ylabel('Recall')\n",
    "    plt.legend()\n",
    "\n",
    "    plt.tight_layout()\n",
    "    plt.show()\n",
    "    \n",
    "    return model"
   ]
  },
  {
   "cell_type": "code",
   "execution_count": 19,
   "metadata": {},
   "outputs": [],
   "source": [
    "class EEGDataset(Dataset):\n",
    "    def __init__(self, data, labels, augment=False):\n",
    "        self.data = []\n",
    "        self.labels = []\n",
    "        \n",
    "        for i, eeg in enumerate(tqdm(data, desc=\"Creating spectrograms\")):\n",
    "            for channel in range(eeg.shape[0]):\n",
    "                spectrogram = create_spectrogram(preprocess_eeg(eeg[channel]))\n",
    "                if augment:\n",
    "                    # Add more augmentations\n",
    "                    specs = [\n",
    "                        spectrogram,\n",
    "                        jitter(spectrogram, sigma=0.01),\n",
    "                        scaling(spectrogram, sigma=0.1),\n",
    "                        add_noise(spectrogram, noise_level=0.01),\n",
    "                        time_warp(spectrogram, sigma=2)\n",
    "                    ]\n",
    "                    for spec in specs:\n",
    "                        self.data.append(spec)\n",
    "                        self.labels.append(labels[i])\n",
    "                else:\n",
    "                    self.data.append(spectrogram)\n",
    "                    self.labels.append(labels[i])\n",
    "        \n",
    "        self.data = torch.FloatTensor(np.stack(self.data))\n",
    "        self.data = self.data.unsqueeze(1)\n",
    "        self.labels = torch.LongTensor(self.labels)\n",
    "\n",
    "    def __len__(self):\n",
    "        return len(self.data)\n",
    "\n",
    "    def __getitem__(self, idx):\n",
    "        return self.data[idx], self.labels[idx]\n",
    "\n",
    "def add_noise(x, noise_level=0.01):\n",
    "    return x + np.random.randn(*x.shape) * noise_level\n",
    "\n",
    "def time_warp(x, sigma=2):\n",
    "    \"\"\"Apply time warping to a 2D spectrogram.\"\"\"\n",
    "    x = np.array(x)\n",
    "    if len(x.shape) != 2:\n",
    "        raise ValueError(f\"Expected 2D input, got shape {x.shape}\")\n",
    "        \n",
    "    time_steps = np.arange(x.shape[1])\n",
    "    # Generate random warping\n",
    "    warp = np.random.normal(loc=1.0, scale=sigma, size=(1,))\n",
    "    warp_steps = time_steps * warp\n",
    "    \n",
    "    # Ensure warp_steps are within bounds\n",
    "    warp_steps = np.clip(warp_steps, 0, x.shape[1]-1)\n",
    "    \n",
    "    # Apply warping to each frequency bin\n",
    "    warped = np.zeros_like(x)\n",
    "    for i in range(x.shape[0]):\n",
    "        warped[i, :] = np.interp(time_steps, warp_steps, x[i, :])\n",
    "    \n",
    "    return warped\n",
    "\n",
    "def jitter(x, sigma=0.01):\n",
    "    \"\"\"Add random jitter noise.\"\"\"\n",
    "    return x + np.random.normal(0, sigma, x.shape)\n",
    "\n",
    "def scaling(x, sigma=0.1):\n",
    "    \"\"\"Apply random scaling.\"\"\"\n",
    "    factor = np.random.normal(1.0, sigma)\n",
    "    return x * factor"
   ]
  },
  {
   "cell_type": "code",
   "execution_count": 20,
   "metadata": {},
   "outputs": [
    {
     "name": "stdout",
     "output_type": "stream",
     "text": [
      "(84, 6, 2500) [3 4 5 6 7 8 9]\n",
      "(36, 6, 2500) [0 1 2]\n",
      "Class shape: (120,)\n",
      "Data shape: (120, 6, 2500)\n"
     ]
    },
    {
     "name": "stderr",
     "output_type": "stream",
     "text": [
      "Creating spectrograms: 100%|██████████| 120/120 [00:01<00:00, 106.35it/s]\n"
     ]
    }
   ],
   "source": [
    "def load_eeg_data(file_path):\n",
    "    \"\"\"Load EEG data from OpenBCI-RAW files\"\"\"\n",
    "    try:\n",
    "        # Skip header rows and load only first 6 EEG channels\n",
    "        data = pd.read_csv(file_path, skiprows=6)\n",
    "        eeg_data = data.iloc[:, 1:7].values\n",
    "        return eeg_data\n",
    "    except Exception as e:\n",
    "        print(f\"Error loading file {file_path}: {e}\")\n",
    "        return None\n",
    "def load_folder_data(root_path, tasks=['baseline', 'counting', 'logical', 'rotation']):\n",
    "    root = Path(root_path)\n",
    "    X, y = [], []\n",
    "    subjects = [d for d in root.iterdir() if d.is_dir() and d.name in ['eshwa', 'Giri', 'Nithish']]\n",
    "    \n",
    "    for subject_idx, subject in enumerate(subjects):\n",
    "        for task in tasks:\n",
    "            session_pattern = f\"OpenBCISession_{subject.name.lower()}_{task}_*\"\n",
    "            sessions = list(subject.glob(session_pattern))\n",
    "            \n",
    "            for session in sessions:\n",
    "                raw_files = list(session.glob(\"OpenBCI-RAW-*.txt\"))\n",
    "                \n",
    "                for raw_file in raw_files:\n",
    "                    eeg_data = load_eeg_data(raw_file)\n",
    "                    if eeg_data is not None:\n",
    "                        # Ensure we have enough data to slice 2500 samples\n",
    "                        if eeg_data.shape[0] >= 6250:\n",
    "                            # Extract 2500 samples from each of the 6 channels\n",
    "                            X.append(eeg_data[3750:6250, :6])  # Assuming 6 channels\n",
    "                            y.append(subject_idx)\n",
    "    \n",
    "    # Convert to numpy arrays\n",
    "    X = np.array(X)\n",
    "    y = np.array(y)\n",
    "    \n",
    "    # Check if we have the desired number of samples\n",
    "    if X.shape[0] != 36:\n",
    "        print(f\"Warning: Expected 36 samples, but got {X.shape[0]}\")\n",
    "    \n",
    "    return X, y\n",
    "    \n",
    "mat_inputs, mat_targets = load_mat_data('eegdata.mat')\n",
    "folder_inputs, folder_targets = load_folder_data('dataset')\n",
    "if mat_inputs.ndim == 3 and folder_inputs.ndim == 2:\n",
    "    folder_inputs = folder_inputs[:, np.newaxis, :]  \n",
    "\n",
    "print(mat_inputs.shape,np.unique(mat_targets))\n",
    "\n",
    "folder_inputs = folder_inputs.transpose(0, 2, 1)\n",
    "print(folder_inputs.shape,np.unique(folder_targets))\n",
    "X = np.concatenate((folder_inputs,mat_inputs), axis=0)\n",
    "y = np.concatenate((folder_targets,mat_targets), axis=0)\n",
    "\n",
    "# Print class and data shapes\n",
    "print(f\"Class shape: {y.shape}\")\n",
    "print(f\"Data shape: {X.shape}\")\n",
    "\n",
    "# Prepare data loaders\n",
    "dataset = EEGDataset(X, y, augment=True)\n",
    "train_size = int(0.8 * len(dataset))\n",
    "val_size = len(dataset) - train_size\n",
    "train_dataset, val_dataset = torch.utils.data.random_split(dataset, [train_size, val_size])\n",
    "train_loader = DataLoader(train_dataset, batch_size=16, shuffle=True)\n",
    "val_loader = DataLoader(val_dataset, batch_size=16)\n"
   ]
  },
  {
   "cell_type": "code",
   "execution_count": 21,
   "metadata": {},
   "outputs": [
    {
     "data": {
      "image/png": "[encoded data removed]",
      "text/plain": [
       "<Figure size 640x480 with 2 Axes>"
      ]
     },
     "metadata": {},
     "output_type": "display_data"
    },
    {
     "name": "stdout",
     "output_type": "stream",
     "text": [
      "0\n"
     ]
    },
    {
     "data": {
      "text/plain": [
       "array([0, 0, 0, 0, 0, 0, 0, 0, 0, 0, 0, 0, 1, 1, 1, 1, 1, 1, 1, 1, 1, 1,\n",
       "       1, 1, 2, 2, 2, 2, 2, 2, 2, 2, 2, 2, 2, 2, 3, 3, 3, 3, 3, 3, 3, 3,\n",
       "       3, 3, 3, 3, 4, 4, 4, 4, 4, 4, 4, 4, 4, 4, 4, 4, 5, 5, 5, 5, 5, 5,\n",
       "       5, 5, 5, 5, 5, 5, 6, 6, 6, 6, 6, 6, 6, 6, 6, 6, 6, 6, 7, 7, 7, 7,\n",
       "       7, 7, 7, 7, 7, 7, 7, 7, 8, 8, 8, 8, 8, 8, 8, 8, 8, 8, 8, 8, 9, 9,\n",
       "       9, 9, 9, 9, 9, 9, 9, 9, 9, 9])"
      ]
     },
     "execution_count": 21,
     "metadata": {},
     "output_type": "execute_result"
    }
   ],
   "source": [
    "plt.imshow(create_spectrogram(X[0][0]), aspect='auto', cmap='viridis')\n",
    "plt.title('Sample Spectrogram')\n",
    "plt.xlabel('Time')\n",
    "plt.ylabel('Frequency')\n",
    "plt.colorbar()\n",
    "plt.show()\n",
    "print(y[0])\n",
    "y"
   ]
  },
  {
   "cell_type": "code",
   "execution_count": 22,
   "metadata": {},
   "outputs": [
    {
     "name": "stderr",
     "output_type": "stream",
     "text": [
      "Creating spectrograms: 100%|██████████| 120/120 [00:01<00:00, 107.28it/s]\n",
      "Epoch 1/100: 100%|██████████| 180/180 [00:27<00:00,  6.52it/s, loss=1.8765]\n"
     ]
    },
    {
     "name": "stdout",
     "output_type": "stream",
     "text": [
      "\n",
      "Epoch 1 Training - Accuracy: 0.3611, F1: 0.3492, Precision: 0.3629, Recall: 0.3611\n",
      "\n",
      "Epoch 1 Validation - Accuracy: 0.5306, F1: 0.4983, Precision: 0.5996, Recall: 0.5306\n"
     ]
    },
    {
     "name": "stderr",
     "output_type": "stream",
     "text": [
      "Epoch 2/100: 100%|██████████| 180/180 [00:29<00:00,  6.11it/s, loss=1.4706]\n"
     ]
    },
    {
     "name": "stdout",
     "output_type": "stream",
     "text": [
      "\n",
      "Epoch 2 Training - Accuracy: 0.5788, F1: 0.5715, Precision: 0.5814, Recall: 0.5788\n",
      "\n",
      "Epoch 2 Validation - Accuracy: 0.7028, F1: 0.6978, Precision: 0.7141, Recall: 0.7028\n"
     ]
    },
    {
     "name": "stderr",
     "output_type": "stream",
     "text": [
      "Epoch 3/100: 100%|██████████| 180/180 [00:30<00:00,  5.83it/s, loss=1.2106]\n"
     ]
    },
    {
     "name": "stdout",
     "output_type": "stream",
     "text": [
      "\n",
      "Epoch 3 Training - Accuracy: 0.7149, F1: 0.7113, Precision: 0.7152, Recall: 0.7149\n",
      "\n",
      "Epoch 3 Validation - Accuracy: 0.7306, F1: 0.7214, Precision: 0.7734, Recall: 0.7306\n"
     ]
    },
    {
     "name": "stderr",
     "output_type": "stream",
     "text": [
      "Epoch 4/100: 100%|██████████| 180/180 [00:30<00:00,  5.99it/s, loss=0.9966]\n"
     ]
    },
    {
     "name": "stdout",
     "output_type": "stream",
     "text": [
      "\n",
      "Epoch 4 Training - Accuracy: 0.8313, F1: 0.8303, Precision: 0.8316, Recall: 0.8313\n",
      "\n",
      "Epoch 4 Validation - Accuracy: 0.6458, F1: 0.6450, Precision: 0.7728, Recall: 0.6458\n"
     ]
    },
    {
     "name": "stderr",
     "output_type": "stream",
     "text": [
      "Epoch 5/100: 100%|██████████| 180/180 [00:31<00:00,  5.74it/s, loss=0.8744]\n"
     ]
    },
    {
     "name": "stdout",
     "output_type": "stream",
     "text": [
      "\n",
      "Epoch 5 Training - Accuracy: 0.8694, F1: 0.8689, Precision: 0.8689, Recall: 0.8694\n",
      "\n",
      "Epoch 5 Validation - Accuracy: 0.8861, F1: 0.8864, Precision: 0.8904, Recall: 0.8861\n"
     ]
    },
    {
     "name": "stderr",
     "output_type": "stream",
     "text": [
      "Epoch 6/100: 100%|██████████| 180/180 [00:33<00:00,  5.42it/s, loss=0.7891]\n"
     ]
    },
    {
     "name": "stdout",
     "output_type": "stream",
     "text": [
      "\n",
      "Epoch 6 Training - Accuracy: 0.9069, F1: 0.9068, Precision: 0.9068, Recall: 0.9069\n",
      "\n",
      "Epoch 6 Validation - Accuracy: 0.6667, F1: 0.6295, Precision: 0.8039, Recall: 0.6667\n"
     ]
    },
    {
     "name": "stderr",
     "output_type": "stream",
     "text": [
      "Epoch 7/100: 100%|██████████| 180/180 [00:30<00:00,  5.83it/s, loss=0.7481]\n"
     ]
    },
    {
     "name": "stdout",
     "output_type": "stream",
     "text": [
      "\n",
      "Epoch 7 Training - Accuracy: 0.9233, F1: 0.9232, Precision: 0.9233, Recall: 0.9233\n",
      "\n",
      "Epoch 7 Validation - Accuracy: 0.8236, F1: 0.8134, Precision: 0.8516, Recall: 0.8236\n"
     ]
    },
    {
     "name": "stderr",
     "output_type": "stream",
     "text": [
      "Epoch 8/100: 100%|██████████| 180/180 [00:31<00:00,  5.81it/s, loss=0.7289]\n"
     ]
    },
    {
     "name": "stdout",
     "output_type": "stream",
     "text": [
      "\n",
      "Epoch 8 Training - Accuracy: 0.9278, F1: 0.9278, Precision: 0.9279, Recall: 0.9278\n",
      "\n",
      "Epoch 8 Validation - Accuracy: 0.7097, F1: 0.6538, Precision: 0.7347, Recall: 0.7097\n"
     ]
    },
    {
     "name": "stderr",
     "output_type": "stream",
     "text": [
      "Epoch 9/100: 100%|██████████| 180/180 [00:31<00:00,  5.66it/s, loss=0.7125]\n"
     ]
    },
    {
     "name": "stdout",
     "output_type": "stream",
     "text": [
      "\n",
      "Epoch 9 Training - Accuracy: 0.9392, F1: 0.9393, Precision: 0.9395, Recall: 0.9392\n",
      "\n",
      "Epoch 9 Validation - Accuracy: 0.2847, F1: 0.2580, Precision: 0.8336, Recall: 0.2847\n"
     ]
    },
    {
     "name": "stderr",
     "output_type": "stream",
     "text": [
      "Epoch 10/100: 100%|██████████| 180/180 [00:33<00:00,  5.40it/s, loss=0.6976]\n"
     ]
    },
    {
     "name": "stdout",
     "output_type": "stream",
     "text": [
      "\n",
      "Epoch 10 Training - Accuracy: 0.9441, F1: 0.9441, Precision: 0.9442, Recall: 0.9441\n",
      "\n",
      "Epoch 10 Validation - Accuracy: 0.8833, F1: 0.8763, Precision: 0.8935, Recall: 0.8833\n"
     ]
    },
    {
     "name": "stderr",
     "output_type": "stream",
     "text": [
      "Epoch 11/100: 100%|██████████| 180/180 [00:35<00:00,  5.08it/s, loss=0.6995]\n"
     ]
    },
    {
     "name": "stdout",
     "output_type": "stream",
     "text": [
      "\n",
      "Epoch 11 Training - Accuracy: 0.9358, F1: 0.9357, Precision: 0.9359, Recall: 0.9358\n"
     ]
    },
    {
     "name": "stderr",
     "output_type": "stream",
     "text": [
      "C:\\Users\\eshwa\\AppData\\Local\\Packages\\PythonSoftwareFoundation.Python.3.12_qbz5n2kfra8p0\\LocalCache\\local-packages\\Python312\\site-packages\\sklearn\\metrics\\_classification.py:1531: UndefinedMetricWarning: Precision is ill-defined and being set to 0.0 in labels with no predicted samples. Use `zero_division` parameter to control this behavior.\n",
      "  _warn_prf(average, modifier, f\"{metric.capitalize()} is\", len(result))\n"
     ]
    },
    {
     "name": "stdout",
     "output_type": "stream",
     "text": [
      "\n",
      "Epoch 11 Validation - Accuracy: 0.6528, F1: 0.6046, Precision: 0.6207, Recall: 0.6528\n"
     ]
    },
    {
     "name": "stderr",
     "output_type": "stream",
     "text": [
      "Epoch 12/100: 100%|██████████| 180/180 [00:35<00:00,  5.08it/s, loss=0.6940]\n"
     ]
    },
    {
     "name": "stdout",
     "output_type": "stream",
     "text": [
      "\n",
      "Epoch 12 Training - Accuracy: 0.9455, F1: 0.9455, Precision: 0.9456, Recall: 0.9455\n",
      "\n",
      "Epoch 12 Validation - Accuracy: 0.6972, F1: 0.6685, Precision: 0.8418, Recall: 0.6972\n"
     ]
    },
    {
     "name": "stderr",
     "output_type": "stream",
     "text": [
      "Epoch 13/100: 100%|██████████| 180/180 [00:37<00:00,  4.75it/s, loss=0.6755]\n"
     ]
    },
    {
     "name": "stdout",
     "output_type": "stream",
     "text": [
      "\n",
      "Epoch 13 Training - Accuracy: 0.9542, F1: 0.9542, Precision: 0.9543, Recall: 0.9542\n",
      "\n",
      "Epoch 13 Validation - Accuracy: 0.7389, F1: 0.7438, Precision: 0.8666, Recall: 0.7389\n"
     ]
    },
    {
     "name": "stderr",
     "output_type": "stream",
     "text": [
      "Epoch 14/100: 100%|██████████| 180/180 [00:38<00:00,  4.71it/s, loss=0.6816]\n"
     ]
    },
    {
     "name": "stdout",
     "output_type": "stream",
     "text": [
      "\n",
      "Epoch 14 Training - Accuracy: 0.9441, F1: 0.9440, Precision: 0.9443, Recall: 0.9441\n"
     ]
    },
    {
     "name": "stderr",
     "output_type": "stream",
     "text": [
      "C:\\Users\\eshwa\\AppData\\Local\\Packages\\PythonSoftwareFoundation.Python.3.12_qbz5n2kfra8p0\\LocalCache\\local-packages\\Python312\\site-packages\\sklearn\\metrics\\_classification.py:1531: UndefinedMetricWarning: Precision is ill-defined and being set to 0.0 in labels with no predicted samples. Use `zero_division` parameter to control this behavior.\n",
      "  _warn_prf(average, modifier, f\"{metric.capitalize()} is\", len(result))\n"
     ]
    },
    {
     "name": "stdout",
     "output_type": "stream",
     "text": [
      "\n",
      "Epoch 14 Validation - Accuracy: 0.6194, F1: 0.5442, Precision: 0.5746, Recall: 0.6194\n"
     ]
    },
    {
     "name": "stderr",
     "output_type": "stream",
     "text": [
      "Epoch 15/100: 100%|██████████| 180/180 [00:37<00:00,  4.80it/s, loss=0.6597]\n"
     ]
    },
    {
     "name": "stdout",
     "output_type": "stream",
     "text": [
      "\n",
      "Epoch 15 Training - Accuracy: 0.9549, F1: 0.9549, Precision: 0.9551, Recall: 0.9549\n",
      "\n",
      "Epoch 15 Validation - Accuracy: 0.7333, F1: 0.7189, Precision: 0.8320, Recall: 0.7333\n"
     ]
    },
    {
     "name": "stderr",
     "output_type": "stream",
     "text": [
      "Epoch 16/100: 100%|██████████| 180/180 [00:38<00:00,  4.71it/s, loss=0.6795]\n"
     ]
    },
    {
     "name": "stdout",
     "output_type": "stream",
     "text": [
      "\n",
      "Epoch 16 Training - Accuracy: 0.9444, F1: 0.9444, Precision: 0.9446, Recall: 0.9444\n",
      "\n",
      "Epoch 16 Validation - Accuracy: 0.7694, F1: 0.7435, Precision: 0.8123, Recall: 0.7694\n"
     ]
    },
    {
     "name": "stderr",
     "output_type": "stream",
     "text": [
      "Epoch 17/100: 100%|██████████| 180/180 [00:38<00:00,  4.74it/s, loss=0.6653]\n"
     ]
    },
    {
     "name": "stdout",
     "output_type": "stream",
     "text": [
      "\n",
      "Epoch 17 Training - Accuracy: 0.9542, F1: 0.9542, Precision: 0.9545, Recall: 0.9542\n"
     ]
    },
    {
     "name": "stderr",
     "output_type": "stream",
     "text": [
      "C:\\Users\\eshwa\\AppData\\Local\\Packages\\PythonSoftwareFoundation.Python.3.12_qbz5n2kfra8p0\\LocalCache\\local-packages\\Python312\\site-packages\\sklearn\\metrics\\_classification.py:1531: UndefinedMetricWarning: Precision is ill-defined and being set to 0.0 in labels with no predicted samples. Use `zero_division` parameter to control this behavior.\n",
      "  _warn_prf(average, modifier, f\"{metric.capitalize()} is\", len(result))\n"
     ]
    },
    {
     "name": "stdout",
     "output_type": "stream",
     "text": [
      "\n",
      "Epoch 17 Validation - Accuracy: 0.6139, F1: 0.5911, Precision: 0.7309, Recall: 0.6139\n"
     ]
    },
    {
     "name": "stderr",
     "output_type": "stream",
     "text": [
      "Epoch 18/100: 100%|██████████| 180/180 [00:39<00:00,  4.54it/s, loss=0.6536]\n"
     ]
    },
    {
     "name": "stdout",
     "output_type": "stream",
     "text": [
      "\n",
      "Epoch 18 Training - Accuracy: 0.9604, F1: 0.9605, Precision: 0.9607, Recall: 0.9604\n"
     ]
    },
    {
     "name": "stderr",
     "output_type": "stream",
     "text": [
      "C:\\Users\\eshwa\\AppData\\Local\\Packages\\PythonSoftwareFoundation.Python.3.12_qbz5n2kfra8p0\\LocalCache\\local-packages\\Python312\\site-packages\\sklearn\\metrics\\_classification.py:1531: UndefinedMetricWarning: Precision is ill-defined and being set to 0.0 in labels with no predicted samples. Use `zero_division` parameter to control this behavior.\n",
      "  _warn_prf(average, modifier, f\"{metric.capitalize()} is\", len(result))\n"
     ]
    },
    {
     "name": "stdout",
     "output_type": "stream",
     "text": [
      "\n",
      "Epoch 18 Validation - Accuracy: 0.7139, F1: 0.6966, Precision: 0.7855, Recall: 0.7139\n"
     ]
    },
    {
     "name": "stderr",
     "output_type": "stream",
     "text": [
      "Epoch 19/100: 100%|██████████| 180/180 [00:41<00:00,  4.35it/s, loss=0.6335]\n"
     ]
    },
    {
     "name": "stdout",
     "output_type": "stream",
     "text": [
      "\n",
      "Epoch 19 Training - Accuracy: 0.9649, F1: 0.9649, Precision: 0.9650, Recall: 0.9649\n",
      "\n",
      "Epoch 19 Validation - Accuracy: 0.7375, F1: 0.7198, Precision: 0.8340, Recall: 0.7375\n"
     ]
    },
    {
     "name": "stderr",
     "output_type": "stream",
     "text": [
      "Epoch 20/100: 100%|██████████| 180/180 [00:43<00:00,  4.18it/s, loss=0.6266]\n"
     ]
    },
    {
     "name": "stdout",
     "output_type": "stream",
     "text": [
      "\n",
      "Epoch 20 Training - Accuracy: 0.9729, F1: 0.9729, Precision: 0.9731, Recall: 0.9729\n",
      "\n",
      "Epoch 20 Validation - Accuracy: 0.7750, F1: 0.7534, Precision: 0.8502, Recall: 0.7750\n"
     ]
    },
    {
     "name": "stderr",
     "output_type": "stream",
     "text": [
      "Epoch 21/100: 100%|██████████| 180/180 [00:45<00:00,  3.97it/s, loss=0.6259]\n"
     ]
    },
    {
     "name": "stdout",
     "output_type": "stream",
     "text": [
      "\n",
      "Epoch 21 Training - Accuracy: 0.9722, F1: 0.9722, Precision: 0.9723, Recall: 0.9722\n",
      "\n",
      "Epoch 21 Validation - Accuracy: 0.7597, F1: 0.7315, Precision: 0.8402, Recall: 0.7597\n"
     ]
    },
    {
     "name": "stderr",
     "output_type": "stream",
     "text": [
      "Epoch 22/100: 100%|██████████| 180/180 [00:44<00:00,  4.06it/s, loss=0.6136]\n"
     ]
    },
    {
     "name": "stdout",
     "output_type": "stream",
     "text": [
      "\n",
      "Epoch 22 Training - Accuracy: 0.9778, F1: 0.9778, Precision: 0.9778, Recall: 0.9778\n",
      "\n",
      "Epoch 22 Validation - Accuracy: 0.8653, F1: 0.8654, Precision: 0.9049, Recall: 0.8653\n"
     ]
    },
    {
     "name": "stderr",
     "output_type": "stream",
     "text": [
      "Epoch 23/100: 100%|██████████| 180/180 [00:45<00:00,  3.96it/s, loss=0.6054]\n"
     ]
    },
    {
     "name": "stdout",
     "output_type": "stream",
     "text": [
      "\n",
      "Epoch 23 Training - Accuracy: 0.9788, F1: 0.9788, Precision: 0.9790, Recall: 0.9788\n",
      "\n",
      "Epoch 23 Validation - Accuracy: 0.5583, F1: 0.5070, Precision: 0.6656, Recall: 0.5583\n"
     ]
    },
    {
     "name": "stderr",
     "output_type": "stream",
     "text": [
      "Epoch 24/100: 100%|██████████| 180/180 [00:45<00:00,  3.96it/s, loss=0.6012]\n"
     ]
    },
    {
     "name": "stdout",
     "output_type": "stream",
     "text": [
      "\n",
      "Epoch 24 Training - Accuracy: 0.9806, F1: 0.9806, Precision: 0.9806, Recall: 0.9806\n",
      "\n",
      "Epoch 24 Validation - Accuracy: 0.6014, F1: 0.5857, Precision: 0.8642, Recall: 0.6014\n"
     ]
    },
    {
     "name": "stderr",
     "output_type": "stream",
     "text": [
      "Epoch 25/100: 100%|██████████| 180/180 [00:46<00:00,  3.86it/s, loss=0.5928]\n"
     ]
    },
    {
     "name": "stdout",
     "output_type": "stream",
     "text": [
      "\n",
      "Epoch 25 Training - Accuracy: 0.9823, F1: 0.9823, Precision: 0.9824, Recall: 0.9823\n"
     ]
    },
    {
     "name": "stderr",
     "output_type": "stream",
     "text": [
      "C:\\Users\\eshwa\\AppData\\Local\\Packages\\PythonSoftwareFoundation.Python.3.12_qbz5n2kfra8p0\\LocalCache\\local-packages\\Python312\\site-packages\\sklearn\\metrics\\_classification.py:1531: UndefinedMetricWarning: Precision is ill-defined and being set to 0.0 in labels with no predicted samples. Use `zero_division` parameter to control this behavior.\n",
      "  _warn_prf(average, modifier, f\"{metric.capitalize()} is\", len(result))\n"
     ]
    },
    {
     "name": "stdout",
     "output_type": "stream",
     "text": [
      "\n",
      "Epoch 25 Validation - Accuracy: 0.6139, F1: 0.5829, Precision: 0.7065, Recall: 0.6139\n"
     ]
    },
    {
     "name": "stderr",
     "output_type": "stream",
     "text": [
      "Epoch 26/100: 100%|██████████| 180/180 [00:46<00:00,  3.85it/s, loss=0.5874]\n"
     ]
    },
    {
     "name": "stdout",
     "output_type": "stream",
     "text": [
      "\n",
      "Epoch 26 Training - Accuracy: 0.9837, F1: 0.9837, Precision: 0.9838, Recall: 0.9837\n",
      "\n",
      "Epoch 26 Validation - Accuracy: 0.9250, F1: 0.9256, Precision: 0.9333, Recall: 0.9250\n"
     ]
    },
    {
     "name": "stderr",
     "output_type": "stream",
     "text": [
      "Epoch 27/100: 100%|██████████| 180/180 [00:46<00:00,  3.85it/s, loss=0.5887]\n"
     ]
    },
    {
     "name": "stdout",
     "output_type": "stream",
     "text": [
      "\n",
      "Epoch 27 Training - Accuracy: 0.9840, F1: 0.9840, Precision: 0.9841, Recall: 0.9840\n",
      "\n",
      "Epoch 27 Validation - Accuracy: 0.8125, F1: 0.7873, Precision: 0.8631, Recall: 0.8125\n"
     ]
    },
    {
     "name": "stderr",
     "output_type": "stream",
     "text": [
      "Epoch 28/100: 100%|██████████| 180/180 [00:47<00:00,  3.79it/s, loss=0.5715]\n"
     ]
    },
    {
     "name": "stdout",
     "output_type": "stream",
     "text": [
      "\n",
      "Epoch 28 Training - Accuracy: 0.9892, F1: 0.9892, Precision: 0.9892, Recall: 0.9892\n",
      "\n",
      "Epoch 28 Validation - Accuracy: 0.8847, F1: 0.8832, Precision: 0.8982, Recall: 0.8847\n"
     ]
    },
    {
     "name": "stderr",
     "output_type": "stream",
     "text": [
      "Epoch 29/100: 100%|██████████| 180/180 [00:49<00:00,  3.66it/s, loss=0.5795]\n"
     ]
    },
    {
     "name": "stdout",
     "output_type": "stream",
     "text": [
      "\n",
      "Epoch 29 Training - Accuracy: 0.9892, F1: 0.9892, Precision: 0.9893, Recall: 0.9892\n",
      "\n",
      "Epoch 29 Validation - Accuracy: 0.9125, F1: 0.9133, Precision: 0.9220, Recall: 0.9125\n"
     ]
    },
    {
     "name": "stderr",
     "output_type": "stream",
     "text": [
      "Epoch 30/100: 100%|██████████| 180/180 [00:48<00:00,  3.74it/s, loss=0.5636]\n"
     ]
    },
    {
     "name": "stdout",
     "output_type": "stream",
     "text": [
      "\n",
      "Epoch 30 Training - Accuracy: 0.9924, F1: 0.9924, Precision: 0.9924, Recall: 0.9924\n",
      "\n",
      "Epoch 30 Validation - Accuracy: 0.8222, F1: 0.8074, Precision: 0.8787, Recall: 0.8222\n"
     ]
    },
    {
     "name": "stderr",
     "output_type": "stream",
     "text": [
      "Epoch 31/100: 100%|██████████| 180/180 [00:48<00:00,  3.74it/s, loss=0.5603]\n"
     ]
    },
    {
     "name": "stdout",
     "output_type": "stream",
     "text": [
      "\n",
      "Epoch 31 Training - Accuracy: 0.9934, F1: 0.9934, Precision: 0.9934, Recall: 0.9934\n",
      "\n",
      "Epoch 31 Validation - Accuracy: 0.8722, F1: 0.8783, Precision: 0.9102, Recall: 0.8722\n"
     ]
    },
    {
     "name": "stderr",
     "output_type": "stream",
     "text": [
      "Epoch 32/100: 100%|██████████| 180/180 [00:47<00:00,  3.75it/s, loss=0.5621]\n"
     ]
    },
    {
     "name": "stdout",
     "output_type": "stream",
     "text": [
      "\n",
      "Epoch 32 Training - Accuracy: 0.9913, F1: 0.9913, Precision: 0.9913, Recall: 0.9913\n",
      "\n",
      "Epoch 32 Validation - Accuracy: 0.8028, F1: 0.7818, Precision: 0.8601, Recall: 0.8028\n"
     ]
    },
    {
     "name": "stderr",
     "output_type": "stream",
     "text": [
      "Epoch 33/100: 100%|██████████| 180/180 [00:49<00:00,  3.64it/s, loss=0.5539]\n"
     ]
    },
    {
     "name": "stdout",
     "output_type": "stream",
     "text": [
      "\n",
      "Epoch 33 Training - Accuracy: 0.9965, F1: 0.9965, Precision: 0.9965, Recall: 0.9965\n",
      "\n",
      "Epoch 33 Validation - Accuracy: 0.7194, F1: 0.6883, Precision: 0.8446, Recall: 0.7194\n"
     ]
    },
    {
     "name": "stderr",
     "output_type": "stream",
     "text": [
      "Epoch 34/100: 100%|██████████| 180/180 [00:50<00:00,  3.56it/s, loss=0.5500]\n"
     ]
    },
    {
     "name": "stdout",
     "output_type": "stream",
     "text": [
      "\n",
      "Epoch 34 Training - Accuracy: 0.9965, F1: 0.9965, Precision: 0.9965, Recall: 0.9965\n",
      "\n",
      "Epoch 34 Validation - Accuracy: 0.9264, F1: 0.9266, Precision: 0.9319, Recall: 0.9264\n"
     ]
    },
    {
     "name": "stderr",
     "output_type": "stream",
     "text": [
      "Epoch 35/100: 100%|██████████| 180/180 [00:52<00:00,  3.42it/s, loss=0.5509]\n"
     ]
    },
    {
     "name": "stdout",
     "output_type": "stream",
     "text": [
      "\n",
      "Epoch 35 Training - Accuracy: 0.9948, F1: 0.9948, Precision: 0.9948, Recall: 0.9948\n",
      "\n",
      "Epoch 35 Validation - Accuracy: 0.9333, F1: 0.9335, Precision: 0.9354, Recall: 0.9333\n"
     ]
    },
    {
     "name": "stderr",
     "output_type": "stream",
     "text": [
      "Epoch 36/100: 100%|██████████| 180/180 [00:55<00:00,  3.24it/s, loss=0.5420]\n"
     ]
    },
    {
     "name": "stdout",
     "output_type": "stream",
     "text": [
      "\n",
      "Epoch 36 Training - Accuracy: 0.9983, F1: 0.9983, Precision: 0.9983, Recall: 0.9983\n",
      "\n",
      "Epoch 36 Validation - Accuracy: 0.9319, F1: 0.9319, Precision: 0.9327, Recall: 0.9319\n"
     ]
    },
    {
     "name": "stderr",
     "output_type": "stream",
     "text": [
      "Epoch 37/100: 100%|██████████| 180/180 [00:55<00:00,  3.26it/s, loss=0.5387]\n"
     ]
    },
    {
     "name": "stdout",
     "output_type": "stream",
     "text": [
      "\n",
      "Epoch 37 Training - Accuracy: 0.9979, F1: 0.9979, Precision: 0.9979, Recall: 0.9979\n",
      "\n",
      "Epoch 37 Validation - Accuracy: 0.8569, F1: 0.8341, Precision: 0.8748, Recall: 0.8569\n"
     ]
    },
    {
     "name": "stderr",
     "output_type": "stream",
     "text": [
      "Epoch 38/100: 100%|██████████| 180/180 [00:55<00:00,  3.24it/s, loss=0.5408]\n"
     ]
    },
    {
     "name": "stdout",
     "output_type": "stream",
     "text": [
      "\n",
      "Epoch 38 Training - Accuracy: 0.9976, F1: 0.9976, Precision: 0.9976, Recall: 0.9976\n",
      "\n",
      "Epoch 38 Validation - Accuracy: 0.9250, F1: 0.9253, Precision: 0.9297, Recall: 0.9250\n"
     ]
    },
    {
     "name": "stderr",
     "output_type": "stream",
     "text": [
      "Epoch 39/100: 100%|██████████| 180/180 [00:56<00:00,  3.17it/s, loss=0.5358]\n"
     ]
    },
    {
     "name": "stdout",
     "output_type": "stream",
     "text": [
      "\n",
      "Epoch 39 Training - Accuracy: 0.9997, F1: 0.9997, Precision: 0.9997, Recall: 0.9997\n",
      "\n",
      "Epoch 39 Validation - Accuracy: 0.7472, F1: 0.6888, Precision: 0.7403, Recall: 0.7472\n"
     ]
    },
    {
     "name": "stderr",
     "output_type": "stream",
     "text": [
      "Epoch 40/100: 100%|██████████| 180/180 [00:56<00:00,  3.18it/s, loss=0.5367]\n"
     ]
    },
    {
     "name": "stdout",
     "output_type": "stream",
     "text": [
      "\n",
      "Epoch 40 Training - Accuracy: 0.9986, F1: 0.9986, Precision: 0.9986, Recall: 0.9986\n",
      "\n",
      "Epoch 40 Validation - Accuracy: 0.9347, F1: 0.9350, Precision: 0.9367, Recall: 0.9347\n"
     ]
    },
    {
     "name": "stderr",
     "output_type": "stream",
     "text": [
      "Epoch 41/100: 100%|██████████| 180/180 [00:57<00:00,  3.12it/s, loss=0.5363]\n"
     ]
    },
    {
     "name": "stdout",
     "output_type": "stream",
     "text": [
      "\n",
      "Epoch 41 Training - Accuracy: 0.9990, F1: 0.9990, Precision: 0.9990, Recall: 0.9990\n",
      "\n",
      "Epoch 41 Validation - Accuracy: 0.9083, F1: 0.9079, Precision: 0.9150, Recall: 0.9083\n"
     ]
    },
    {
     "name": "stderr",
     "output_type": "stream",
     "text": [
      "Epoch 42/100: 100%|██████████| 180/180 [00:58<00:00,  3.06it/s, loss=0.5365]\n"
     ]
    },
    {
     "name": "stdout",
     "output_type": "stream",
     "text": [
      "\n",
      "Epoch 42 Training - Accuracy: 0.9983, F1: 0.9983, Precision: 0.9983, Recall: 0.9983\n",
      "\n",
      "Epoch 42 Validation - Accuracy: 0.8375, F1: 0.8431, Precision: 0.9122, Recall: 0.8375\n"
     ]
    },
    {
     "name": "stderr",
     "output_type": "stream",
     "text": [
      "Epoch 43/100: 100%|██████████| 180/180 [00:59<00:00,  3.03it/s, loss=0.5351]\n"
     ]
    },
    {
     "name": "stdout",
     "output_type": "stream",
     "text": [
      "\n",
      "Epoch 43 Training - Accuracy: 0.9986, F1: 0.9986, Precision: 0.9986, Recall: 0.9986\n",
      "\n",
      "Epoch 43 Validation - Accuracy: 0.9306, F1: 0.9307, Precision: 0.9346, Recall: 0.9306\n"
     ]
    },
    {
     "name": "stderr",
     "output_type": "stream",
     "text": [
      "Epoch 44/100: 100%|██████████| 180/180 [00:59<00:00,  3.01it/s, loss=0.5313]\n"
     ]
    },
    {
     "name": "stdout",
     "output_type": "stream",
     "text": [
      "\n",
      "Epoch 44 Training - Accuracy: 0.9993, F1: 0.9993, Precision: 0.9993, Recall: 0.9993\n",
      "\n",
      "Epoch 44 Validation - Accuracy: 0.9083, F1: 0.9092, Precision: 0.9207, Recall: 0.9083\n"
     ]
    },
    {
     "name": "stderr",
     "output_type": "stream",
     "text": [
      "Epoch 45/100: 100%|██████████| 180/180 [01:00<00:00,  2.98it/s, loss=0.5314]\n"
     ]
    },
    {
     "name": "stdout",
     "output_type": "stream",
     "text": [
      "\n",
      "Epoch 45 Training - Accuracy: 0.9993, F1: 0.9993, Precision: 0.9993, Recall: 0.9993\n",
      "\n",
      "Epoch 45 Validation - Accuracy: 0.9278, F1: 0.9281, Precision: 0.9312, Recall: 0.9278\n"
     ]
    },
    {
     "name": "stderr",
     "output_type": "stream",
     "text": [
      "Epoch 46/100: 100%|██████████| 180/180 [01:01<00:00,  2.93it/s, loss=0.5329]\n"
     ]
    },
    {
     "name": "stdout",
     "output_type": "stream",
     "text": [
      "\n",
      "Epoch 46 Training - Accuracy: 0.9990, F1: 0.9990, Precision: 0.9990, Recall: 0.9990\n",
      "\n",
      "Epoch 46 Validation - Accuracy: 0.9181, F1: 0.9191, Precision: 0.9264, Recall: 0.9181\n"
     ]
    },
    {
     "name": "stderr",
     "output_type": "stream",
     "text": [
      "Epoch 47/100: 100%|██████████| 180/180 [01:06<00:00,  2.72it/s, loss=0.5291]\n"
     ]
    },
    {
     "name": "stdout",
     "output_type": "stream",
     "text": [
      "\n",
      "Epoch 47 Training - Accuracy: 0.9997, F1: 0.9997, Precision: 0.9997, Recall: 0.9997\n",
      "\n",
      "Epoch 47 Validation - Accuracy: 0.8931, F1: 0.8972, Precision: 0.9161, Recall: 0.8931\n"
     ]
    },
    {
     "name": "stderr",
     "output_type": "stream",
     "text": [
      "Epoch 48/100: 100%|██████████| 180/180 [01:04<00:00,  2.78it/s, loss=0.5290]\n"
     ]
    },
    {
     "name": "stdout",
     "output_type": "stream",
     "text": [
      "\n",
      "Epoch 48 Training - Accuracy: 0.9997, F1: 0.9997, Precision: 0.9997, Recall: 0.9997\n",
      "\n",
      "Epoch 48 Validation - Accuracy: 0.9319, F1: 0.9321, Precision: 0.9345, Recall: 0.9319\n"
     ]
    },
    {
     "name": "stderr",
     "output_type": "stream",
     "text": [
      "Epoch 49/100: 100%|██████████| 180/180 [01:07<00:00,  2.65it/s, loss=0.5282]\n"
     ]
    },
    {
     "name": "stdout",
     "output_type": "stream",
     "text": [
      "\n",
      "Epoch 49 Training - Accuracy: 1.0000, F1: 1.0000, Precision: 1.0000, Recall: 1.0000\n",
      "\n",
      "Epoch 49 Validation - Accuracy: 0.9042, F1: 0.9059, Precision: 0.9210, Recall: 0.9042\n"
     ]
    },
    {
     "name": "stderr",
     "output_type": "stream",
     "text": [
      "Epoch 50/100: 100%|██████████| 180/180 [01:08<00:00,  2.65it/s, loss=0.5266]\n"
     ]
    },
    {
     "name": "stdout",
     "output_type": "stream",
     "text": [
      "\n",
      "Epoch 50 Training - Accuracy: 0.9993, F1: 0.9993, Precision: 0.9993, Recall: 0.9993\n",
      "\n",
      "Epoch 50 Validation - Accuracy: 0.9264, F1: 0.9272, Precision: 0.9321, Recall: 0.9264\n"
     ]
    },
    {
     "name": "stderr",
     "output_type": "stream",
     "text": [
      "Epoch 51/100: 100%|██████████| 180/180 [01:08<00:00,  2.64it/s, loss=0.5265]\n"
     ]
    },
    {
     "name": "stdout",
     "output_type": "stream",
     "text": [
      "\n",
      "Epoch 51 Training - Accuracy: 0.9993, F1: 0.9993, Precision: 0.9993, Recall: 0.9993\n",
      "\n",
      "Epoch 51 Validation - Accuracy: 0.9347, F1: 0.9354, Precision: 0.9379, Recall: 0.9347\n"
     ]
    },
    {
     "name": "stderr",
     "output_type": "stream",
     "text": [
      "Epoch 52/100: 100%|██████████| 180/180 [01:06<00:00,  2.69it/s, loss=0.5262]\n"
     ]
    },
    {
     "name": "stdout",
     "output_type": "stream",
     "text": [
      "\n",
      "Epoch 52 Training - Accuracy: 0.9993, F1: 0.9993, Precision: 0.9993, Recall: 0.9993\n",
      "\n",
      "Epoch 52 Validation - Accuracy: 0.9333, F1: 0.9343, Precision: 0.9388, Recall: 0.9333\n"
     ]
    },
    {
     "name": "stderr",
     "output_type": "stream",
     "text": [
      "Epoch 53/100: 100%|██████████| 180/180 [01:08<00:00,  2.64it/s, loss=0.5266]\n"
     ]
    },
    {
     "name": "stdout",
     "output_type": "stream",
     "text": [
      "\n",
      "Epoch 53 Training - Accuracy: 1.0000, F1: 1.0000, Precision: 1.0000, Recall: 1.0000\n",
      "\n",
      "Epoch 53 Validation - Accuracy: 0.9181, F1: 0.9182, Precision: 0.9254, Recall: 0.9181\n"
     ]
    },
    {
     "name": "stderr",
     "output_type": "stream",
     "text": [
      "Epoch 54/100: 100%|██████████| 180/180 [01:09<00:00,  2.60it/s, loss=0.5260]\n"
     ]
    },
    {
     "name": "stdout",
     "output_type": "stream",
     "text": [
      "\n",
      "Epoch 54 Training - Accuracy: 0.9997, F1: 0.9997, Precision: 0.9997, Recall: 0.9997\n",
      "\n",
      "Epoch 54 Validation - Accuracy: 0.9042, F1: 0.9047, Precision: 0.9169, Recall: 0.9042\n"
     ]
    },
    {
     "name": "stderr",
     "output_type": "stream",
     "text": [
      "Epoch 55/100: 100%|██████████| 180/180 [01:09<00:00,  2.57it/s, loss=0.5237]\n"
     ]
    },
    {
     "name": "stdout",
     "output_type": "stream",
     "text": [
      "\n",
      "Epoch 55 Training - Accuracy: 0.9997, F1: 0.9997, Precision: 0.9997, Recall: 0.9997\n",
      "\n",
      "Epoch 55 Validation - Accuracy: 0.9292, F1: 0.9300, Precision: 0.9344, Recall: 0.9292\n"
     ]
    },
    {
     "name": "stderr",
     "output_type": "stream",
     "text": [
      "Epoch 56/100: 100%|██████████| 180/180 [01:09<00:00,  2.60it/s, loss=0.5242]\n"
     ]
    },
    {
     "name": "stdout",
     "output_type": "stream",
     "text": [
      "\n",
      "Epoch 56 Training - Accuracy: 1.0000, F1: 1.0000, Precision: 1.0000, Recall: 1.0000\n",
      "\n",
      "Epoch 56 Validation - Accuracy: 0.9347, F1: 0.9352, Precision: 0.9387, Recall: 0.9347\n"
     ]
    },
    {
     "name": "stderr",
     "output_type": "stream",
     "text": [
      "Epoch 57/100: 100%|██████████| 180/180 [01:11<00:00,  2.53it/s, loss=0.5241]\n"
     ]
    },
    {
     "name": "stdout",
     "output_type": "stream",
     "text": [
      "\n",
      "Epoch 57 Training - Accuracy: 0.9997, F1: 0.9997, Precision: 0.9997, Recall: 0.9997\n",
      "\n",
      "Epoch 57 Validation - Accuracy: 0.8986, F1: 0.8982, Precision: 0.9128, Recall: 0.8986\n"
     ]
    },
    {
     "name": "stderr",
     "output_type": "stream",
     "text": [
      "Epoch 58/100: 100%|██████████| 180/180 [01:11<00:00,  2.51it/s, loss=0.5225]\n"
     ]
    },
    {
     "name": "stdout",
     "output_type": "stream",
     "text": [
      "\n",
      "Epoch 58 Training - Accuracy: 0.9997, F1: 0.9997, Precision: 0.9997, Recall: 0.9997\n",
      "\n",
      "Epoch 58 Validation - Accuracy: 0.9361, F1: 0.9362, Precision: 0.9368, Recall: 0.9361\n"
     ]
    },
    {
     "name": "stderr",
     "output_type": "stream",
     "text": [
      "Epoch 59/100: 100%|██████████| 180/180 [01:17<00:00,  2.32it/s, loss=0.5202]\n"
     ]
    },
    {
     "name": "stdout",
     "output_type": "stream",
     "text": [
      "\n",
      "Epoch 59 Training - Accuracy: 1.0000, F1: 1.0000, Precision: 1.0000, Recall: 1.0000\n",
      "\n",
      "Epoch 59 Validation - Accuracy: 0.9375, F1: 0.9377, Precision: 0.9397, Recall: 0.9375\n"
     ]
    },
    {
     "name": "stderr",
     "output_type": "stream",
     "text": [
      "Epoch 60/100: 100%|██████████| 180/180 [01:16<00:00,  2.35it/s, loss=0.5209]\n"
     ]
    },
    {
     "name": "stdout",
     "output_type": "stream",
     "text": [
      "\n",
      "Epoch 60 Training - Accuracy: 1.0000, F1: 1.0000, Precision: 1.0000, Recall: 1.0000\n",
      "\n",
      "Epoch 60 Validation - Accuracy: 0.9264, F1: 0.9263, Precision: 0.9293, Recall: 0.9264\n"
     ]
    },
    {
     "name": "stderr",
     "output_type": "stream",
     "text": [
      "Epoch 61/100: 100%|██████████| 180/180 [01:17<00:00,  2.32it/s, loss=0.5201]\n"
     ]
    },
    {
     "name": "stdout",
     "output_type": "stream",
     "text": [
      "\n",
      "Epoch 61 Training - Accuracy: 1.0000, F1: 1.0000, Precision: 1.0000, Recall: 1.0000\n",
      "\n",
      "Epoch 61 Validation - Accuracy: 0.9375, F1: 0.9379, Precision: 0.9405, Recall: 0.9375\n"
     ]
    },
    {
     "name": "stderr",
     "output_type": "stream",
     "text": [
      "Epoch 62/100: 100%|██████████| 180/180 [01:16<00:00,  2.37it/s, loss=0.5191]\n"
     ]
    },
    {
     "name": "stdout",
     "output_type": "stream",
     "text": [
      "\n",
      "Epoch 62 Training - Accuracy: 1.0000, F1: 1.0000, Precision: 1.0000, Recall: 1.0000\n",
      "\n",
      "Epoch 62 Validation - Accuracy: 0.9306, F1: 0.9307, Precision: 0.9326, Recall: 0.9306\n"
     ]
    },
    {
     "name": "stderr",
     "output_type": "stream",
     "text": [
      "Epoch 63/100: 100%|██████████| 180/180 [01:15<00:00,  2.38it/s, loss=0.5191]\n"
     ]
    },
    {
     "name": "stdout",
     "output_type": "stream",
     "text": [
      "\n",
      "Epoch 63 Training - Accuracy: 1.0000, F1: 1.0000, Precision: 1.0000, Recall: 1.0000\n",
      "\n",
      "Epoch 63 Validation - Accuracy: 0.9306, F1: 0.9312, Precision: 0.9337, Recall: 0.9306\n"
     ]
    },
    {
     "name": "stderr",
     "output_type": "stream",
     "text": [
      "Epoch 64/100: 100%|██████████| 180/180 [01:15<00:00,  2.38it/s, loss=0.5201]\n"
     ]
    },
    {
     "name": "stdout",
     "output_type": "stream",
     "text": [
      "\n",
      "Epoch 64 Training - Accuracy: 1.0000, F1: 1.0000, Precision: 1.0000, Recall: 1.0000\n",
      "\n",
      "Epoch 64 Validation - Accuracy: 0.9333, F1: 0.9335, Precision: 0.9351, Recall: 0.9333\n"
     ]
    },
    {
     "name": "stderr",
     "output_type": "stream",
     "text": [
      "Epoch 65/100: 100%|██████████| 180/180 [01:15<00:00,  2.37it/s, loss=0.5189]\n"
     ]
    },
    {
     "name": "stdout",
     "output_type": "stream",
     "text": [
      "\n",
      "Epoch 65 Training - Accuracy: 1.0000, F1: 1.0000, Precision: 1.0000, Recall: 1.0000\n",
      "\n",
      "Epoch 65 Validation - Accuracy: 0.9333, F1: 0.9337, Precision: 0.9348, Recall: 0.9333\n"
     ]
    },
    {
     "name": "stderr",
     "output_type": "stream",
     "text": [
      "Epoch 66/100: 100%|██████████| 180/180 [01:16<00:00,  2.36it/s, loss=0.5201]\n"
     ]
    },
    {
     "name": "stdout",
     "output_type": "stream",
     "text": [
      "\n",
      "Epoch 66 Training - Accuracy: 0.9993, F1: 0.9993, Precision: 0.9993, Recall: 0.9993\n",
      "\n",
      "Epoch 66 Validation - Accuracy: 0.9292, F1: 0.9295, Precision: 0.9321, Recall: 0.9292\n"
     ]
    },
    {
     "name": "stderr",
     "output_type": "stream",
     "text": [
      "Epoch 67/100: 100%|██████████| 180/180 [01:19<00:00,  2.26it/s, loss=0.5180]\n"
     ]
    },
    {
     "name": "stdout",
     "output_type": "stream",
     "text": [
      "\n",
      "Epoch 67 Training - Accuracy: 1.0000, F1: 1.0000, Precision: 1.0000, Recall: 1.0000\n",
      "\n",
      "Epoch 67 Validation - Accuracy: 0.9389, F1: 0.9390, Precision: 0.9403, Recall: 0.9389\n"
     ]
    },
    {
     "name": "stderr",
     "output_type": "stream",
     "text": [
      "Epoch 68/100: 100%|██████████| 180/180 [01:20<00:00,  2.24it/s, loss=0.5173]\n"
     ]
    },
    {
     "name": "stdout",
     "output_type": "stream",
     "text": [
      "\n",
      "Epoch 68 Training - Accuracy: 1.0000, F1: 1.0000, Precision: 1.0000, Recall: 1.0000\n",
      "\n",
      "Epoch 68 Validation - Accuracy: 0.9333, F1: 0.9335, Precision: 0.9349, Recall: 0.9333\n"
     ]
    },
    {
     "name": "stderr",
     "output_type": "stream",
     "text": [
      "Epoch 69/100: 100%|██████████| 180/180 [01:20<00:00,  2.23it/s, loss=0.5174]\n"
     ]
    },
    {
     "name": "stdout",
     "output_type": "stream",
     "text": [
      "\n",
      "Epoch 69 Training - Accuracy: 1.0000, F1: 1.0000, Precision: 1.0000, Recall: 1.0000\n",
      "\n",
      "Epoch 69 Validation - Accuracy: 0.9389, F1: 0.9390, Precision: 0.9410, Recall: 0.9389\n"
     ]
    },
    {
     "name": "stderr",
     "output_type": "stream",
     "text": [
      "Epoch 70/100: 100%|██████████| 180/180 [01:21<00:00,  2.21it/s, loss=0.5173]\n"
     ]
    },
    {
     "name": "stdout",
     "output_type": "stream",
     "text": [
      "\n",
      "Epoch 70 Training - Accuracy: 1.0000, F1: 1.0000, Precision: 1.0000, Recall: 1.0000\n",
      "\n",
      "Epoch 70 Validation - Accuracy: 0.9417, F1: 0.9419, Precision: 0.9435, Recall: 0.9417\n"
     ]
    },
    {
     "name": "stderr",
     "output_type": "stream",
     "text": [
      "Epoch 71/100: 100%|██████████| 180/180 [01:22<00:00,  2.18it/s, loss=0.5171]\n"
     ]
    },
    {
     "name": "stdout",
     "output_type": "stream",
     "text": [
      "\n",
      "Epoch 71 Training - Accuracy: 1.0000, F1: 1.0000, Precision: 1.0000, Recall: 1.0000\n",
      "\n",
      "Epoch 71 Validation - Accuracy: 0.9431, F1: 0.9431, Precision: 0.9444, Recall: 0.9431\n"
     ]
    },
    {
     "name": "stderr",
     "output_type": "stream",
     "text": [
      "Epoch 72/100: 100%|██████████| 180/180 [01:21<00:00,  2.21it/s, loss=0.5174]\n"
     ]
    },
    {
     "name": "stdout",
     "output_type": "stream",
     "text": [
      "\n",
      "Epoch 72 Training - Accuracy: 1.0000, F1: 1.0000, Precision: 1.0000, Recall: 1.0000\n",
      "\n",
      "Epoch 72 Validation - Accuracy: 0.9333, F1: 0.9337, Precision: 0.9378, Recall: 0.9333\n"
     ]
    },
    {
     "name": "stderr",
     "output_type": "stream",
     "text": [
      "Epoch 73/100: 100%|██████████| 180/180 [01:22<00:00,  2.19it/s, loss=0.5165]\n"
     ]
    },
    {
     "name": "stdout",
     "output_type": "stream",
     "text": [
      "\n",
      "Epoch 73 Training - Accuracy: 1.0000, F1: 1.0000, Precision: 1.0000, Recall: 1.0000\n",
      "\n",
      "Epoch 73 Validation - Accuracy: 0.9458, F1: 0.9459, Precision: 0.9463, Recall: 0.9458\n"
     ]
    },
    {
     "name": "stderr",
     "output_type": "stream",
     "text": [
      "Epoch 74/100: 100%|██████████| 180/180 [01:25<00:00,  2.10it/s, loss=0.5170]\n"
     ]
    },
    {
     "name": "stdout",
     "output_type": "stream",
     "text": [
      "\n",
      "Epoch 74 Training - Accuracy: 1.0000, F1: 1.0000, Precision: 1.0000, Recall: 1.0000\n",
      "\n",
      "Epoch 74 Validation - Accuracy: 0.9486, F1: 0.9487, Precision: 0.9489, Recall: 0.9486\n"
     ]
    },
    {
     "name": "stderr",
     "output_type": "stream",
     "text": [
      "Epoch 75/100: 100%|██████████| 180/180 [01:25<00:00,  2.09it/s, loss=0.5163]\n"
     ]
    },
    {
     "name": "stdout",
     "output_type": "stream",
     "text": [
      "\n",
      "Epoch 75 Training - Accuracy: 1.0000, F1: 1.0000, Precision: 1.0000, Recall: 1.0000\n",
      "\n",
      "Epoch 75 Validation - Accuracy: 0.9403, F1: 0.9403, Precision: 0.9405, Recall: 0.9403\n"
     ]
    },
    {
     "name": "stderr",
     "output_type": "stream",
     "text": [
      "Epoch 76/100: 100%|██████████| 180/180 [01:26<00:00,  2.07it/s, loss=0.5159]\n"
     ]
    },
    {
     "name": "stdout",
     "output_type": "stream",
     "text": [
      "\n",
      "Epoch 76 Training - Accuracy: 1.0000, F1: 1.0000, Precision: 1.0000, Recall: 1.0000\n",
      "\n",
      "Epoch 76 Validation - Accuracy: 0.9403, F1: 0.9405, Precision: 0.9415, Recall: 0.9403\n"
     ]
    },
    {
     "name": "stderr",
     "output_type": "stream",
     "text": [
      "Epoch 77/100: 100%|██████████| 180/180 [01:29<00:00,  2.00it/s, loss=0.5155]\n"
     ]
    },
    {
     "name": "stdout",
     "output_type": "stream",
     "text": [
      "\n",
      "Epoch 77 Training - Accuracy: 1.0000, F1: 1.0000, Precision: 1.0000, Recall: 1.0000\n",
      "\n",
      "Epoch 77 Validation - Accuracy: 0.9431, F1: 0.9431, Precision: 0.9438, Recall: 0.9431\n"
     ]
    },
    {
     "name": "stderr",
     "output_type": "stream",
     "text": [
      "Epoch 78/100: 100%|██████████| 180/180 [01:33<00:00,  1.92it/s, loss=0.5152]\n"
     ]
    },
    {
     "name": "stdout",
     "output_type": "stream",
     "text": [
      "\n",
      "Epoch 78 Training - Accuracy: 1.0000, F1: 1.0000, Precision: 1.0000, Recall: 1.0000\n",
      "\n",
      "Epoch 78 Validation - Accuracy: 0.9444, F1: 0.9445, Precision: 0.9450, Recall: 0.9444\n"
     ]
    },
    {
     "name": "stderr",
     "output_type": "stream",
     "text": [
      "Epoch 79/100: 100%|██████████| 180/180 [01:33<00:00,  1.92it/s, loss=0.5158]\n"
     ]
    },
    {
     "name": "stdout",
     "output_type": "stream",
     "text": [
      "\n",
      "Epoch 79 Training - Accuracy: 1.0000, F1: 1.0000, Precision: 1.0000, Recall: 1.0000\n",
      "\n",
      "Epoch 79 Validation - Accuracy: 0.9389, F1: 0.9392, Precision: 0.9405, Recall: 0.9389\n"
     ]
    },
    {
     "name": "stderr",
     "output_type": "stream",
     "text": [
      "Epoch 80/100: 100%|██████████| 180/180 [01:33<00:00,  1.93it/s, loss=0.5151]\n"
     ]
    },
    {
     "name": "stdout",
     "output_type": "stream",
     "text": [
      "\n",
      "Epoch 80 Training - Accuracy: 1.0000, F1: 1.0000, Precision: 1.0000, Recall: 1.0000\n",
      "\n",
      "Epoch 80 Validation - Accuracy: 0.9458, F1: 0.9458, Precision: 0.9459, Recall: 0.9458\n"
     ]
    },
    {
     "name": "stderr",
     "output_type": "stream",
     "text": [
      "Epoch 81/100: 100%|██████████| 180/180 [01:33<00:00,  1.92it/s, loss=0.5143]\n"
     ]
    },
    {
     "name": "stdout",
     "output_type": "stream",
     "text": [
      "\n",
      "Epoch 81 Training - Accuracy: 1.0000, F1: 1.0000, Precision: 1.0000, Recall: 1.0000\n",
      "\n",
      "Epoch 81 Validation - Accuracy: 0.9389, F1: 0.9391, Precision: 0.9403, Recall: 0.9389\n"
     ]
    },
    {
     "name": "stderr",
     "output_type": "stream",
     "text": [
      "Epoch 82/100: 100%|██████████| 180/180 [01:34<00:00,  1.91it/s, loss=0.5152]\n"
     ]
    },
    {
     "name": "stdout",
     "output_type": "stream",
     "text": [
      "\n",
      "Epoch 82 Training - Accuracy: 1.0000, F1: 1.0000, Precision: 1.0000, Recall: 1.0000\n",
      "\n",
      "Epoch 82 Validation - Accuracy: 0.9417, F1: 0.9418, Precision: 0.9423, Recall: 0.9417\n"
     ]
    },
    {
     "name": "stderr",
     "output_type": "stream",
     "text": [
      "Epoch 83/100: 100%|██████████| 180/180 [01:34<00:00,  1.90it/s, loss=0.5152]\n"
     ]
    },
    {
     "name": "stdout",
     "output_type": "stream",
     "text": [
      "\n",
      "Epoch 83 Training - Accuracy: 1.0000, F1: 1.0000, Precision: 1.0000, Recall: 1.0000\n",
      "\n",
      "Epoch 83 Validation - Accuracy: 0.9389, F1: 0.9391, Precision: 0.9400, Recall: 0.9389\n"
     ]
    },
    {
     "name": "stderr",
     "output_type": "stream",
     "text": [
      "Epoch 84/100: 100%|██████████| 180/180 [01:32<00:00,  1.94it/s, loss=0.5148]\n"
     ]
    },
    {
     "name": "stdout",
     "output_type": "stream",
     "text": [
      "\n",
      "Epoch 84 Training - Accuracy: 1.0000, F1: 1.0000, Precision: 1.0000, Recall: 1.0000\n",
      "\n",
      "Epoch 84 Validation - Accuracy: 0.9389, F1: 0.9390, Precision: 0.9394, Recall: 0.9389\n"
     ]
    },
    {
     "name": "stderr",
     "output_type": "stream",
     "text": [
      "Epoch 85/100: 100%|██████████| 180/180 [01:33<00:00,  1.92it/s, loss=0.5151]\n"
     ]
    },
    {
     "name": "stdout",
     "output_type": "stream",
     "text": [
      "\n",
      "Epoch 85 Training - Accuracy: 1.0000, F1: 1.0000, Precision: 1.0000, Recall: 1.0000\n",
      "\n",
      "Epoch 85 Validation - Accuracy: 0.9431, F1: 0.9431, Precision: 0.9434, Recall: 0.9431\n"
     ]
    },
    {
     "name": "stderr",
     "output_type": "stream",
     "text": [
      "Epoch 86/100: 100%|██████████| 180/180 [01:35<00:00,  1.89it/s, loss=0.5139]\n"
     ]
    },
    {
     "name": "stdout",
     "output_type": "stream",
     "text": [
      "\n",
      "Epoch 86 Training - Accuracy: 1.0000, F1: 1.0000, Precision: 1.0000, Recall: 1.0000\n",
      "\n",
      "Epoch 86 Validation - Accuracy: 0.9431, F1: 0.9432, Precision: 0.9437, Recall: 0.9431\n"
     ]
    },
    {
     "name": "stderr",
     "output_type": "stream",
     "text": [
      "Epoch 87/100: 100%|██████████| 180/180 [01:35<00:00,  1.88it/s, loss=0.5147]\n"
     ]
    },
    {
     "name": "stdout",
     "output_type": "stream",
     "text": [
      "\n",
      "Epoch 87 Training - Accuracy: 1.0000, F1: 1.0000, Precision: 1.0000, Recall: 1.0000\n",
      "\n",
      "Epoch 87 Validation - Accuracy: 0.9444, F1: 0.9445, Precision: 0.9449, Recall: 0.9444\n"
     ]
    },
    {
     "name": "stderr",
     "output_type": "stream",
     "text": [
      "Epoch 88/100: 100%|██████████| 180/180 [01:38<00:00,  1.83it/s, loss=0.5146]\n"
     ]
    },
    {
     "name": "stdout",
     "output_type": "stream",
     "text": [
      "\n",
      "Epoch 88 Training - Accuracy: 1.0000, F1: 1.0000, Precision: 1.0000, Recall: 1.0000\n",
      "\n",
      "Epoch 88 Validation - Accuracy: 0.9431, F1: 0.9431, Precision: 0.9436, Recall: 0.9431\n"
     ]
    },
    {
     "name": "stderr",
     "output_type": "stream",
     "text": [
      "Epoch 89/100: 100%|██████████| 180/180 [01:38<00:00,  1.82it/s, loss=0.5145]\n"
     ]
    },
    {
     "name": "stdout",
     "output_type": "stream",
     "text": [
      "\n",
      "Epoch 89 Training - Accuracy: 1.0000, F1: 1.0000, Precision: 1.0000, Recall: 1.0000\n",
      "\n",
      "Epoch 89 Validation - Accuracy: 0.9417, F1: 0.9417, Precision: 0.9421, Recall: 0.9417\n"
     ]
    },
    {
     "name": "stderr",
     "output_type": "stream",
     "text": [
      "Epoch 90/100: 100%|██████████| 180/180 [01:39<00:00,  1.82it/s, loss=0.5141]\n"
     ]
    },
    {
     "name": "stdout",
     "output_type": "stream",
     "text": [
      "\n",
      "Epoch 90 Training - Accuracy: 1.0000, F1: 1.0000, Precision: 1.0000, Recall: 1.0000\n",
      "\n",
      "Epoch 90 Validation - Accuracy: 0.9417, F1: 0.9418, Precision: 0.9423, Recall: 0.9417\n"
     ]
    },
    {
     "name": "stderr",
     "output_type": "stream",
     "text": [
      "Epoch 91/100: 100%|██████████| 180/180 [01:41<00:00,  1.78it/s, loss=0.5147]\n"
     ]
    },
    {
     "name": "stdout",
     "output_type": "stream",
     "text": [
      "\n",
      "Epoch 91 Training - Accuracy: 1.0000, F1: 1.0000, Precision: 1.0000, Recall: 1.0000\n",
      "\n",
      "Epoch 91 Validation - Accuracy: 0.9417, F1: 0.9418, Precision: 0.9423, Recall: 0.9417\n"
     ]
    },
    {
     "name": "stderr",
     "output_type": "stream",
     "text": [
      "Epoch 92/100: 100%|██████████| 180/180 [01:39<00:00,  1.80it/s, loss=0.5140]\n"
     ]
    },
    {
     "name": "stdout",
     "output_type": "stream",
     "text": [
      "\n",
      "Epoch 92 Training - Accuracy: 1.0000, F1: 1.0000, Precision: 1.0000, Recall: 1.0000\n",
      "\n",
      "Epoch 92 Validation - Accuracy: 0.9417, F1: 0.9418, Precision: 0.9423, Recall: 0.9417\n"
     ]
    },
    {
     "name": "stderr",
     "output_type": "stream",
     "text": [
      "Epoch 93/100: 100%|██████████| 180/180 [01:40<00:00,  1.79it/s, loss=0.5140]\n"
     ]
    },
    {
     "name": "stdout",
     "output_type": "stream",
     "text": [
      "\n",
      "Epoch 93 Training - Accuracy: 1.0000, F1: 1.0000, Precision: 1.0000, Recall: 1.0000\n",
      "\n",
      "Epoch 93 Validation - Accuracy: 0.9417, F1: 0.9418, Precision: 0.9422, Recall: 0.9417\n"
     ]
    },
    {
     "name": "stderr",
     "output_type": "stream",
     "text": [
      "Epoch 94/100: 100%|██████████| 180/180 [01:42<00:00,  1.76it/s, loss=0.5148]\n"
     ]
    },
    {
     "name": "stdout",
     "output_type": "stream",
     "text": [
      "\n",
      "Epoch 94 Training - Accuracy: 1.0000, F1: 1.0000, Precision: 1.0000, Recall: 1.0000\n",
      "\n",
      "Epoch 94 Validation - Accuracy: 0.9417, F1: 0.9418, Precision: 0.9422, Recall: 0.9417\n"
     ]
    },
    {
     "name": "stderr",
     "output_type": "stream",
     "text": [
      "Epoch 95/100: 100%|██████████| 180/180 [01:41<00:00,  1.77it/s, loss=0.5151]\n"
     ]
    },
    {
     "name": "stdout",
     "output_type": "stream",
     "text": [
      "\n",
      "Epoch 95 Training - Accuracy: 1.0000, F1: 1.0000, Precision: 1.0000, Recall: 1.0000\n",
      "\n",
      "Epoch 95 Validation - Accuracy: 0.9417, F1: 0.9418, Precision: 0.9424, Recall: 0.9417\n"
     ]
    },
    {
     "name": "stderr",
     "output_type": "stream",
     "text": [
      "Epoch 96/100: 100%|██████████| 180/180 [01:42<00:00,  1.75it/s, loss=0.5153]\n"
     ]
    },
    {
     "name": "stdout",
     "output_type": "stream",
     "text": [
      "\n",
      "Epoch 96 Training - Accuracy: 1.0000, F1: 1.0000, Precision: 1.0000, Recall: 1.0000\n",
      "\n",
      "Epoch 96 Validation - Accuracy: 0.9431, F1: 0.9432, Precision: 0.9435, Recall: 0.9431\n"
     ]
    },
    {
     "name": "stderr",
     "output_type": "stream",
     "text": [
      "Epoch 97/100: 100%|██████████| 180/180 [01:43<00:00,  1.74it/s, loss=0.5153]\n"
     ]
    },
    {
     "name": "stdout",
     "output_type": "stream",
     "text": [
      "\n",
      "Epoch 97 Training - Accuracy: 1.0000, F1: 1.0000, Precision: 1.0000, Recall: 1.0000\n",
      "\n",
      "Epoch 97 Validation - Accuracy: 0.9431, F1: 0.9432, Precision: 0.9435, Recall: 0.9431\n"
     ]
    },
    {
     "name": "stderr",
     "output_type": "stream",
     "text": [
      "Epoch 98/100: 100%|██████████| 180/180 [01:44<00:00,  1.73it/s, loss=0.5169]\n"
     ]
    },
    {
     "name": "stdout",
     "output_type": "stream",
     "text": [
      "\n",
      "Epoch 98 Training - Accuracy: 1.0000, F1: 1.0000, Precision: 1.0000, Recall: 1.0000\n",
      "\n",
      "Epoch 98 Validation - Accuracy: 0.9417, F1: 0.9418, Precision: 0.9424, Recall: 0.9417\n"
     ]
    },
    {
     "name": "stderr",
     "output_type": "stream",
     "text": [
      "Epoch 99/100: 100%|██████████| 180/180 [01:48<00:00,  1.66it/s, loss=0.5182]\n"
     ]
    },
    {
     "name": "stdout",
     "output_type": "stream",
     "text": [
      "\n",
      "Epoch 99 Training - Accuracy: 1.0000, F1: 1.0000, Precision: 1.0000, Recall: 1.0000\n",
      "\n",
      "Epoch 99 Validation - Accuracy: 0.9417, F1: 0.9417, Precision: 0.9421, Recall: 0.9417\n"
     ]
    },
    {
     "name": "stderr",
     "output_type": "stream",
     "text": [
      "Epoch 100/100: 100%|██████████| 180/180 [01:52<00:00,  1.60it/s, loss=0.5210]\n"
     ]
    },
    {
     "name": "stdout",
     "output_type": "stream",
     "text": [
      "\n",
      "Epoch 100 Training - Accuracy: 1.0000, F1: 1.0000, Precision: 1.0000, Recall: 1.0000\n",
      "\n",
      "Epoch 100 Validation - Accuracy: 0.9375, F1: 0.9377, Precision: 0.9384, Recall: 0.9375\n"
     ]
    },
    {
     "data": {
      "image/png": "[encoded data removed]",
      "text/plain": [
       "<Figure size 1200x1000 with 4 Axes>"
      ]
     },
     "metadata": {},
     "output_type": "display_data"
    }
   ],
   "source": [
    "# Update dataset creation\n",
    "dataset = EEGDataset(X, y, augment=True)\n",
    "train_size = int(0.8 * len(dataset))\n",
    "val_size = len(dataset) - train_size\n",
    "\n",
    "# Use smaller batch size for CPU\n",
    "train_dataset, val_dataset = torch.utils.data.random_split(dataset, [train_size, val_size])\n",
    "train_loader = DataLoader(train_dataset, batch_size=16, shuffle=True, num_workers=0, pin_memory=False)\n",
    "val_loader = DataLoader(val_dataset, batch_size=16, shuffle=False, num_workers=0, pin_memory=False)\n",
    "\n",
    "# Train with optimized parameters\n",
    "num_classes=10\n",
    "model = EEGClassifier(\n",
    "    input_channels=1,\n",
    "    num_classes=num_classes,\n",
    "    dropout_prob=0.5\n",
    ")\n",
    "\n",
    "trained_model = train_model(\n",
    "    model,\n",
    "    train_loader,\n",
    "    val_loader,\n",
    "    num_epochs=100,\n",
    "    learning_rate=0.001\n",
    ")"
   ]
  },
  {
   "cell_type": "code",
   "execution_count": 23,
   "metadata": {},
   "outputs": [
    {
     "name": "stdout",
     "output_type": "stream",
     "text": [
      "----------------------------------------------------------------\n",
      "        Layer (type)               Output Shape         Param #\n",
      "================================================================\n",
      "            Conv2d-1           [-1, 32, 50, 50]             320\n",
      "       BatchNorm2d-2           [-1, 32, 50, 50]              64\n",
      "              ReLU-3           [-1, 32, 50, 50]               0\n",
      "         MaxPool2d-4           [-1, 32, 25, 25]               0\n",
      "            Conv2d-5           [-1, 64, 25, 25]          18,496\n",
      "       BatchNorm2d-6           [-1, 64, 25, 25]             128\n",
      "              ReLU-7           [-1, 64, 25, 25]               0\n",
      "         MaxPool2d-8           [-1, 64, 12, 12]               0\n",
      "            Conv2d-9          [-1, 128, 12, 12]          73,856\n",
      "      BatchNorm2d-10          [-1, 128, 12, 12]             256\n",
      "             ReLU-11          [-1, 128, 12, 12]               0\n",
      "        MaxPool2d-12            [-1, 128, 6, 6]               0\n",
      "           Conv2d-13            [-1, 256, 6, 6]         295,168\n",
      "      BatchNorm2d-14            [-1, 256, 6, 6]             512\n",
      "             ReLU-15            [-1, 256, 6, 6]               0\n",
      "AdaptiveAvgPool2d-16            [-1, 256, 1, 1]               0\n",
      "        LayerNorm-17               [-1, 1, 256]             512\n",
      "          Dropout-18             [-1, 4, 1, 64]               0\n",
      "      TTTEEGBlock-19               [-1, 1, 256]               0\n",
      "        LayerNorm-20               [-1, 1, 256]             512\n",
      "          Dropout-21             [-1, 4, 1, 64]               0\n",
      "      TTTEEGBlock-22               [-1, 1, 256]               0\n",
      "           Linear-23                  [-1, 512]         131,584\n",
      "             ReLU-24                  [-1, 512]               0\n",
      "          Dropout-25                  [-1, 512]               0\n",
      "           Linear-26                   [-1, 10]           5,130\n",
      "           Linear-27                 [-1, 1024]         263,168\n",
      "             ReLU-28                 [-1, 1024]               0\n",
      "           Linear-29                 [-1, 2500]       2,562,500\n",
      "================================================================\n",
      "Total params: 3,352,206\n",
      "Trainable params: 3,352,206\n",
      "Non-trainable params: 0\n",
      "----------------------------------------------------------------\n",
      "Input size (MB): 0.01\n",
      "Forward/backward pass size (MB): 3.70\n",
      "Params size (MB): 12.79\n",
      "Estimated Total Size (MB): 16.49\n",
      "----------------------------------------------------------------\n",
      "Total number of parameters: 3385486\n"
     ]
    }
   ],
   "source": [
    "from torchsummary import summary\n",
    "\n",
    "model = EEGClassifier()\n",
    "summary(model, input_size=(1, 50, 50))\n",
    "total_params = sum(p.numel() for p in model.parameters())\n",
    "print(f\"Total number of parameters: {total_params}\")"
   ]
  },
  {
   "cell_type": "code",
   "execution_count": 29,
   "metadata": {},
   "outputs": [
    {
     "data": {
      "image/png": "[encoded data removed]",
      "text/plain": [
       "<Figure size 1000x1000 with 2 Axes>"
      ]
     },
     "metadata": {},
     "output_type": "display_data"
    }
   ],
   "source": [
    "from sklearn.metrics import confusion_matrix, ConfusionMatrixDisplay\n",
    "import matplotlib.pyplot as plt\n",
    "\n",
    "model.eval()\n",
    "all_preds = []\n",
    "all_labels = []\n",
    "\n",
    "with torch.no_grad():\n",
    "    for inputs, labels in val_loader:\n",
    "        inputs = inputs.float()\n",
    "        outputs, _ = model(inputs)\n",
    "        _, predicted = outputs.max(1)\n",
    "        all_preds.extend(predicted.cpu().numpy())\n",
    "        all_labels.extend(labels.cpu().numpy())\n",
    "\n",
    "# Compute confusion matrix\n",
    "cm = confusion_matrix(all_labels, all_preds, normalize='true')\n",
    "disp = ConfusionMatrixDisplay(confusion_matrix=cm, display_labels=range(num_classes))\n",
    "\n",
    "# Plot confusion matrix\n",
    "fig, ax = plt.subplots(figsize=(10, 10))  # Adjust the figure size\n",
    "disp.plot(cmap=plt.cm.Blues, ax=ax)\n",
    "plt.title('Normalized Confusion Matrix', fontsize=16)\n",
    "plt.xlabel('Predicted Label', fontsize=14)\n",
    "plt.ylabel('True Label', fontsize=14)\n",
    "plt.xticks(fontsize=12)\n",
    "plt.yticks(fontsize=12)\n",
    "plt.show()"
   ]
  },
  {
   "cell_type": "code",
   "execution_count": 12,
   "metadata": {},
   "outputs": [
    {
     "data": {
      "image/png": "[encoded data removed]",
      "text/plain": [
       "<Figure size 800x600 with 1 Axes>"
      ]
     },
     "metadata": {},
     "output_type": "display_data"
    },
    {
     "name": "stdout",
     "output_type": "stream",
     "text": [
      "3D World Coordinates: [ 2  3 10]\n",
      "2D Image Coordinates: (480.0, 480.0)\n"
     ]
    }
   ],
   "source": [
    "import numpy as np\n",
    "import cv2\n",
    "import matplotlib.pyplot as plt\n",
    "\n",
    "# 3D world coordinate of a point (X, Y, Z)\n",
    "world_point = np.array([2, 3, 10])\n",
    "\n",
    "focal_length = 800  # in pixels\n",
    "cx, cy = 320, 240   # principal point (center of the image)\n",
    "K = np.array([\n",
    "    [focal_length, 0, cx],\n",
    "    [0, focal_length, cy],\n",
    "    [0, 0, 1]\n",
    "])\n",
    "\n",
    "world_point_homogeneous = np.append(world_point, 1)\n",
    "projected = K @ world_point_homogeneous[:3]\n",
    "projected = projected.astype(float)\n",
    "projected /= projected[2]\n",
    "u, v = projected[0], projected[1]\n",
    "\n",
    "plt.figure(figsize=(8, 6))  \n",
    "plt.plot(u, v, 'go', markersize=10, label='Projected Point')\n",
    "plt.title('3D Point Projection')\n",
    "plt.xlabel('Image X (pixels)')\n",
    "plt.ylabel('Image Y (pixels)')\n",
    "plt.grid(True)\n",
    "plt.legend()\n",
    "plt.axis([0, 640, 480, 0])\n",
    "plt.show()\n",
    "\n",
    "print(f\"3D World Coordinates: {world_point}\")\n",
    "print(f\"2D Image Coordinates: ({u:.1f}, {v:.1f})\")"
   ]
  },
  {
   "cell_type": "code",
   "execution_count": 8,
   "metadata": {},
   "outputs": [
    {
     "data": {
      "image/png": "[encoded data removed]",
      "text/plain": [
       "<Figure size 1500x600 with 2 Axes>"
      ]
     },
     "metadata": {},
     "output_type": "display_data"
    },
    {
     "name": "stdout",
     "output_type": "stream",
     "text": [
      "3D World Coordinates: [ 2  3 10]\n",
      "2D Image Coordinates: (480.0, 480.0)\n"
     ]
    }
   ],
   "source": [
    "import numpy as np\n",
    "import matplotlib.pyplot as plt\n",
    "from mpl_toolkits.mplot3d import Axes3D\n",
    "\n",
    "# Create figure with two subplots\n",
    "fig = plt.figure(figsize=(15, 6))\n",
    "\n",
    "# 3D point visualization\n",
    "ax1 = fig.add_subplot(121, projection='3d')\n",
    "ax1.scatter(world_point[0], world_point[1], world_point[2], c='r', marker='o', s=100, label='3D Point')\n",
    "ax1.set_xlabel('X')\n",
    "ax1.set_ylabel('Y')\n",
    "ax1.set_zlabel('Z')\n",
    "ax1.set_title('3D World Coordinates')\n",
    "\n",
    "# Add camera center and projection lines\n",
    "ax1.scatter(0, 0, 0, c='b', marker='^', s=100, label='Camera Center')\n",
    "ax1.plot([0, world_point[0]], [0, world_point[1]], [0, world_point[2]], 'g--', label='Projection Ray')\n",
    "\n",
    "ax1.legend()\n",
    "ax1.grid(True)\n",
    "\n",
    "# 2D projection visualization\n",
    "ax2 = fig.add_subplot(122)\n",
    "ax2.plot(u, v, 'go', markersize=10, label='Projected Point')\n",
    "ax2.set_title('2D Image Projection')\n",
    "ax2.set_xlabel('Image X (pixels)')\n",
    "ax2.set_ylabel('Image Y (pixels)')\n",
    "ax2.grid(True)\n",
    "ax2.legend()\n",
    "ax2.axis([0, 640, 480, 0])  # Flip Y-axis to match image coordinates\n",
    "\n",
    "plt.tight_layout()\n",
    "plt.show()\n",
    "\n",
    "print(f\"3D World Coordinates: {world_point}\")\n",
    "print(f\"2D Image Coordinates: ({u:.1f}, {v:.1f})\")"
   ]
  },
  {
   "cell_type": "code",
   "execution_count": 7,
   "metadata": {},
   "outputs": [],
   "source": [
    "import pandas as pd\n",
    "import matplotlib.pyplot as plt\n",
    "import numpy as np\n",
    "pt = np.array([4,6,8])\n",
    "mt = np.array([[1200,0,500],\n",
    "               [0,1200,300],\n",
    "               [0,0,1]])\n",
    "potin = mt@pt\n",
    "potin = potin.astype(float)\n",
    "potin /= potin[2]\n"
   ]
  },
  {
   "cell_type": "code",
   "execution_count": 17,
   "metadata": {},
   "outputs": [
    {
     "data": {
      "text/plain": [
       "[<matplotlib.lines.Line2D at 0x1f71e766cc0>]"
      ]
     },
     "execution_count": 17,
     "metadata": {},
     "output_type": "execute_result"
    },
    {
     "data": {
      "image/png": "[encoded data removed]",
      "text/plain": [
       "<Figure size 640x480 with 1 Axes>"
      ]
     },
     "metadata": {},
     "output_type": "display_data"
    }
   ],
   "source": [
    "x,y = potin[:2]\n",
    "plt.plot(x,y,'b+')"
   ]
  },
  {
   "cell_type": "code",
   "execution_count": 18,
   "metadata": {},
   "outputs": [
    {
     "data": {
      "text/plain": [
       "(1100.0, 1200.0)"
      ]
     },
     "execution_count": 18,
     "metadata": {},
     "output_type": "execute_result"
    }
   ],
   "source": [
    "x,y"
   ]
  },
  {
   "cell_type": "code",
   "execution_count": null,
   "metadata": {},
   "outputs": [],
   "source": []
  }
 ],
 "metadata": {
  "kernelspec": {
   "display_name": "Python 3",
   "language": "python",
   "name": "python3"
  },
  "language_info": {
   "codemirror_mode": {
    "name": "ipython",
    "version": 3
   },
   "file_extension": ".py",
   "mimetype": "text/x-python",
   "name": "python",
   "nbconvert_exporter": "python",
   "pygments_lexer": "ipython3",
   "version": "3.12.9"
  }
 },
 "nbformat": 4,
 "nbformat_minor": 2
}
