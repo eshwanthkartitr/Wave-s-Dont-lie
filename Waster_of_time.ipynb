{
 "cells": [
  {
   "cell_type": "code",
   "execution_count": 1,
   "metadata": {},
   "outputs": [],
   "source": [
    "import torch\n",
    "import torch.nn as nn\n",
    "import torch.optim as optim\n",
    "from torch.utils.data import DataLoader, Dataset\n",
    "import numpy as np\n",
    "from scipy.signal import spectrogram\n",
    "from scipy.io import loadmat\n",
    "import pandas as pd\n",
    "from pathlib import Path\n",
    "from tqdm import tqdm\n",
    "import matplotlib.pyplot as plt\n",
    "from sklearn.metrics import confusion_matrix, f1_score\n",
    "import seaborn as sns\n",
    "import matplotlib.pyplot as plt\n",
    "import torch.nn.functional as F\n",
    "import numpy as np\n",
    "from scipy.signal import butter, filtfilt\n",
    "import torch\n",
    "import torch.nn as nn\n",
    "import torch.nn.functional as F"
   ]
  },
  {
   "cell_type": "code",
   "execution_count": 2,
   "metadata": {},
   "outputs": [],
   "source": [
    "class TTTEEGBlock(nn.Module):\n",
    "    def __init__(self, hidden_size, num_heads=4, head_dim=None, eta=0.001):\n",
    "        super().__init__()\n",
    "        self.hidden_size = hidden_size\n",
    "        self.num_heads = num_heads\n",
    "        self.head_dim = head_dim if head_dim is not None else hidden_size // num_heads\n",
    "        self.eta = eta\n",
    "        \n",
    "        self.W1 = nn.Parameter(torch.randn(num_heads, self.head_dim, self.head_dim) * 0.02)\n",
    "        self.b1 = nn.Parameter(torch.zeros(num_heads, 1, self.head_dim))\n",
    "        \n",
    "        self.layer_norm = nn.LayerNorm(hidden_size)\n",
    "        self.dropout = nn.Dropout(0.1)\n",
    "        \n",
    "    def forward(self, x, cache_params=None):\n",
    "        B, L, C = x.shape\n",
    "        \n",
    "        x = self.layer_norm(x)\n",
    "        x = x.reshape(B, L, self.num_heads, self.head_dim)\n",
    "        x = x.permute(0, 2, 1, 3)  # [B, H, L, D]\n",
    "        \n",
    "        if cache_params is None:\n",
    "            output = self.dropout(torch.einsum('bhld,hdf->bhlf', x, self.W1) + self.b1.unsqueeze(0))\n",
    "        else:\n",
    "            with torch.enable_grad():\n",
    "                x_temp = x.detach().requires_grad_()\n",
    "                output_temp = torch.einsum('bhld,hdf->bhlf', x_temp, self.W1) + self.b1.unsqueeze(0)\n",
    "                \n",
    "                # Self-supervised loss: L2 loss + consistency loss\n",
    "                l2_loss = output_temp.pow(2).mean()\n",
    "                consistency_loss = torch.abs(output_temp - x_temp.mean(dim=-1, keepdim=True)).mean()\n",
    "                self_supervised_loss = l2_loss + 0.1 * consistency_loss\n",
    "                \n",
    "                # Compute gradients for self-supervised loss\n",
    "                grads = torch.autograd.grad(self_supervised_loss, [self.W1, self.b1], retain_graph=True, create_graph=False)\n",
    "                grad_W1, grad_b1 = grads\n",
    "                \n",
    "                grad_W1 = torch.clamp(grad_W1, -1.0, 1.0)\n",
    "                grad_b1 = torch.clamp(grad_b1, -1.0, 1.0)\n",
    "                \n",
    "                if f'W1_states_{id(self)}' not in cache_params:\n",
    "                    cache_params[f'W1_states_{id(self)}'] = self.W1.clone()\n",
    "                    cache_params[f'b1_states_{id(self)}'] = self.b1.clone()\n",
    "                    cache_params[f'momentum_W1_{id(self)}'] = torch.zeros_like(self.W1)\n",
    "                    cache_params[f'momentum_b1_{id(self)}'] = torch.zeros_like(self.b1)\n",
    "                \n",
    "                momentum = 0.9\n",
    "                cache_params[f'momentum_W1_{id(self)}'] = (\n",
    "                    momentum * cache_params[f'momentum_W1_{id(self)}'] + \n",
    "                    (1 - momentum) * grad_W1\n",
    "                )\n",
    "                cache_params[f'momentum_b1_{id(self)}'] = (\n",
    "                    momentum * cache_params[f'momentum_b1_{id(self)}'] + \n",
    "                    (1 - momentum) * grad_b1\n",
    "                )\n",
    "                \n",
    "                cache_params[f'W1_states_{id(self)}'] -= self.eta * cache_params[f'momentum_W1_{id(self)}']\n",
    "                cache_params[f'b1_states_{id(self)}'] -= self.eta * cache_params[f'momentum_b1_{id(self)}']\n",
    "                \n",
    "                output = self.dropout(torch.einsum('bhld,hdf->bhlf', x, \n",
    "                                    cache_params[f'W1_states_{id(self)}']) + \n",
    "                                    cache_params[f'b1_states_{id(self)}'].unsqueeze(0))\n",
    "        \n",
    "        output = output.permute(0, 2, 1, 3)  # [B, L, H, D]\n",
    "        output = output.reshape(B, L, -1)     # [B, L, H*D]\n",
    "        \n",
    "        return output + x.permute(0, 2, 1, 3).reshape(B, L, -1)  # Residual connection"
   ]
  },
  {
   "cell_type": "code",
   "execution_count": 3,
   "metadata": {},
   "outputs": [],
   "source": [
    "# Load EEG data from .mat files\n",
    "def load_mat_data(file_path):\n",
    "    data = loadmat(file_path)['data'][0]\n",
    "    inputs, targets = [], []\n",
    "    map = {}\n",
    "    current = 3\n",
    "    for i in range(len(data)):\n",
    "        y = data[i].flatten()\n",
    "        sub = y[0][0]\n",
    "        if y[1][0]=='letter-composing':\n",
    "            continue\n",
    "        if y[2][0] not in ['trial 1','trial 2','trial 3']:\n",
    "            continue\n",
    "        eeg_data = y[3][:6, :]\n",
    "        if sub not in map:\n",
    "            map[sub] = current\n",
    "            current += 1\n",
    "        targets.append(map[sub])\n",
    "        inputs.append(eeg_data)\n",
    "    return np.array(inputs), np.array(targets)\n",
    "\n",
    "def preprocess_eeg(eeg_data):\n",
    "    eeg_data = (eeg_data - np.mean(eeg_data)) / (np.std(eeg_data) + 1e-8)\n",
    "    nyq = 0.5 * 256\n",
    "    low, high = 0.5 / nyq, 45 / nyq\n",
    "    b, a = butter(4, [low, high], btype='band')\n",
    "    return filtfilt(b, a, eeg_data)\n",
    "\n",
    "# Load EEG data from folder structure\n",
    "def load_folder_data(root_path, tasks=['baseline', 'counting', 'logical', 'rotation']):\n",
    "    root = Path(root_path)\n",
    "    X, y = [], []\n",
    "    subjects = [d for d in root.iterdir() if d.is_dir() and d.name in ['eshwa', 'Giri', 'Nithish']]\n",
    "    for subject_idx, subject in enumerate(subjects):\n",
    "        for task in tasks:\n",
    "            session_pattern = f\"OpenBCISession_{subject.name.lower()}_{task}_*\"\n",
    "            sessions = list(subject.glob(session_pattern))\n",
    "            for session in sessions:\n",
    "                raw_files = list(session.glob(\"OpenBCI-RAW-*.txt\"))\n",
    "                for raw_file in raw_files:\n",
    "                    eeg_data = load_eeg_data(raw_file)\n",
    "                    if eeg_data is not None:\n",
    "                        for i in range(6):\n",
    "                            X.append(eeg_data[3750:6250, i])\n",
    "                            y.append(subject_idx)\n",
    "    return np.array(X), np.array(y)\n",
    "\n",
    "# Data Augmentation Functions\n",
    "def jitter(x, sigma=0.01):\n",
    "    return x + np.random.normal(loc=0., scale=sigma, size=x.shape)\n",
    "\n",
    "def scaling(x, sigma=0.1):\n",
    "    factor = np.random.normal(loc=1.0, scale=sigma, size=(x.shape[0], 1))\n",
    "    return x * factor\n",
    "\n",
    "\n",
    "def create_spectrogram(eeg_data, fs=256, target_area=2500, num_frequencies=50, num_times=50):   \n",
    "    # Calculate the segment length (nperseg) based on the desired number of frequency bins\n",
    "    # The formula for frequency bins is: number of bins = nperseg / 2 + 1\n",
    "    required_nperseg = (num_frequencies - 1) * 2  # Desired frequency bins and corresponding nperseg\n",
    "\n",
    "    # Ensure nperseg doesn't exceed the total signal length\n",
    "    nperseg = min(required_nperseg, len(eeg_data))\n",
    "\n",
    "    noverlap = nperseg // 2  # Overlap (half of segment length by default)\n",
    "\n",
    "    # Compute the spectrogram\n",
    "    frequencies, times, Sxx = spectrogram(\n",
    "        eeg_data, fs=fs, window='hamming', nperseg=nperseg, noverlap=noverlap, detrend='constant', scaling='density'\n",
    "    )\n",
    "\n",
    "    # Ensure we get the expected number of frequency bins\n",
    "    if Sxx.shape[0] < num_frequencies:\n",
    "        print(f\"Warning: Expected {num_frequencies} frequency bins, but got {Sxx.shape[0]}. Padding with zeros.\")\n",
    "        padding = num_frequencies - Sxx.shape[0]\n",
    "        Sxx = np.pad(Sxx, ((0, padding), (0, 0)), mode='constant')\n",
    "    elif Sxx.shape[0] > num_frequencies:\n",
    "        # If the number of frequency bins is more than desired, truncate\n",
    "        Sxx = Sxx[:num_frequencies, :]\n",
    "\n",
    "    # Ensure the number of time bins matches the desired number\n",
    "    if Sxx.shape[1] < num_times:\n",
    "        padding = num_times - Sxx.shape[1]\n",
    "        Sxx = np.pad(Sxx, ((0, 0), (0, padding)), mode='constant')\n",
    "    elif Sxx.shape[1] > num_times:\n",
    "        # Trim time bins if there are more than desired\n",
    "        Sxx = Sxx[:, :num_times]\n",
    "\n",
    "    # Convert to decibels\n",
    "    Sxx = 10 * np.log10(Sxx + 1e-5)\n",
    "\n",
    "    # Normalize the spectrogram\n",
    "    Sxx = (Sxx - Sxx.min()) / (Sxx.max() - Sxx.min() + 1e-8)\n",
    "    return Sxx"
   ]
  },
  {
   "cell_type": "code",
   "execution_count": 4,
   "metadata": {},
   "outputs": [],
   "source": [
    "import torch\n",
    "import torch.nn as nn\n",
    "import torch.nn.functional as F\n",
    "import torch.optim as optim\n",
    "from torch.utils.data import DataLoader\n",
    "\n",
    "class TTTCell(nn.Module):\n",
    "    def __init__(self, input_size, hidden_size, eta=0.001):\n",
    "        super().__init__()\n",
    "        self.hidden_size = hidden_size\n",
    "        self.eta = eta\n",
    "        \n",
    "        # Hidden state model (f in the paper)\n",
    "        self.hidden_model = nn.Sequential(\n",
    "            nn.Linear(input_size, hidden_size * 2),\n",
    "            nn.LayerNorm(hidden_size * 2),\n",
    "            nn.GELU(),\n",
    "            nn.Linear(hidden_size * 2, hidden_size)\n",
    "        )\n",
    "        \n",
    "        # Initialize cache for test-time updates\n",
    "        self.cache_params = {}\n",
    "        \n",
    "    def forward(self, x, hidden, is_training=True):\n",
    "        if is_training:\n",
    "            next_hidden = self.hidden_model(x)\n",
    "        else:\n",
    "            # Test-time training update\n",
    "            with torch.enable_grad():\n",
    "                x_temp = x.detach().requires_grad_()\n",
    "                pred = self.hidden_model(x_temp)\n",
    "                \n",
    "                # Self-supervised loss (as described in paper section 2.1)\n",
    "                l2_loss = pred.pow(2).mean()\n",
    "                consistency_loss = torch.abs(pred - x_temp.mean(dim=-1, keepdim=True)).mean()\n",
    "                loss = l2_loss + 0.1 * consistency_loss\n",
    "                \n",
    "                # Update hidden model parameters\n",
    "                grads = torch.autograd.grad(loss, self.hidden_model.parameters())\n",
    "                \n",
    "                with torch.no_grad():\n",
    "                    for param, grad in zip(self.hidden_model.parameters(), grads):\n",
    "                        if f'momentum_{id(param)}' not in self.cache_params:\n",
    "                            self.cache_params[f'momentum_{id(param)}'] = torch.zeros_like(param)\n",
    "                        \n",
    "                        # Momentum update\n",
    "                        self.cache_params[f'momentum_{id(param)}'].mul_(0.9).add_(grad, alpha=0.1)\n",
    "                        param.add_(self.cache_params[f'momentum_{id(param)}'], alpha=-self.eta)\n",
    "                \n",
    "                next_hidden = self.hidden_model(x)\n",
    "                \n",
    "        return next_hidden\n",
    "\n",
    "\n",
    "class TTTRNN(nn.Module):\n",
    "    def __init__(self, input_size, hidden_size, num_layers=2):\n",
    "        super().__init__()\n",
    "        self.hidden_size = hidden_size\n",
    "        self.num_layers = num_layers\n",
    "        \n",
    "        # Create TTT cells for each layer\n",
    "        self.cells = nn.ModuleList([\n",
    "            TTTCell(\n",
    "                input_size if i == 0 else hidden_size,\n",
    "                hidden_size\n",
    "            ) for i in range(num_layers)\n",
    "        ])\n",
    "    \n",
    "    def forward(self, x, hidden=None, is_training=True):\n",
    "        batch_size, seq_len, _ = x.shape\n",
    "        \n",
    "        if hidden is None:\n",
    "            hidden = [torch.zeros(batch_size, self.hidden_size).to(x.device)\n",
    "                     for _ in range(self.num_layers)]\n",
    "        \n",
    "        outputs = []\n",
    "        for t in range(seq_len):\n",
    "            layer_input = x[:, t, :]\n",
    "            for layer_idx, cell in enumerate(self.cells):\n",
    "                hidden[layer_idx] = cell(layer_input, hidden[layer_idx], is_training)\n",
    "                layer_input = hidden[layer_idx]\n",
    "            outputs.append(layer_input)\n",
    "            \n",
    "        outputs = torch.stack(outputs, dim=1)\n",
    "        return outputs, hidden\n",
    "\n",
    "\n",
    "class EEGClassifier(nn.Module):\n",
    "    def __init__(self, input_channels=1, num_classes=10, dropout_prob=0.5):\n",
    "        super().__init__()\n",
    "        self.cache_params = {}\n",
    "        \n",
    "        # Feature extractor\n",
    "        self.feature_extractor = nn.Sequential(\n",
    "            # Initial block\n",
    "            nn.Conv2d(input_channels, 32, kernel_size=3, padding=1),\n",
    "            nn.BatchNorm2d(32),\n",
    "            nn.ReLU(),\n",
    "            nn.MaxPool2d(2),  # 25x25\n",
    "            \n",
    "            # Second block\n",
    "            nn.Conv2d(32, 64, kernel_size=3, padding=1),\n",
    "            nn.BatchNorm2d(64),\n",
    "            nn.ReLU(),\n",
    "            nn.MaxPool2d(2),  # 12x12\n",
    "            \n",
    "            # Third block\n",
    "            nn.Conv2d(64, 128, kernel_size=3, padding=1),\n",
    "            nn.BatchNorm2d(128),\n",
    "            nn.ReLU(),\n",
    "            nn.MaxPool2d(2),  # 6x6\n",
    "            \n",
    "            # Fourth block with global pooling\n",
    "            nn.Conv2d(128, 256, kernel_size=3, padding=1),\n",
    "            nn.BatchNorm2d(256),\n",
    "            nn.ReLU(),\n",
    "            nn.AdaptiveAvgPool2d((1, 1))  # Global average pooling to 1x1\n",
    "        )\n",
    "        \n",
    "        # TTT blocks\n",
    "        self.ttt_blocks = nn.ModuleList([\n",
    "            TTTEEGBlock(hidden_size=256, num_heads=4)\n",
    "            for _ in range(2)\n",
    "        ])\n",
    "        \n",
    "        # Classification head\n",
    "        self.classifier = nn.Sequential(\n",
    "            nn.Linear(256, 512),  # Now using 256 features from global pooling\n",
    "            nn.ReLU(),\n",
    "            nn.Dropout(dropout_prob),\n",
    "            nn.Linear(512, num_classes)\n",
    "        )\n",
    "        \n",
    "        # Reconstruction decoder\n",
    "        self.decoder = nn.Sequential(\n",
    "            nn.Linear(256, 1024),  # From 256 features\n",
    "            nn.ReLU(),\n",
    "            nn.Linear(1024, 50 * 50)\n",
    "        )\n",
    "    \n",
    "    def forward(self, x):\n",
    "        # Print input shape for debugging\n",
    "        # print(\"Input shape:\", x.shape)\n",
    "        \n",
    "        # Ensure input shape [B, C, H, W]\n",
    "        if len(x.shape) == 3:\n",
    "            x = x.unsqueeze(1)\n",
    "        \n",
    "        # Extract features\n",
    "        features = self.feature_extractor(x)  # [B, 256, 1, 1]\n",
    "        # print(\"After feature extractor:\", features.shape)\n",
    "        \n",
    "        # Reshape for TTT blocks\n",
    "        features = features.squeeze(-1).squeeze(-1)  # [B, 256]\n",
    "        features = features.unsqueeze(1)  # [B, 1, 256]\n",
    "        \n",
    "        # Apply TTT blocks\n",
    "        for block in self.ttt_blocks:\n",
    "            features = block(features, self.cache_params)\n",
    "        \n",
    "        # Prepare for classification\n",
    "        features = features.squeeze(1)  # [B, 256]\n",
    "        \n",
    "        # Classification\n",
    "        logits = self.classifier(features)\n",
    "        \n",
    "        # Reconstruction\n",
    "        recon = self.decoder(features)\n",
    "        recon = recon.view(-1, 1, 50, 50)\n",
    "        \n",
    "        return logits, recon\n",
    "    \n",
    "def SEBlock(channels):\n",
    "    return nn.Sequential(\n",
    "        nn.AdaptiveAvgPool2d(1),\n",
    "        nn.Conv2d(channels, channels, kernel_size=1),\n",
    "        nn.Sigmoid()\n",
    "    )\n",
    "\n",
    "\n",
    "def ResidualBlock(in_channels, out_channels):\n",
    "    return nn.Sequential(\n",
    "        nn.Conv2d(in_channels, out_channels, kernel_size=3, padding=1),\n",
    "        nn.BatchNorm2d(out_channels),\n",
    "        nn.GELU(),\n",
    "        SEBlock(out_channels),\n",
    "    )"
   ]
  },
  {
   "cell_type": "code",
   "execution_count": 5,
   "metadata": {},
   "outputs": [],
   "source": [
    "# def train_model(model, train_loader, val_loader, num_epochs=50, learning_rate=0.001):\n",
    "#     optimizer = optim.AdamW(model.parameters(), lr=learning_rate, weight_decay=0.01)\n",
    "#     scheduler = optim.lr_scheduler.OneCycleLR(\n",
    "#         optimizer,\n",
    "#         max_lr=learning_rate,\n",
    "#         epochs=num_epochs,\n",
    "#         steps_per_epoch=len(train_loader)\n",
    "#     )\n",
    "#     criterion = nn.CrossEntropyLoss(label_smoothing=0.1)\n",
    "    \n",
    "#     best_val_acc = 0\n",
    "#     patience = 7\n",
    "#     patience_counter = 0\n",
    "    \n",
    "#     for epoch in range(num_epochs):\n",
    "#         model.train()\n",
    "#         running_loss = 0.0\n",
    "#         correct = 0\n",
    "#         total = 0\n",
    "        \n",
    "#         pbar = tqdm(train_loader, desc=f'Epoch {epoch+1}/{num_epochs}')\n",
    "#         for batch_idx, (inputs, labels) in enumerate(pbar):\n",
    "#             inputs = inputs.float()\n",
    "            \n",
    "#             optimizer.zero_grad(set_to_none=True)\n",
    "            \n",
    "#             try:\n",
    "#                 # Forward pass\n",
    "#                 outputs, recon = model(inputs)\n",
    "                \n",
    "#                 # Calculate losses\n",
    "#                 ce_loss = criterion(outputs, labels)\n",
    "#                 recon_loss = F.mse_loss(recon, inputs)\n",
    "#                 loss = ce_loss + 0.1 * recon_loss\n",
    "                \n",
    "#                 # Backward pass\n",
    "#                 loss.backward()\n",
    "#                 torch.nn.utils.clip_grad_norm_(model.parameters(), 1.0)\n",
    "#                 optimizer.step()\n",
    "#                 scheduler.step()\n",
    "                \n",
    "#                 # Update metrics\n",
    "#                 running_loss += loss.item()\n",
    "#                 _, predicted = outputs.max(1)\n",
    "#                 total += labels.size(0)\n",
    "#                 correct += predicted.eq(labels).sum().item()\n",
    "                \n",
    "#                 # Update progress bar\n",
    "#                 accuracy = 100. * correct / total\n",
    "#                 pbar.set_postfix({\n",
    "#                     'loss': f'{running_loss/(batch_idx+1):.4f}',\n",
    "#                     'acc': f'{accuracy:.2f}%'\n",
    "#                 })\n",
    "                \n",
    "#             except RuntimeError as e:\n",
    "#                 print(f\"Error in batch {batch_idx}: {e}\")\n",
    "#                 print(f\"Input shape: {inputs.shape}\")\n",
    "#                 raise e\n",
    "        \n",
    "#         # Validation phase\n",
    "#         model.eval()\n",
    "#         val_correct = 0\n",
    "#         val_total = 0\n",
    "#         val_loss = 0.0\n",
    "        \n",
    "#         with torch.no_grad():\n",
    "#             for inputs, labels in val_loader:\n",
    "#                 inputs = inputs.float()\n",
    "#                 outputs, _ = model(inputs)\n",
    "#                 _, predicted = outputs.max(1)\n",
    "#                 val_total += labels.size(0)\n",
    "#                 val_correct += predicted.eq(labels).sum().item()\n",
    "        \n",
    "#         val_accuracy = 100. * val_correct / val_total\n",
    "#         print(f'\\nValidation Accuracy: {val_accuracy:.2f}%')\n",
    "        \n",
    "#         # Early stopping\n",
    "#         if val_accuracy > best_val_acc:\n",
    "#             best_val_acc = val_accuracy\n",
    "#             patience_counter = 0\n",
    "#             torch.save({\n",
    "#                 'epoch': epoch,\n",
    "#                 'model_state_dict': model.state_dict(),\n",
    "#                 'optimizer_state_dict': optimizer.state_dict(),\n",
    "#                 'val_acc': val_accuracy,\n",
    "#             }, 'best_model.pth')\n",
    "#         else:\n",
    "#             patience_counter += 1\n",
    "#             if patience_counter >= patience:\n",
    "#                 print(f'Early stopping triggered. Best validation accuracy: {best_val_acc:.2f}%')\n",
    "#                 checkpoint = torch.load('best_model.pth')\n",
    "#                 model.load_state_dict(checkpoint['model_state_dict'])\n",
    "#                 break\n",
    "    \n",
    "#     return model\n",
    "\n",
    "# Test-time adaptation function\n",
    "def test_time_adaptation(model, test_loader, adaptation_steps=5, adaptation_lr=0.001):\n",
    "    model.eval()\n",
    "    inner_optimizer = optim.SGD(model.inner_model.parameters(), lr=adaptation_lr)\n",
    "    for inputs, _ in test_loader:\n",
    "        inputs = inputs.to(device)\n",
    "        for _ in range(adaptation_steps):\n",
    "            inner_optimizer.zero_grad()\n",
    "            _, recon = model(inputs)\n",
    "            inputs = inputs.squeeze(2)\n",
    "            recon_loss = nn.functional.mse_loss(recon, inputs)\n",
    "            inputs = inputs.unsqueeze(2)\n",
    "            recon_loss.backward()\n",
    "            inner_optimizer.step()\n",
    "    return model"
   ]
  },
  {
   "cell_type": "code",
   "execution_count": 6,
   "metadata": {},
   "outputs": [],
   "source": [
    "from sklearn.metrics import precision_recall_fscore_support, confusion_matrix\n",
    "import seaborn as sns\n",
    "import matplotlib.pyplot as plt\n",
    "\n",
    "def train_model(model, train_loader, val_loader, num_epochs=50):\n",
    "    device = torch.device('cuda' if torch.cuda.is_available() else 'cpu')\n",
    "    model = model.to(device)\n",
    "    \n",
    "    # 1. Reduce learning rate and add weight decay\n",
    "    optimizer = optim.AdamW(\n",
    "        model.parameters(),\n",
    "        lr=0.0001,  # Reduced from 0.0003\n",
    "        weight_decay=0.05,  # Increased from 0.01\n",
    "        betas=(0.9, 0.999)\n",
    "    )\n",
    "    \n",
    "    # 2. Modified learning rate scheduler\n",
    "    scheduler = optim.lr_scheduler.ReduceLROnPlateau(\n",
    "        optimizer,\n",
    "        mode='max',\n",
    "        factor=0.5,\n",
    "        patience=5,\n",
    "        verbose=True\n",
    "    )\n",
    "    \n",
    "    # 3. Enhanced loss function\n",
    "    criterion = nn.CrossEntropyLoss(label_smoothing=0.2)  # Increased smoothing\n",
    "    recon_criterion = nn.MSELoss()\n",
    "    \n",
    "    # 4. Add early stopping\n",
    "    best_val_acc = 0\n",
    "    patience = 15\n",
    "    patience_counter = 0\n",
    "    best_model_state = None\n",
    "    \n",
    "    train_losses = []\n",
    "    val_losses = []\n",
    "    train_accs = []\n",
    "    val_accs = []\n",
    "    \n",
    "    for epoch in range(num_epochs):\n",
    "        # Training phase\n",
    "        model.train()\n",
    "        total_loss = 0\n",
    "        correct = 0\n",
    "        total = 0\n",
    "        hidden = None\n",
    "        \n",
    "        for batch_idx, (inputs, targets) in enumerate(train_loader):\n",
    "            inputs, targets = inputs.to(device), targets.to(device)\n",
    "            \n",
    "            # 5. Mixup augmentation\n",
    "            alpha = 0.2\n",
    "            lam = np.random.beta(alpha, alpha)\n",
    "            batch_size = inputs.size()[0]\n",
    "            index = torch.randperm(batch_size).to(device)\n",
    "            mixed_x = lam * inputs + (1 - lam) * inputs[index, :]\n",
    "            target_a, target_b = targets, targets[index]\n",
    "            \n",
    "            optimizer.zero_grad()\n",
    "            \n",
    "            # Forward pass\n",
    "            logits, recon, hidden = model(mixed_x, hidden)\n",
    "            hidden = [h.detach() for h in hidden]\n",
    "            \n",
    "            # 6. Modified loss calculation with mixup\n",
    "            ce_loss = lam * criterion(logits, target_a) + (1 - lam) * criterion(logits, target_b)\n",
    "            recon_loss = recon_criterion(recon, inputs)\n",
    "            loss = ce_loss + 0.05 * recon_loss  # Reduced reconstruction weight\n",
    "            \n",
    "            # Backward pass with gradient clipping\n",
    "            loss.backward()\n",
    "            torch.nn.utils.clip_grad_norm_(model.parameters(), max_norm=0.5)  # Reduced from 1.0\n",
    "            optimizer.step()\n",
    "            \n",
    "            # Update metrics\n",
    "            total_loss += loss.item()\n",
    "            _, predicted = logits.max(1)\n",
    "            total += targets.size(0)\n",
    "            correct += (lam * predicted.eq(target_a).float() + (1 - lam) * predicted.eq(target_b).float()).sum().item()\n",
    "        \n",
    "        train_loss = total_loss / len(train_loader)\n",
    "        train_acc = 100. * correct / total\n",
    "        \n",
    "        # Validation phase\n",
    "        model.eval()\n",
    "        val_loss = 0\n",
    "        val_correct = 0\n",
    "        val_total = 0\n",
    "        hidden = None\n",
    "        \n",
    "        with torch.no_grad():\n",
    "            for inputs, targets in val_loader:\n",
    "                inputs, targets = inputs.to(device), targets.to(device)\n",
    "                \n",
    "                # 7. Test-time augmentation\n",
    "                batch_size = inputs.size(0)\n",
    "                tta_samples = 3\n",
    "                tta_predictions = torch.zeros(batch_size, model.classifier[-1].out_features).to(device)\n",
    "                \n",
    "                for _ in range(tta_samples):\n",
    "                    logits, _, _ = model(inputs, hidden)\n",
    "                    tta_predictions += F.softmax(logits, dim=1)\n",
    "                \n",
    "                tta_predictions /= tta_samples\n",
    "                \n",
    "                loss = criterion(tta_predictions, targets)\n",
    "                val_loss += loss.item()\n",
    "                \n",
    "                _, predicted = tta_predictions.max(1)\n",
    "                val_total += targets.size(0)\n",
    "                val_correct += predicted.eq(targets).sum().item()\n",
    "        \n",
    "        val_loss = val_loss / len(val_loader)\n",
    "        val_acc = 100. * val_correct / val_total\n",
    "        \n",
    "        # Update learning rate based on validation accuracy\n",
    "        scheduler.step(val_acc)\n",
    "        \n",
    "        # Early stopping check\n",
    "        if val_acc > best_val_acc:\n",
    "            best_val_acc = val_acc\n",
    "            patience_counter = 0\n",
    "            best_model_state = model.state_dict().copy()\n",
    "        else:\n",
    "            patience_counter += 1\n",
    "            if patience_counter >= patience:\n",
    "                print(f'Early stopping triggered at epoch {epoch}')\n",
    "                model.load_state_dict(best_model_state)\n",
    "                break\n",
    "        \n",
    "        # Store metrics\n",
    "        train_losses.append(train_loss)\n",
    "        val_losses.append(val_loss)\n",
    "        train_accs.append(train_acc)\n",
    "        val_accs.append(val_acc)\n",
    "        \n",
    "        print(f'Epoch {epoch+1}/{num_epochs}:')\n",
    "        print(f'Train Loss: {train_loss:.4f}, Train Acc: {train_acc:.2f}%')\n",
    "        print(f'Val Loss: {val_loss:.4f}, Val Acc: {val_acc:.2f}%')\n",
    "    \n",
    "    # 8. Return best model\n",
    "    if best_model_state is not None:\n",
    "        model.load_state_dict(best_model_state)\n",
    "    \n",
    "    return model, train_losses, val_losses, train_accs, val_accs\n"
   ]
  },
  {
   "cell_type": "code",
   "execution_count": 7,
   "metadata": {},
   "outputs": [],
   "source": [
    "class EEGDataset(Dataset):\n",
    "    def __init__(self, data, labels, augment=False):\n",
    "        self.data = []\n",
    "        self.labels = []\n",
    "        \n",
    "        for i, eeg in enumerate(tqdm(data, desc=\"Creating spectrograms\")):\n",
    "            for channel in range(eeg.shape[0]):\n",
    "                spectrogram = create_spectrogram(preprocess_eeg(eeg[channel]))\n",
    "                if augment:\n",
    "                    specs = [\n",
    "                        spectrogram,\n",
    "                        jitter(spectrogram, sigma=0.01),\n",
    "                        scaling(spectrogram, sigma=0.1),\n",
    "                        add_noise(spectrogram, noise_level=0.01),\n",
    "                        time_warp(spectrogram, sigma=2)\n",
    "                    ]\n",
    "                    for spec in specs:\n",
    "                        self.data.append(spec)\n",
    "                        self.labels.append(labels[i])\n",
    "                else:\n",
    "                    self.data.append(spectrogram)\n",
    "                    self.labels.append(labels[i])\n",
    "        \n",
    "        self.data = torch.FloatTensor(np.stack(self.data))\n",
    "        self.data = self.data.unsqueeze(1)\n",
    "        self.labels = torch.LongTensor(self.labels)\n",
    "\n",
    "    def __len__(self):\n",
    "        return len(self.data)\n",
    "\n",
    "    def __getitem__(self, idx):\n",
    "        return self.data[idx], self.labels[idx]\n",
    "\n",
    "def add_noise(x, noise_level=0.01):\n",
    "    return x + np.random.randn(*x.shape) * noise_level\n",
    "\n",
    "def time_warp(x, sigma=2):\n",
    "    \"\"\"Apply time warping to a 2D spectrogram.\"\"\"\n",
    "    x = np.array(x)\n",
    "    if len(x.shape) != 2:\n",
    "        raise ValueError(f\"Expected 2D input, got shape {x.shape}\")\n",
    "        \n",
    "    time_steps = np.arange(x.shape[1])\n",
    "    # Generate random warping\n",
    "    warp = np.random.normal(loc=1.0, scale=sigma, size=(1,))\n",
    "    warp_steps = time_steps * warp\n",
    "    \n",
    "    # Ensure warp_steps are within bounds\n",
    "    warp_steps = np.clip(warp_steps, 0, x.shape[1]-1)\n",
    "    \n",
    "    # Apply warping to each frequency bin\n",
    "    warped = np.zeros_like(x)\n",
    "    for i in range(x.shape[0]):\n",
    "        warped[i, :] = np.interp(time_steps, warp_steps, x[i, :])\n",
    "    \n",
    "    return warped\n",
    "\n",
    "def jitter(x, sigma=0.01):\n",
    "    \"\"\"Add random jitter noise.\"\"\"\n",
    "    return x + np.random.normal(0, sigma, x.shape)\n",
    "\n",
    "def scaling(x, sigma=0.1):\n",
    "    \"\"\"Apply random scaling.\"\"\"\n",
    "    factor = np.random.normal(1.0, sigma)\n",
    "    return x * factor"
   ]
  },
  {
   "cell_type": "code",
   "execution_count": 8,
   "metadata": {},
   "outputs": [
    {
     "name": "stdout",
     "output_type": "stream",
     "text": [
      "(84, 6, 2500) [3 4 5 6 7 8 9]\n",
      "(36, 6, 2500) [0 1 2]\n",
      "Class shape: (120,)\n",
      "Data shape: (120, 6, 2500)\n"
     ]
    },
    {
     "name": "stderr",
     "output_type": "stream",
     "text": [
      "Creating spectrograms: 100%|██████████| 120/120 [00:01<00:00, 117.30it/s]\n"
     ]
    }
   ],
   "source": [
    "def load_eeg_data(file_path):\n",
    "    \"\"\"Load EEG data from OpenBCI-RAW files\"\"\"\n",
    "    try:\n",
    "        # Skip header rows and load only first 6 EEG channels\n",
    "        data = pd.read_csv(file_path, skiprows=6)\n",
    "        eeg_data = data.iloc[:, 1:7].values\n",
    "        return eeg_data\n",
    "    except Exception as e:\n",
    "        print(f\"Error loading file {file_path}: {e}\")\n",
    "        return None\n",
    "def load_folder_data(root_path, tasks=['baseline', 'counting', 'logical', 'rotation']):\n",
    "    root = Path(root_path)\n",
    "    X, y = [], []\n",
    "    subjects = [d for d in root.iterdir() if d.is_dir() and d.name in ['eshwa', 'Giri', 'Nithish']]\n",
    "    \n",
    "    for subject_idx, subject in enumerate(subjects):\n",
    "        for task in tasks:\n",
    "            session_pattern = f\"OpenBCISession_{subject.name.lower()}_{task}_*\"\n",
    "            sessions = list(subject.glob(session_pattern))\n",
    "            \n",
    "            for session in sessions:\n",
    "                raw_files = list(session.glob(\"OpenBCI-RAW-*.txt\"))\n",
    "                \n",
    "                for raw_file in raw_files:\n",
    "                    eeg_data = load_eeg_data(raw_file)\n",
    "                    if eeg_data is not None:\n",
    "                        # Ensure we have enough data to slice 2500 samples\n",
    "                        if eeg_data.shape[0] >= 6250:\n",
    "                            # Extract 2500 samples from each of the 6 channels\n",
    "                            X.append(eeg_data[3750:6250, :6])\n",
    "                            y.append(subject_idx)\n",
    "    \n",
    "    # Convert to numpy arrays\n",
    "    X = np.array(X)\n",
    "    y = np.array(y)\n",
    "    \n",
    "    # Check if we have the desired number of samples\n",
    "    if X.shape[0] != 36:\n",
    "        print(f\"Warning: Expected 36 samples, but got {X.shape[0]}\")\n",
    "    \n",
    "    return X, y\n",
    "    \n",
    "mat_inputs, mat_targets = load_mat_data('eegdata.mat')\n",
    "folder_inputs, folder_targets = load_folder_data('dataset')\n",
    "\n",
    "# Ensure both datasets have the same number of dimensions\n",
    "if mat_inputs.ndim == 3 and folder_inputs.ndim == 2:\n",
    "    folder_inputs = folder_inputs[:, np.newaxis, :]  # Add a new axis to match dimensions\n",
    "\n",
    "print(mat_inputs.shape,np.unique(mat_targets))\n",
    "\n",
    "folder_inputs = folder_inputs.transpose(0, 2, 1)\n",
    "print(folder_inputs.shape,np.unique(folder_targets))\n",
    "X = np.concatenate((folder_inputs,mat_inputs), axis=0)\n",
    "y = np.concatenate((folder_targets,mat_targets), axis=0)\n",
    "\n",
    "# Print class and data shapes\n",
    "print(f\"Class shape: {y.shape}\")\n",
    "print(f\"Data shape: {X.shape}\")\n",
    "\n",
    "# Prepare data loaders\n",
    "dataset = EEGDataset(X, y, augment=True)\n",
    "train_size = int(0.8 * len(dataset))\n",
    "val_size = len(dataset) - train_size\n",
    "train_dataset, val_dataset = torch.utils.data.random_split(dataset, [train_size, val_size])\n",
    "train_loader = DataLoader(train_dataset, batch_size=32, shuffle=True)\n",
    "val_loader = DataLoader(val_dataset, batch_size=32)\n"
   ]
  },
  {
   "cell_type": "code",
   "execution_count": 9,
   "metadata": {},
   "outputs": [
    {
     "data": {
      "image/png": "[encoded data removed]",
      "text/plain": [
       "<Figure size 640x480 with 2 Axes>"
      ]
     },
     "metadata": {},
     "output_type": "display_data"
    },
    {
     "name": "stdout",
     "output_type": "stream",
     "text": [
      "0\n"
     ]
    },
    {
     "data": {
      "text/plain": [
       "array([0, 0, 0, 0, 0, 0, 0, 0, 0, 0, 0, 0, 1, 1, 1, 1, 1, 1, 1, 1, 1, 1,\n",
       "       1, 1, 2, 2, 2, 2, 2, 2, 2, 2, 2, 2, 2, 2, 3, 3, 3, 3, 3, 3, 3, 3,\n",
       "       3, 3, 3, 3, 4, 4, 4, 4, 4, 4, 4, 4, 4, 4, 4, 4, 5, 5, 5, 5, 5, 5,\n",
       "       5, 5, 5, 5, 5, 5, 6, 6, 6, 6, 6, 6, 6, 6, 6, 6, 6, 6, 7, 7, 7, 7,\n",
       "       7, 7, 7, 7, 7, 7, 7, 7, 8, 8, 8, 8, 8, 8, 8, 8, 8, 8, 8, 8, 9, 9,\n",
       "       9, 9, 9, 9, 9, 9, 9, 9, 9, 9])"
      ]
     },
     "execution_count": 9,
     "metadata": {},
     "output_type": "execute_result"
    }
   ],
   "source": [
    "plt.imshow(create_spectrogram(X[0][0]), aspect='auto', cmap='viridis')\n",
    "plt.title('Sample Spectrogram')\n",
    "plt.xlabel('Time')\n",
    "plt.ylabel('Frequency')\n",
    "plt.colorbar()\n",
    "plt.show()\n",
    "print(y[0])\n",
    "y"
   ]
  },
  {
   "cell_type": "code",
   "execution_count": 10,
   "metadata": {},
   "outputs": [
    {
     "name": "stderr",
     "output_type": "stream",
     "text": [
      "Creating spectrograms: 100%|██████████| 120/120 [00:01<00:00, 116.86it/s]\n"
     ]
    }
   ],
   "source": [
    "# Update dataset creation\n",
    "dataset = EEGDataset(X, y, augment=True)\n",
    "train_size = int(0.8 * len(dataset))\n",
    "val_size = len(dataset) - train_size\n",
    "\n",
    "# Use smaller batch size for CPU\n",
    "num_classes = len(np.unique(y))\n",
    "train_dataset, val_dataset = torch.utils.data.random_split(dataset, [train_size, val_size])\n",
    "train_loader = DataLoader(train_dataset, batch_size=32, shuffle=True, num_workers=0, pin_memory=False)\n",
    "val_loader = DataLoader(val_dataset, batch_size=32, shuffle=False, num_workers=0, pin_memory=False)\n"
   ]
  },
  {
   "cell_type": "code",
   "execution_count": 18,
   "metadata": {},
   "outputs": [
    {
     "name": "stderr",
     "output_type": "stream",
     "text": [
      "Creating spectrograms: 100%|██████████| 120/120 [00:01<00:00, 77.78it/s]\n",
      "Epoch 1/50:   0%|          | 0/90 [00:00<?, ?it/s]C:\\Users\\eshwa\\AppData\\Local\\Temp\\ipykernel_29280\\1028220634.py:37: UserWarning: Using a target size (torch.Size([32, 4, 1, 1])) that is different to the input size (torch.Size([32, 4, 1, 64])). This will likely lead to incorrect results due to broadcasting. Please ensure they have the same size.\n",
      "  consistency_loss = F.smooth_l1_loss(\n",
      "Epoch 1/50: 100%|██████████| 90/90 [00:22<00:00,  3.97it/s, loss=2.0258, acc=26.88%]\n",
      "C:\\Users\\eshwa\\AppData\\Local\\Temp\\ipykernel_29280\\1028220634.py:37: UserWarning: Using a target size (torch.Size([16, 4, 1, 1])) that is different to the input size (torch.Size([16, 4, 1, 64])). This will likely lead to incorrect results due to broadcasting. Please ensure they have the same size.\n",
      "  consistency_loss = F.smooth_l1_loss(\n"
     ]
    },
    {
     "name": "stdout",
     "output_type": "stream",
     "text": [
      "\n",
      "Epoch 1/50:\n",
      "Train Loss: 2.0258, Train Acc: 26.88%\n",
      "Val Loss: 2.0477, Val Acc: 21.53%\n"
     ]
    },
    {
     "name": "stderr",
     "output_type": "stream",
     "text": [
      "Epoch 2/50: 100%|██████████| 90/90 [00:22<00:00,  4.09it/s, loss=1.8317, acc=42.01%]\n"
     ]
    },
    {
     "name": "stdout",
     "output_type": "stream",
     "text": [
      "\n",
      "Epoch 2/50:\n",
      "Train Loss: 1.8317, Train Acc: 42.01%\n",
      "Val Loss: 2.0062, Val Acc: 28.47%\n"
     ]
    },
    {
     "name": "stderr",
     "output_type": "stream",
     "text": [
      "Epoch 3/50: 100%|██████████| 90/90 [00:21<00:00,  4.09it/s, loss=1.6241, acc=56.11%]\n"
     ]
    },
    {
     "name": "stdout",
     "output_type": "stream",
     "text": [
      "\n",
      "Epoch 3/50:\n",
      "Train Loss: 1.6241, Train Acc: 56.11%\n",
      "Val Loss: 2.0563, Val Acc: 30.69%\n"
     ]
    },
    {
     "name": "stderr",
     "output_type": "stream",
     "text": [
      "Epoch 4/50: 100%|██████████| 90/90 [00:21<00:00,  4.12it/s, loss=1.5713, acc=59.03%]\n"
     ]
    },
    {
     "name": "stdout",
     "output_type": "stream",
     "text": [
      "\n",
      "Epoch 4/50:\n",
      "Train Loss: 1.5713, Train Acc: 59.03%\n",
      "Val Loss: 1.8572, Val Acc: 38.75%\n"
     ]
    },
    {
     "name": "stderr",
     "output_type": "stream",
     "text": [
      "Epoch 5/50: 100%|██████████| 90/90 [00:23<00:00,  3.86it/s, loss=1.4661, acc=67.33%]\n"
     ]
    },
    {
     "name": "stdout",
     "output_type": "stream",
     "text": [
      "\n",
      "Epoch 5/50:\n",
      "Train Loss: 1.4661, Train Acc: 67.33%\n",
      "Val Loss: 1.8817, Val Acc: 40.56%\n"
     ]
    },
    {
     "name": "stderr",
     "output_type": "stream",
     "text": [
      "Epoch 6/50: 100%|██████████| 90/90 [00:22<00:00,  3.94it/s, loss=1.4030, acc=70.94%]\n"
     ]
    },
    {
     "name": "stdout",
     "output_type": "stream",
     "text": [
      "\n",
      "Epoch 6/50:\n",
      "Train Loss: 1.4030, Train Acc: 70.94%\n",
      "Val Loss: 1.6679, Val Acc: 56.94%\n"
     ]
    },
    {
     "name": "stderr",
     "output_type": "stream",
     "text": [
      "Epoch 7/50: 100%|██████████| 90/90 [00:22<00:00,  3.96it/s, loss=1.3761, acc=73.40%]\n"
     ]
    },
    {
     "name": "stdout",
     "output_type": "stream",
     "text": [
      "\n",
      "Epoch 7/50:\n",
      "Train Loss: 1.3761, Train Acc: 73.40%\n",
      "Val Loss: 1.8868, Val Acc: 39.17%\n"
     ]
    },
    {
     "name": "stderr",
     "output_type": "stream",
     "text": [
      "Epoch 8/50: 100%|██████████| 90/90 [00:24<00:00,  3.66it/s, loss=1.3817, acc=74.27%]\n"
     ]
    },
    {
     "name": "stdout",
     "output_type": "stream",
     "text": [
      "\n",
      "Epoch 8/50:\n",
      "Train Loss: 1.3817, Train Acc: 74.27%\n",
      "Val Loss: 1.6241, Val Acc: 53.33%\n"
     ]
    },
    {
     "name": "stderr",
     "output_type": "stream",
     "text": [
      "Epoch 9/50: 100%|██████████| 90/90 [00:25<00:00,  3.59it/s, loss=1.3207, acc=77.15%]\n"
     ]
    },
    {
     "name": "stdout",
     "output_type": "stream",
     "text": [
      "\n",
      "Epoch 9/50:\n",
      "Train Loss: 1.3207, Train Acc: 77.15%\n",
      "Val Loss: 1.7789, Val Acc: 45.83%\n"
     ]
    },
    {
     "name": "stderr",
     "output_type": "stream",
     "text": [
      "Epoch 10/50: 100%|██████████| 90/90 [00:26<00:00,  3.36it/s, loss=1.2808, acc=79.44%]\n"
     ]
    },
    {
     "name": "stdout",
     "output_type": "stream",
     "text": [
      "\n",
      "Epoch 10/50:\n",
      "Train Loss: 1.2808, Train Acc: 79.44%\n",
      "Val Loss: 1.6984, Val Acc: 50.14%\n"
     ]
    },
    {
     "name": "stderr",
     "output_type": "stream",
     "text": [
      "Epoch 11/50: 100%|██████████| 90/90 [00:24<00:00,  3.74it/s, loss=1.2430, acc=82.53%]\n"
     ]
    },
    {
     "name": "stdout",
     "output_type": "stream",
     "text": [
      "\n",
      "Epoch 11/50:\n",
      "Train Loss: 1.2430, Train Acc: 82.53%\n",
      "Val Loss: 1.6706, Val Acc: 53.19%\n"
     ]
    },
    {
     "name": "stderr",
     "output_type": "stream",
     "text": [
      "Epoch 12/50: 100%|██████████| 90/90 [00:32<00:00,  2.81it/s, loss=1.1977, acc=85.31%]\n"
     ]
    },
    {
     "name": "stdout",
     "output_type": "stream",
     "text": [
      "\n",
      "Epoch 12/50:\n",
      "Train Loss: 1.1977, Train Acc: 85.31%\n",
      "Val Loss: 1.7592, Val Acc: 49.72%\n"
     ]
    },
    {
     "name": "stderr",
     "output_type": "stream",
     "text": [
      "Epoch 13/50: 100%|██████████| 90/90 [00:27<00:00,  3.31it/s, loss=1.1595, acc=87.71%]\n"
     ]
    },
    {
     "name": "stdout",
     "output_type": "stream",
     "text": [
      "\n",
      "Epoch 13/50:\n",
      "Train Loss: 1.1595, Train Acc: 87.71%\n",
      "Val Loss: 1.7200, Val Acc: 53.61%\n"
     ]
    },
    {
     "name": "stderr",
     "output_type": "stream",
     "text": [
      "Epoch 14/50: 100%|██████████| 90/90 [00:29<00:00,  3.07it/s, loss=1.1555, acc=88.40%]\n"
     ]
    },
    {
     "name": "stdout",
     "output_type": "stream",
     "text": [
      "\n",
      "Epoch 14/50:\n",
      "Train Loss: 1.1555, Train Acc: 88.40%\n",
      "Val Loss: 1.7352, Val Acc: 52.36%\n"
     ]
    },
    {
     "name": "stderr",
     "output_type": "stream",
     "text": [
      "Epoch 15/50: 100%|██████████| 90/90 [00:22<00:00,  4.05it/s, loss=1.2386, acc=81.77%]\n"
     ]
    },
    {
     "name": "stdout",
     "output_type": "stream",
     "text": [
      "\n",
      "Epoch 15/50:\n",
      "Train Loss: 1.2386, Train Acc: 81.77%\n",
      "Val Loss: 1.5516, Val Acc: 65.97%\n"
     ]
    },
    {
     "name": "stderr",
     "output_type": "stream",
     "text": [
      "Epoch 16/50: 100%|██████████| 90/90 [00:25<00:00,  3.53it/s, loss=1.2074, acc=84.90%]\n"
     ]
    },
    {
     "name": "stdout",
     "output_type": "stream",
     "text": [
      "\n",
      "Epoch 16/50:\n",
      "Train Loss: 1.2074, Train Acc: 84.90%\n",
      "Val Loss: 1.7920, Val Acc: 47.36%\n"
     ]
    },
    {
     "name": "stderr",
     "output_type": "stream",
     "text": [
      "Epoch 17/50: 100%|██████████| 90/90 [00:23<00:00,  3.89it/s, loss=1.1754, acc=86.84%]\n"
     ]
    },
    {
     "name": "stdout",
     "output_type": "stream",
     "text": [
      "\n",
      "Epoch 17/50:\n",
      "Train Loss: 1.1754, Train Acc: 86.84%\n",
      "Val Loss: 1.9060, Val Acc: 44.44%\n"
     ]
    },
    {
     "name": "stderr",
     "output_type": "stream",
     "text": [
      "Epoch 18/50: 100%|██████████| 90/90 [00:22<00:00,  3.99it/s, loss=1.1253, acc=89.97%]\n"
     ]
    },
    {
     "name": "stdout",
     "output_type": "stream",
     "text": [
      "\n",
      "Epoch 18/50:\n",
      "Train Loss: 1.1253, Train Acc: 89.97%\n",
      "Val Loss: 1.8095, Val Acc: 47.36%\n"
     ]
    },
    {
     "name": "stderr",
     "output_type": "stream",
     "text": [
      "Epoch 19/50: 100%|██████████| 90/90 [00:22<00:00,  3.92it/s, loss=1.1059, acc=91.08%]\n"
     ]
    },
    {
     "name": "stdout",
     "output_type": "stream",
     "text": [
      "\n",
      "Epoch 19/50:\n",
      "Train Loss: 1.1059, Train Acc: 91.08%\n",
      "Val Loss: 2.1291, Val Acc: 43.06%\n"
     ]
    },
    {
     "name": "stderr",
     "output_type": "stream",
     "text": [
      "Epoch 20/50: 100%|██████████| 90/90 [00:23<00:00,  3.81it/s, loss=1.0921, acc=91.77%]\n"
     ]
    },
    {
     "name": "stdout",
     "output_type": "stream",
     "text": [
      "\n",
      "Epoch 20/50:\n",
      "Train Loss: 1.0921, Train Acc: 91.77%\n",
      "Val Loss: 2.5702, Val Acc: 32.92%\n"
     ]
    },
    {
     "name": "stderr",
     "output_type": "stream",
     "text": [
      "Epoch 21/50: 100%|██████████| 90/90 [00:25<00:00,  3.48it/s, loss=1.0680, acc=93.30%]\n"
     ]
    },
    {
     "name": "stdout",
     "output_type": "stream",
     "text": [
      "\n",
      "Epoch 21/50:\n",
      "Train Loss: 1.0680, Train Acc: 93.30%\n",
      "Val Loss: 2.2214, Val Acc: 42.64%\n"
     ]
    },
    {
     "name": "stderr",
     "output_type": "stream",
     "text": [
      "Epoch 22/50: 100%|██████████| 90/90 [00:28<00:00,  3.20it/s, loss=1.0410, acc=94.72%]\n"
     ]
    },
    {
     "name": "stdout",
     "output_type": "stream",
     "text": [
      "\n",
      "Epoch 22/50:\n",
      "Train Loss: 1.0410, Train Acc: 94.72%\n",
      "Val Loss: 2.5151, Val Acc: 40.42%\n"
     ]
    },
    {
     "name": "stderr",
     "output_type": "stream",
     "text": [
      "Epoch 23/50: 100%|██████████| 90/90 [00:23<00:00,  3.86it/s, loss=1.0309, acc=95.94%]\n"
     ]
    },
    {
     "name": "stdout",
     "output_type": "stream",
     "text": [
      "\n",
      "Epoch 23/50:\n",
      "Train Loss: 1.0309, Train Acc: 95.94%\n",
      "Val Loss: 2.3441, Val Acc: 42.08%\n"
     ]
    },
    {
     "name": "stderr",
     "output_type": "stream",
     "text": [
      "Epoch 24/50: 100%|██████████| 90/90 [00:25<00:00,  3.53it/s, loss=1.0166, acc=96.60%]\n"
     ]
    },
    {
     "name": "stdout",
     "output_type": "stream",
     "text": [
      "\n",
      "Epoch 24/50:\n",
      "Train Loss: 1.0166, Train Acc: 96.60%\n",
      "Val Loss: 2.4647, Val Acc: 40.97%\n"
     ]
    },
    {
     "name": "stderr",
     "output_type": "stream",
     "text": [
      "Epoch 25/50:  12%|█▏        | 11/90 [00:03<00:23,  3.43it/s, loss=1.0245, acc=95.74%]\n"
     ]
    },
    {
     "ename": "KeyboardInterrupt",
     "evalue": "",
     "output_type": "error",
     "traceback": [
      "\u001b[1;31m---------------------------------------------------------------------------\u001b[0m",
      "\u001b[1;31mKeyboardInterrupt\u001b[0m                         Traceback (most recent call last)",
      "Cell \u001b[1;32mIn[18], line 19\u001b[0m\n\u001b[0;32m     12\u001b[0m \u001b[38;5;66;03m# Train with optimized parameters\u001b[39;00m\n\u001b[0;32m     13\u001b[0m model \u001b[38;5;241m=\u001b[39m EEGClassifier(\n\u001b[0;32m     14\u001b[0m     input_channels\u001b[38;5;241m=\u001b[39m\u001b[38;5;241m1\u001b[39m,\n\u001b[0;32m     15\u001b[0m     num_classes\u001b[38;5;241m=\u001b[39mnum_classes,\n\u001b[0;32m     16\u001b[0m     dropout_prob\u001b[38;5;241m=\u001b[39m\u001b[38;5;241m0.5\u001b[39m\n\u001b[0;32m     17\u001b[0m )\n\u001b[1;32m---> 19\u001b[0m trained_model \u001b[38;5;241m=\u001b[39m \u001b[43mtrain_model\u001b[49m\u001b[43m(\u001b[49m\n\u001b[0;32m     20\u001b[0m \u001b[43m    \u001b[49m\u001b[43mmodel\u001b[49m\u001b[43m,\u001b[49m\n\u001b[0;32m     21\u001b[0m \u001b[43m    \u001b[49m\u001b[43mtrain_loader\u001b[49m\u001b[43m,\u001b[49m\n\u001b[0;32m     22\u001b[0m \u001b[43m    \u001b[49m\u001b[43mval_loader\u001b[49m\u001b[43m,\u001b[49m\n\u001b[0;32m     23\u001b[0m \u001b[43m    \u001b[49m\u001b[43mnum_epochs\u001b[49m\u001b[38;5;241;43m=\u001b[39;49m\u001b[38;5;241;43m50\u001b[39;49m\u001b[43m,\u001b[49m\n\u001b[0;32m     24\u001b[0m \u001b[43m)\u001b[49m\n",
      "Cell \u001b[1;32mIn[17], line 70\u001b[0m, in \u001b[0;36mtrain_model\u001b[1;34m(model, train_loader, val_loader, num_epochs)\u001b[0m\n\u001b[0;32m     68\u001b[0m \u001b[38;5;66;03m# Scale loss for gradient accumulation\u001b[39;00m\n\u001b[0;32m     69\u001b[0m loss \u001b[38;5;241m=\u001b[39m loss \u001b[38;5;241m/\u001b[39m num_accumulation_steps\n\u001b[1;32m---> 70\u001b[0m \u001b[43mloss\u001b[49m\u001b[38;5;241;43m.\u001b[39;49m\u001b[43mbackward\u001b[49m\u001b[43m(\u001b[49m\u001b[43m)\u001b[49m\n\u001b[0;32m     72\u001b[0m \u001b[38;5;66;03m# Update weights after accumulation steps\u001b[39;00m\n\u001b[0;32m     73\u001b[0m \u001b[38;5;28;01mif\u001b[39;00m (batch_idx \u001b[38;5;241m+\u001b[39m \u001b[38;5;241m1\u001b[39m) \u001b[38;5;241m%\u001b[39m num_accumulation_steps \u001b[38;5;241m==\u001b[39m \u001b[38;5;241m0\u001b[39m:\n\u001b[0;32m     74\u001b[0m     \u001b[38;5;66;03m# Gradient clipping\u001b[39;00m\n",
      "File \u001b[1;32m~\\AppData\\Local\\Packages\\PythonSoftwareFoundation.Python.3.12_qbz5n2kfra8p0\\LocalCache\\local-packages\\Python312\\site-packages\\torch\\_tensor.py:521\u001b[0m, in \u001b[0;36mTensor.backward\u001b[1;34m(self, gradient, retain_graph, create_graph, inputs)\u001b[0m\n\u001b[0;32m    511\u001b[0m \u001b[38;5;28;01mif\u001b[39;00m has_torch_function_unary(\u001b[38;5;28mself\u001b[39m):\n\u001b[0;32m    512\u001b[0m     \u001b[38;5;28;01mreturn\u001b[39;00m handle_torch_function(\n\u001b[0;32m    513\u001b[0m         Tensor\u001b[38;5;241m.\u001b[39mbackward,\n\u001b[0;32m    514\u001b[0m         (\u001b[38;5;28mself\u001b[39m,),\n\u001b[1;32m   (...)\u001b[0m\n\u001b[0;32m    519\u001b[0m         inputs\u001b[38;5;241m=\u001b[39minputs,\n\u001b[0;32m    520\u001b[0m     )\n\u001b[1;32m--> 521\u001b[0m \u001b[43mtorch\u001b[49m\u001b[38;5;241;43m.\u001b[39;49m\u001b[43mautograd\u001b[49m\u001b[38;5;241;43m.\u001b[39;49m\u001b[43mbackward\u001b[49m\u001b[43m(\u001b[49m\n\u001b[0;32m    522\u001b[0m \u001b[43m    \u001b[49m\u001b[38;5;28;43mself\u001b[39;49m\u001b[43m,\u001b[49m\u001b[43m \u001b[49m\u001b[43mgradient\u001b[49m\u001b[43m,\u001b[49m\u001b[43m \u001b[49m\u001b[43mretain_graph\u001b[49m\u001b[43m,\u001b[49m\u001b[43m \u001b[49m\u001b[43mcreate_graph\u001b[49m\u001b[43m,\u001b[49m\u001b[43m \u001b[49m\u001b[43minputs\u001b[49m\u001b[38;5;241;43m=\u001b[39;49m\u001b[43minputs\u001b[49m\n\u001b[0;32m    523\u001b[0m \u001b[43m\u001b[49m\u001b[43m)\u001b[49m\n",
      "File \u001b[1;32m~\\AppData\\Local\\Packages\\PythonSoftwareFoundation.Python.3.12_qbz5n2kfra8p0\\LocalCache\\local-packages\\Python312\\site-packages\\torch\\autograd\\__init__.py:289\u001b[0m, in \u001b[0;36mbackward\u001b[1;34m(tensors, grad_tensors, retain_graph, create_graph, grad_variables, inputs)\u001b[0m\n\u001b[0;32m    284\u001b[0m     retain_graph \u001b[38;5;241m=\u001b[39m create_graph\n\u001b[0;32m    286\u001b[0m \u001b[38;5;66;03m# The reason we repeat the same comment below is that\u001b[39;00m\n\u001b[0;32m    287\u001b[0m \u001b[38;5;66;03m# some Python versions print out the first line of a multi-line function\u001b[39;00m\n\u001b[0;32m    288\u001b[0m \u001b[38;5;66;03m# calls in the traceback and some print out the last line\u001b[39;00m\n\u001b[1;32m--> 289\u001b[0m \u001b[43m_engine_run_backward\u001b[49m\u001b[43m(\u001b[49m\n\u001b[0;32m    290\u001b[0m \u001b[43m    \u001b[49m\u001b[43mtensors\u001b[49m\u001b[43m,\u001b[49m\n\u001b[0;32m    291\u001b[0m \u001b[43m    \u001b[49m\u001b[43mgrad_tensors_\u001b[49m\u001b[43m,\u001b[49m\n\u001b[0;32m    292\u001b[0m \u001b[43m    \u001b[49m\u001b[43mretain_graph\u001b[49m\u001b[43m,\u001b[49m\n\u001b[0;32m    293\u001b[0m \u001b[43m    \u001b[49m\u001b[43mcreate_graph\u001b[49m\u001b[43m,\u001b[49m\n\u001b[0;32m    294\u001b[0m \u001b[43m    \u001b[49m\u001b[43minputs\u001b[49m\u001b[43m,\u001b[49m\n\u001b[0;32m    295\u001b[0m \u001b[43m    \u001b[49m\u001b[43mallow_unreachable\u001b[49m\u001b[38;5;241;43m=\u001b[39;49m\u001b[38;5;28;43;01mTrue\u001b[39;49;00m\u001b[43m,\u001b[49m\n\u001b[0;32m    296\u001b[0m \u001b[43m    \u001b[49m\u001b[43maccumulate_grad\u001b[49m\u001b[38;5;241;43m=\u001b[39;49m\u001b[38;5;28;43;01mTrue\u001b[39;49;00m\u001b[43m,\u001b[49m\n\u001b[0;32m    297\u001b[0m \u001b[43m\u001b[49m\u001b[43m)\u001b[49m\n",
      "File \u001b[1;32m~\\AppData\\Local\\Packages\\PythonSoftwareFoundation.Python.3.12_qbz5n2kfra8p0\\LocalCache\\local-packages\\Python312\\site-packages\\torch\\autograd\\graph.py:768\u001b[0m, in \u001b[0;36m_engine_run_backward\u001b[1;34m(t_outputs, *args, **kwargs)\u001b[0m\n\u001b[0;32m    766\u001b[0m     unregister_hooks \u001b[38;5;241m=\u001b[39m _register_logging_hooks_on_whole_graph(t_outputs)\n\u001b[0;32m    767\u001b[0m \u001b[38;5;28;01mtry\u001b[39;00m:\n\u001b[1;32m--> 768\u001b[0m     \u001b[38;5;28;01mreturn\u001b[39;00m \u001b[43mVariable\u001b[49m\u001b[38;5;241;43m.\u001b[39;49m\u001b[43m_execution_engine\u001b[49m\u001b[38;5;241;43m.\u001b[39;49m\u001b[43mrun_backward\u001b[49m\u001b[43m(\u001b[49m\u001b[43m  \u001b[49m\u001b[38;5;66;43;03m# Calls into the C++ engine to run the backward pass\u001b[39;49;00m\n\u001b[0;32m    769\u001b[0m \u001b[43m        \u001b[49m\u001b[43mt_outputs\u001b[49m\u001b[43m,\u001b[49m\u001b[43m \u001b[49m\u001b[38;5;241;43m*\u001b[39;49m\u001b[43margs\u001b[49m\u001b[43m,\u001b[49m\u001b[43m \u001b[49m\u001b[38;5;241;43m*\u001b[39;49m\u001b[38;5;241;43m*\u001b[39;49m\u001b[43mkwargs\u001b[49m\n\u001b[0;32m    770\u001b[0m \u001b[43m    \u001b[49m\u001b[43m)\u001b[49m  \u001b[38;5;66;03m# Calls into the C++ engine to run the backward pass\u001b[39;00m\n\u001b[0;32m    771\u001b[0m \u001b[38;5;28;01mfinally\u001b[39;00m:\n\u001b[0;32m    772\u001b[0m     \u001b[38;5;28;01mif\u001b[39;00m attach_logging_hooks:\n",
      "\u001b[1;31mKeyboardInterrupt\u001b[0m: "
     ]
    }
   ],
   "source": [
    "# Update dataset creation\n",
    "dataset = EEGDataset(X, y, augment=True)\n",
    "train_size = int(0.8 * len(dataset))\n",
    "val_size = len(dataset) - train_size\n",
    "\n",
    "# Use smaller batch size for CPU\n",
    "num_classes = len(np.unique(y))\n",
    "train_dataset, val_dataset = torch.utils.data.random_split(dataset, [train_size, val_size])\n",
    "train_loader = DataLoader(train_dataset, batch_size=32, shuffle=True, num_workers=0, pin_memory=False)\n",
    "val_loader = DataLoader(val_dataset, batch_size=32, shuffle=False, num_workers=0, pin_memory=False)\n",
    "\n",
    "# Train with optimized parameters\n",
    "model = EEGClassifier(\n",
    "    input_channels=1,\n",
    "    num_classes=num_classes,\n",
    "    dropout_prob=0.5\n",
    ")\n",
    "\n",
    "trained_model = train_model(\n",
    "    model,\n",
    "    train_loader,\n",
    "    val_loader,\n",
    "    num_epochs=50,\n",
    ")"
   ]
  },
  {
   "cell_type": "code",
   "execution_count": 19,
   "metadata": {},
   "outputs": [],
   "source": [
    "import torch\n",
    "import torch.nn as nn\n",
    "import torch.nn.functional as F\n",
    "import torch.optim as optim\n",
    "from torch.utils.data import DataLoader\n",
    "\n",
    "class TTTCell(nn.Module):\n",
    "    def __init__(self, input_size, hidden_size, eta=0.001):\n",
    "        super().__init__()\n",
    "        self.hidden_size = hidden_size\n",
    "        self.eta = eta\n",
    "        \n",
    "        # Hidden state model (f in the paper)\n",
    "        self.hidden_model = nn.Sequential(\n",
    "            nn.Linear(input_size, hidden_size * 2),\n",
    "            nn.LayerNorm(hidden_size * 2),\n",
    "            nn.GELU(),\n",
    "            nn.Linear(hidden_size * 2, hidden_size)\n",
    "        )\n",
    "        \n",
    "        # Initialize cache for test-time updates\n",
    "        self.cache_params = {}\n",
    "        \n",
    "    def forward(self, x, hidden, is_training=True):\n",
    "        if is_training:\n",
    "            next_hidden = self.hidden_model(x)\n",
    "        else:\n",
    "            # Test-time training update\n",
    "            with torch.enable_grad():\n",
    "                x_temp = x.detach().requires_grad_()\n",
    "                pred = self.hidden_model(x_temp)\n",
    "                \n",
    "                # Self-supervised loss (as described in paper section 2.1)\n",
    "                l2_loss = pred.pow(2).mean()\n",
    "                consistency_loss = torch.abs(pred - x_temp.mean(dim=-1, keepdim=True)).mean()\n",
    "                loss = l2_loss + 0.1 * consistency_loss\n",
    "                \n",
    "                # Update hidden model parameters\n",
    "                grads = torch.autograd.grad(loss, self.hidden_model.parameters())\n",
    "                \n",
    "                with torch.no_grad():\n",
    "                    for param, grad in zip(self.hidden_model.parameters(), grads):\n",
    "                        if f'momentum_{id(param)}' not in self.cache_params:\n",
    "                            self.cache_params[f'momentum_{id(param)}'] = torch.zeros_like(param)\n",
    "                        \n",
    "                        # Momentum update\n",
    "                        self.cache_params[f'momentum_{id(param)}'].mul_(0.9).add_(grad, alpha=0.1)\n",
    "                        param.add_(self.cache_params[f'momentum_{id(param)}'], alpha=-self.eta)\n",
    "                \n",
    "                next_hidden = self.hidden_model(x)\n",
    "                \n",
    "        return next_hidden\n",
    "\n",
    "\n",
    "class TTTRNN(nn.Module):\n",
    "    def __init__(self, input_size, hidden_size, num_layers=2):\n",
    "        super().__init__()\n",
    "        self.hidden_size = hidden_size\n",
    "        self.num_layers = num_layers\n",
    "        \n",
    "        # Create TTT cells for each layer\n",
    "        self.cells = nn.ModuleList([\n",
    "            TTTCell(\n",
    "                input_size if i == 0 else hidden_size,\n",
    "                hidden_size\n",
    "            ) for i in range(num_layers)\n",
    "        ])\n",
    "    \n",
    "    def forward(self, x, hidden=None, is_training=True):\n",
    "        batch_size, seq_len, _ = x.shape\n",
    "        \n",
    "        if hidden is None:\n",
    "            hidden = [torch.zeros(batch_size, self.hidden_size).to(x.device)\n",
    "                     for _ in range(self.num_layers)]\n",
    "        \n",
    "        outputs = []\n",
    "        for t in range(seq_len):\n",
    "            layer_input = x[:, t, :]\n",
    "            for layer_idx, cell in enumerate(self.cells):\n",
    "                hidden[layer_idx] = cell(layer_input, hidden[layer_idx], is_training)\n",
    "                layer_input = hidden[layer_idx]\n",
    "            outputs.append(layer_input)\n",
    "            \n",
    "        outputs = torch.stack(outputs, dim=1)\n",
    "        return outputs, hidden\n",
    "\n",
    "\n",
    "class EEGClassifier(nn.Module):\n",
    "    def __init__(self, input_channels=1, num_classes=10, dropout_prob=0.5):\n",
    "        super().__init__()\n",
    "        self.cache_params = {}\n",
    "        \n",
    "        # Feature extractor\n",
    "        self.feature_extractor = nn.Sequential(\n",
    "            # Initial block\n",
    "            nn.Conv2d(input_channels, 32, kernel_size=3, padding=1),\n",
    "            nn.BatchNorm2d(32),\n",
    "            nn.ReLU(),\n",
    "            nn.MaxPool2d(2),  # 25x25\n",
    "            nn.Dropout(0.2),\n",
    "            \n",
    "            # Second block\n",
    "            nn.Conv2d(32, 64, kernel_size=3, padding=1),\n",
    "            nn.BatchNorm2d(64),\n",
    "            nn.ReLU(),\n",
    "            nn.MaxPool2d(2),  # 12x12\n",
    "            \n",
    "            # Third block\n",
    "            nn.Conv2d(64, 128, kernel_size=3, padding=1),\n",
    "            nn.BatchNorm2d(128),\n",
    "            nn.ReLU(),\n",
    "            nn.MaxPool2d(2),  # 6x6\n",
    "            \n",
    "            # Fourth block with global pooling\n",
    "            nn.Conv2d(128, 256, kernel_size=3, padding=1),\n",
    "            nn.BatchNorm2d(256),\n",
    "            nn.ReLU(),\n",
    "            nn.AdaptiveAvgPool2d((1, 1))  # Global average pooling to 1x1\n",
    "        )\n",
    "        #     nn.Conv2d(input_channels, 32, kernel_size=3, padding=1),\n",
    "        #     nn.BatchNorm2d(32),\n",
    "        #     nn.ReLU(),\n",
    "        #     nn.Dropout2d(0.2),  # Added dropout\n",
    "            \n",
    "        #     nn.Conv2d(32, 64, kernel_size=3, padding=1),\n",
    "        #     nn.BatchNorm2d(64),\n",
    "        #     nn.ReLU(),\n",
    "        #     nn.Dropout2d(0.2),\n",
    "            \n",
    "        #     nn.Conv2d(64, 128, kernel_size=3, padding=1),\n",
    "        #     nn.BatchNorm2d(128),\n",
    "        #     nn.ReLU(),\n",
    "        #     nn.Dropout2d(0.3),\n",
    "            \n",
    "        #     nn.AdaptiveAvgPool2d((1, 1))\n",
    "        # )\n",
    "        \n",
    "        # TTT blocks\n",
    "        self.ttt_blocks = nn.ModuleList([\n",
    "            TTTEEGBlock(hidden_size=256, num_heads=4)\n",
    "            for _ in range(2)\n",
    "        ])\n",
    "        \n",
    "        # Classification head\n",
    "        self.classifier = nn.Sequential(\n",
    "            nn.Linear(256, 512),  # Now using 256 features from global pooling\n",
    "            nn.ReLU(),\n",
    "            nn.Dropout(dropout_prob),\n",
    "            nn.Linear(512, num_classes)\n",
    "        )\n",
    "        \n",
    "        # Reconstruction decoder\n",
    "        self.decoder = nn.Sequential(\n",
    "            nn.Linear(256, 1024),  # From 256 features\n",
    "            nn.ReLU(),\n",
    "            nn.Linear(1024, 50 * 50)\n",
    "        )\n",
    "    \n",
    "    def forward(self, x):\n",
    "        # Print input shape for debugging\n",
    "        # print(\"Input shape:\", x.shape)\n",
    "        \n",
    "        # Ensure input shape [B, C, H, W]\n",
    "        if len(x.shape) == 3:\n",
    "            x = x.unsqueeze(1)\n",
    "        \n",
    "        # Extract features\n",
    "        features = self.feature_extractor(x)  # [B, 256, 1, 1]\n",
    "        # print(\"After feature extractor:\", features.shape)\n",
    "        \n",
    "        # Reshape for TTT blocks\n",
    "        features = features.squeeze(-1).squeeze(-1)  # [B, 256]\n",
    "        features = features.unsqueeze(1)  # [B, 1, 256]\n",
    "        \n",
    "        # Apply TTT blocks\n",
    "        for block in self.ttt_blocks:\n",
    "            features = block(features, self.cache_params)\n",
    "        \n",
    "        # Prepare for classification\n",
    "        features = features.squeeze(1)  # [B, 256]\n",
    "        \n",
    "        # Classification\n",
    "        logits = self.classifier(features)\n",
    "        \n",
    "        # Reconstruction\n",
    "        recon = self.decoder(features)\n",
    "        recon = recon.view(-1, 1, 50, 50)\n",
    "        \n",
    "        return logits, recon\n",
    "    \n",
    "def SEBlock(channels):\n",
    "    return nn.Sequential(\n",
    "        nn.AdaptiveAvgPool2d(1),\n",
    "        nn.Conv2d(channels, channels, kernel_size=1),\n",
    "        nn.Sigmoid()\n",
    "    )\n",
    "\n",
    "\n",
    "def ResidualBlock(in_channels, out_channels):\n",
    "    return nn.Sequential(\n",
    "        nn.Conv2d(in_channels, out_channels, kernel_size=3, padding=1),\n",
    "        nn.BatchNorm2d(out_channels),\n",
    "        nn.GELU(),\n",
    "        SEBlock(out_channels),\n",
    "    )"
   ]
  },
  {
   "cell_type": "code",
   "execution_count": 20,
   "metadata": {},
   "outputs": [],
   "source": [
    "import math\n",
    "class TTTEEGBlock(nn.Module):\n",
    "    def __init__(self, hidden_size, num_heads=4, head_dim=None, eta=0.001):\n",
    "        super().__init__()\n",
    "        self.hidden_size = hidden_size\n",
    "        self.num_heads = num_heads\n",
    "        self.head_dim = head_dim if head_dim is not None else hidden_size // num_heads\n",
    "        self.eta = eta\n",
    "        \n",
    "        # Initialize with smaller values for stability\n",
    "        self.W1 = nn.Parameter(torch.randn(num_heads, self.head_dim, self.head_dim) * 0.01)\n",
    "        self.b1 = nn.Parameter(torch.zeros(num_heads, 1, self.head_dim))\n",
    "        \n",
    "        self.layer_norm = nn.LayerNorm(hidden_size)\n",
    "        self.dropout = nn.Dropout(0.1)\n",
    "        \n",
    "        # Add skip connection scaling\n",
    "        self.skip_scale = nn.Parameter(torch.ones(1))\n",
    "        \n",
    "    def forward(self, x, cache_params=None):\n",
    "        B, L, C = x.shape\n",
    "        residual = x\n",
    "        \n",
    "        x = self.layer_norm(x)\n",
    "        x = x.reshape(B, L, self.num_heads, self.head_dim)\n",
    "        x = x.permute(0, 2, 1, 3)  # [B, H, L, D]\n",
    "        \n",
    "        if cache_params is None:\n",
    "            output = self.dropout(torch.einsum('bhld,hdf->bhlf', x, self.W1) + self.b1.unsqueeze(0))\n",
    "        else:\n",
    "            with torch.enable_grad():\n",
    "                x_temp = x.detach().requires_grad_()\n",
    "                output_temp = torch.einsum('bhld,hdf->bhlf', x_temp, self.W1) + self.b1.unsqueeze(0)\n",
    "                \n",
    "                # Modified self-supervised loss\n",
    "                l2_loss = 0.5 * output_temp.pow(2).mean()\n",
    "                consistency_loss = F.smooth_l1_loss(\n",
    "                    output_temp, \n",
    "                    x_temp.mean(dim=-1, keepdim=True),\n",
    "                    beta=0.1\n",
    "                )\n",
    "                self_supervised_loss = l2_loss + 0.05 * consistency_loss\n",
    "                \n",
    "                # Compute and stabilize gradients\n",
    "                grads = torch.autograd.grad(self_supervised_loss, [self.W1, self.b1], \n",
    "                                         retain_graph=True, create_graph=False)\n",
    "                grad_W1, grad_b1 = grads\n",
    "                \n",
    "                # Gradient clipping with dynamic threshold\n",
    "                max_norm = 0.1 * (1.0 - math.exp(-len(cache_params) / 100))\n",
    "                grad_W1 = torch.clamp(grad_W1, -max_norm, max_norm)\n",
    "                grad_b1 = torch.clamp(grad_b1, -max_norm, max_norm)\n",
    "                \n",
    "                if f'W1_states_{id(self)}' not in cache_params:\n",
    "                    cache_params[f'W1_states_{id(self)}'] = self.W1.clone()\n",
    "                    cache_params[f'b1_states_{id(self)}'] = self.b1.clone()\n",
    "                    cache_params[f'momentum_W1_{id(self)}'] = torch.zeros_like(self.W1)\n",
    "                    cache_params[f'momentum_b1_{id(self)}'] = torch.zeros_like(self.b1)\n",
    "                \n",
    "                # Adaptive momentum\n",
    "                beta1 = min(0.9, 1.0 - math.exp(-len(cache_params) / 50))\n",
    "                cache_params[f'momentum_W1_{id(self)}'] = (\n",
    "                    beta1 * cache_params[f'momentum_W1_{id(self)}'] + \n",
    "                    (1 - beta1) * grad_W1\n",
    "                )\n",
    "                cache_params[f'momentum_b1_{id(self)}'] = (\n",
    "                    beta1 * cache_params[f'momentum_b1_{id(self)}'] + \n",
    "                    (1 - beta1) * grad_b1\n",
    "                )\n",
    "                \n",
    "                # Adaptive learning rate\n",
    "                lr_scale = math.exp(-len(cache_params) / 200)\n",
    "                cache_params[f'W1_states_{id(self)}'] -= self.eta * lr_scale * cache_params[f'momentum_W1_{id(self)}']\n",
    "                cache_params[f'b1_states_{id(self)}'] -= self.eta * lr_scale * cache_params[f'momentum_b1_{id(self)}']\n",
    "                \n",
    "                output = self.dropout(torch.einsum('bhld,hdf->bhlf', x, \n",
    "                                    cache_params[f'W1_states_{id(self)}']) + \n",
    "                                    cache_params[f'b1_states_{id(self)}'].unsqueeze(0))\n",
    "        \n",
    "        output = output.permute(0, 2, 1, 3)  # [B, L, H, D]\n",
    "        output = output.reshape(B, L, -1)     # [B, L, H*D]\n",
    "        \n",
    "        # Scaled skip connection\n",
    "        return output + self.skip_scale * residual"
   ]
  },
  {
   "cell_type": "code",
   "execution_count": 21,
   "metadata": {},
   "outputs": [
    {
     "name": "stderr",
     "output_type": "stream",
     "text": [
      "Epoch 1/50:   0%|          | 0/90 [00:00<?, ?it/s]"
     ]
    },
    {
     "name": "stderr",
     "output_type": "stream",
     "text": [
      "C:\\Users\\eshwa\\AppData\\Local\\Temp\\ipykernel_29280\\1028220634.py:37: UserWarning: Using a target size (torch.Size([32, 4, 1, 1])) that is different to the input size (torch.Size([32, 4, 1, 64])). This will likely lead to incorrect results due to broadcasting. Please ensure they have the same size.\n",
      "  consistency_loss = F.smooth_l1_loss(\n",
      "Epoch 1/50: 100%|██████████| 90/90 [00:22<00:00,  4.08it/s, loss=1.9982, acc=31.39%]\n"
     ]
    },
    {
     "name": "stdout",
     "output_type": "stream",
     "text": [
      "\n",
      "Epoch 1/50:\n",
      "Train Loss: 1.9982, Train Acc: 31.39%\n",
      "Val Loss: 2.0472, Val Acc: 20.88%\n"
     ]
    },
    {
     "name": "stderr",
     "output_type": "stream",
     "text": [
      "Epoch 2/50: 100%|██████████| 90/90 [00:23<00:00,  3.78it/s, loss=1.7593, acc=47.08%]\n"
     ]
    },
    {
     "name": "stdout",
     "output_type": "stream",
     "text": [
      "\n",
      "Epoch 2/50:\n",
      "Train Loss: 1.7593, Train Acc: 47.08%\n",
      "Val Loss: 2.0486, Val Acc: 23.72%\n"
     ]
    },
    {
     "name": "stderr",
     "output_type": "stream",
     "text": [
      "Epoch 3/50: 100%|██████████| 90/90 [00:25<00:00,  3.55it/s, loss=1.5565, acc=61.08%]\n"
     ]
    },
    {
     "name": "stdout",
     "output_type": "stream",
     "text": [
      "\n",
      "Epoch 3/50:\n",
      "Train Loss: 1.5565, Train Acc: 61.08%\n",
      "Val Loss: 1.9126, Val Acc: 37.36%\n"
     ]
    },
    {
     "name": "stderr",
     "output_type": "stream",
     "text": [
      "Epoch 4/50: 100%|██████████| 90/90 [00:25<00:00,  3.52it/s, loss=1.5193, acc=64.34%]\n"
     ]
    },
    {
     "name": "stdout",
     "output_type": "stream",
     "text": [
      "\n",
      "Epoch 4/50:\n",
      "Train Loss: 1.5193, Train Acc: 64.34%\n",
      "Val Loss: 1.9078, Val Acc: 41.76%\n"
     ]
    },
    {
     "name": "stderr",
     "output_type": "stream",
     "text": [
      "Epoch 5/50: 100%|██████████| 90/90 [00:23<00:00,  3.85it/s, loss=1.4416, acc=67.81%]\n"
     ]
    },
    {
     "name": "stdout",
     "output_type": "stream",
     "text": [
      "\n",
      "Epoch 5/50:\n",
      "Train Loss: 1.4416, Train Acc: 67.81%\n",
      "Val Loss: 1.7697, Val Acc: 44.60%\n"
     ]
    },
    {
     "name": "stderr",
     "output_type": "stream",
     "text": [
      "Epoch 6/50: 100%|██████████| 90/90 [00:23<00:00,  3.79it/s, loss=1.3580, acc=73.96%]\n"
     ]
    },
    {
     "name": "stdout",
     "output_type": "stream",
     "text": [
      "\n",
      "Epoch 6/50:\n",
      "Train Loss: 1.3580, Train Acc: 73.96%\n",
      "Val Loss: 1.8678, Val Acc: 46.31%\n"
     ]
    },
    {
     "name": "stderr",
     "output_type": "stream",
     "text": [
      "Epoch 7/50: 100%|██████████| 90/90 [00:22<00:00,  3.99it/s, loss=1.3480, acc=75.28%]\n"
     ]
    },
    {
     "name": "stdout",
     "output_type": "stream",
     "text": [
      "\n",
      "Epoch 7/50:\n",
      "Train Loss: 1.3480, Train Acc: 75.28%\n",
      "Val Loss: 1.7679, Val Acc: 50.85%\n"
     ]
    },
    {
     "name": "stderr",
     "output_type": "stream",
     "text": [
      "Epoch 8/50: 100%|██████████| 90/90 [00:22<00:00,  4.09it/s, loss=1.3464, acc=75.76%]\n"
     ]
    },
    {
     "name": "stdout",
     "output_type": "stream",
     "text": [
      "\n",
      "Epoch 8/50:\n",
      "Train Loss: 1.3464, Train Acc: 75.76%\n",
      "Val Loss: 1.7284, Val Acc: 52.56%\n"
     ]
    },
    {
     "name": "stderr",
     "output_type": "stream",
     "text": [
      "Epoch 9/50: 100%|██████████| 90/90 [00:29<00:00,  3.09it/s, loss=1.2793, acc=79.62%]\n"
     ]
    },
    {
     "name": "stdout",
     "output_type": "stream",
     "text": [
      "\n",
      "Epoch 9/50:\n",
      "Train Loss: 1.2793, Train Acc: 79.62%\n",
      "Val Loss: 1.6174, Val Acc: 56.11%\n"
     ]
    },
    {
     "name": "stderr",
     "output_type": "stream",
     "text": [
      "Epoch 10/50: 100%|██████████| 90/90 [00:42<00:00,  2.11it/s, loss=1.2179, acc=83.44%]\n"
     ]
    },
    {
     "name": "stdout",
     "output_type": "stream",
     "text": [
      "\n",
      "Epoch 10/50:\n",
      "Train Loss: 1.2179, Train Acc: 83.44%\n",
      "Val Loss: 1.7481, Val Acc: 53.84%\n"
     ]
    },
    {
     "name": "stderr",
     "output_type": "stream",
     "text": [
      "Epoch 11/50: 100%|██████████| 90/90 [00:48<00:00,  1.85it/s, loss=1.1742, acc=86.32%]\n"
     ]
    },
    {
     "name": "stdout",
     "output_type": "stream",
     "text": [
      "\n",
      "Epoch 11/50:\n",
      "Train Loss: 1.1742, Train Acc: 86.32%\n",
      "Val Loss: 1.6367, Val Acc: 56.25%\n"
     ]
    },
    {
     "name": "stderr",
     "output_type": "stream",
     "text": [
      "Epoch 12/50: 100%|██████████| 90/90 [00:41<00:00,  2.19it/s, loss=1.1412, acc=88.75%]\n"
     ]
    },
    {
     "name": "stdout",
     "output_type": "stream",
     "text": [
      "\n",
      "Epoch 12/50:\n",
      "Train Loss: 1.1412, Train Acc: 88.75%\n",
      "Val Loss: 1.7165, Val Acc: 51.56%\n"
     ]
    },
    {
     "name": "stderr",
     "output_type": "stream",
     "text": [
      "Epoch 13/50: 100%|██████████| 90/90 [00:50<00:00,  1.78it/s, loss=1.1231, acc=89.97%]\n"
     ]
    },
    {
     "name": "stdout",
     "output_type": "stream",
     "text": [
      "\n",
      "Epoch 13/50:\n",
      "Train Loss: 1.1231, Train Acc: 89.97%\n",
      "Val Loss: 1.6853, Val Acc: 59.80%\n"
     ]
    },
    {
     "name": "stderr",
     "output_type": "stream",
     "text": [
      "Epoch 14/50: 100%|██████████| 90/90 [00:45<00:00,  1.98it/s, loss=1.1123, acc=90.87%]\n"
     ]
    },
    {
     "name": "stdout",
     "output_type": "stream",
     "text": [
      "\n",
      "Epoch 14/50:\n",
      "Train Loss: 1.1123, Train Acc: 90.87%\n",
      "Val Loss: 1.6169, Val Acc: 61.93%\n"
     ]
    },
    {
     "name": "stderr",
     "output_type": "stream",
     "text": [
      "Epoch 15/50: 100%|██████████| 90/90 [00:42<00:00,  2.12it/s, loss=1.1488, acc=87.81%]\n"
     ]
    },
    {
     "name": "stdout",
     "output_type": "stream",
     "text": [
      "\n",
      "Epoch 15/50:\n",
      "Train Loss: 1.1488, Train Acc: 87.81%\n",
      "Val Loss: 1.8357, Val Acc: 52.98%\n"
     ]
    },
    {
     "name": "stderr",
     "output_type": "stream",
     "text": [
      "Epoch 16/50: 100%|██████████| 90/90 [00:42<00:00,  2.13it/s, loss=1.1340, acc=88.78%]\n"
     ]
    },
    {
     "name": "stdout",
     "output_type": "stream",
     "text": [
      "\n",
      "Epoch 16/50:\n",
      "Train Loss: 1.1340, Train Acc: 88.78%\n",
      "Val Loss: 2.0017, Val Acc: 50.28%\n"
     ]
    },
    {
     "name": "stderr",
     "output_type": "stream",
     "text": [
      "Epoch 17/50: 100%|██████████| 90/90 [00:45<00:00,  1.96it/s, loss=1.1124, acc=90.38%]\n"
     ]
    },
    {
     "name": "stdout",
     "output_type": "stream",
     "text": [
      "\n",
      "Epoch 17/50:\n",
      "Train Loss: 1.1124, Train Acc: 90.38%\n",
      "Val Loss: 1.8031, Val Acc: 55.26%\n"
     ]
    },
    {
     "name": "stderr",
     "output_type": "stream",
     "text": [
      "Epoch 18/50: 100%|██████████| 90/90 [00:43<00:00,  2.08it/s, loss=1.0801, acc=91.60%]\n"
     ]
    },
    {
     "name": "stdout",
     "output_type": "stream",
     "text": [
      "\n",
      "Epoch 18/50:\n",
      "Train Loss: 1.0801, Train Acc: 91.60%\n",
      "Val Loss: 1.6549, Val Acc: 56.82%\n"
     ]
    },
    {
     "name": "stderr",
     "output_type": "stream",
     "text": [
      "Epoch 19/50: 100%|██████████| 90/90 [00:41<00:00,  2.16it/s, loss=1.0542, acc=93.65%]\n"
     ]
    },
    {
     "name": "stdout",
     "output_type": "stream",
     "text": [
      "\n",
      "Epoch 19/50:\n",
      "Train Loss: 1.0542, Train Acc: 93.65%\n",
      "Val Loss: 1.9901, Val Acc: 42.05%\n"
     ]
    },
    {
     "name": "stderr",
     "output_type": "stream",
     "text": [
      "Epoch 20/50: 100%|██████████| 90/90 [00:41<00:00,  2.17it/s, loss=1.0436, acc=94.34%]\n"
     ]
    },
    {
     "name": "stdout",
     "output_type": "stream",
     "text": [
      "\n",
      "Epoch 20/50:\n",
      "Train Loss: 1.0436, Train Acc: 94.34%\n",
      "Val Loss: 1.9173, Val Acc: 51.99%\n"
     ]
    },
    {
     "name": "stderr",
     "output_type": "stream",
     "text": [
      "Epoch 21/50: 100%|██████████| 90/90 [00:42<00:00,  2.14it/s, loss=1.0235, acc=95.73%]\n"
     ]
    },
    {
     "name": "stdout",
     "output_type": "stream",
     "text": [
      "\n",
      "Epoch 21/50:\n",
      "Train Loss: 1.0235, Train Acc: 95.73%\n",
      "Val Loss: 2.1360, Val Acc: 45.03%\n"
     ]
    },
    {
     "name": "stderr",
     "output_type": "stream",
     "text": [
      "Epoch 22/50: 100%|██████████| 90/90 [00:42<00:00,  2.14it/s, loss=1.0024, acc=96.32%]\n"
     ]
    },
    {
     "name": "stdout",
     "output_type": "stream",
     "text": [
      "\n",
      "Epoch 22/50:\n",
      "Train Loss: 1.0024, Train Acc: 96.32%\n",
      "Val Loss: 1.8936, Val Acc: 52.84%\n"
     ]
    },
    {
     "name": "stderr",
     "output_type": "stream",
     "text": [
      "Epoch 23/50: 100%|██████████| 90/90 [00:41<00:00,  2.15it/s, loss=0.9862, acc=97.33%]\n"
     ]
    },
    {
     "name": "stdout",
     "output_type": "stream",
     "text": [
      "\n",
      "Epoch 23/50:\n",
      "Train Loss: 0.9862, Train Acc: 97.33%\n",
      "Val Loss: 2.0885, Val Acc: 47.73%\n"
     ]
    },
    {
     "name": "stderr",
     "output_type": "stream",
     "text": [
      "Epoch 24/50: 100%|██████████| 90/90 [00:44<00:00,  2.01it/s, loss=0.9808, acc=97.53%]\n"
     ]
    },
    {
     "name": "stdout",
     "output_type": "stream",
     "text": [
      "\n",
      "Epoch 24/50:\n",
      "Train Loss: 0.9808, Train Acc: 97.53%\n",
      "Val Loss: 1.8527, Val Acc: 51.56%\n"
     ]
    },
    {
     "name": "stderr",
     "output_type": "stream",
     "text": [
      "Epoch 25/50: 100%|██████████| 90/90 [00:43<00:00,  2.05it/s, loss=0.9717, acc=97.71%]\n"
     ]
    },
    {
     "name": "stdout",
     "output_type": "stream",
     "text": [
      "\n",
      "Epoch 25/50:\n",
      "Train Loss: 0.9717, Train Acc: 97.71%\n",
      "Val Loss: 1.9295, Val Acc: 53.84%\n"
     ]
    },
    {
     "name": "stderr",
     "output_type": "stream",
     "text": [
      "Epoch 26/50: 100%|██████████| 90/90 [00:43<00:00,  2.09it/s, loss=0.9615, acc=98.58%]\n"
     ]
    },
    {
     "name": "stdout",
     "output_type": "stream",
     "text": [
      "\n",
      "Epoch 26/50:\n",
      "Train Loss: 0.9615, Train Acc: 98.58%\n",
      "Val Loss: 1.6810, Val Acc: 61.08%\n"
     ]
    },
    {
     "name": "stderr",
     "output_type": "stream",
     "text": [
      "Epoch 27/50: 100%|██████████| 90/90 [00:43<00:00,  2.05it/s, loss=0.9571, acc=98.89%]\n"
     ]
    },
    {
     "name": "stdout",
     "output_type": "stream",
     "text": [
      "\n",
      "Epoch 27/50:\n",
      "Train Loss: 0.9571, Train Acc: 98.89%\n",
      "Val Loss: 1.7747, Val Acc: 59.94%\n"
     ]
    },
    {
     "name": "stderr",
     "output_type": "stream",
     "text": [
      "Epoch 28/50: 100%|██████████| 90/90 [00:47<00:00,  1.91it/s, loss=0.9582, acc=98.78%]\n"
     ]
    },
    {
     "name": "stdout",
     "output_type": "stream",
     "text": [
      "\n",
      "Epoch 28/50:\n",
      "Train Loss: 0.9582, Train Acc: 98.78%\n",
      "Val Loss: 1.7302, Val Acc: 61.36%\n"
     ]
    },
    {
     "name": "stderr",
     "output_type": "stream",
     "text": [
      "Epoch 29/50: 100%|██████████| 90/90 [00:45<00:00,  1.96it/s, loss=0.9820, acc=97.92%]\n"
     ]
    },
    {
     "name": "stdout",
     "output_type": "stream",
     "text": [
      "\n",
      "Epoch 29/50:\n",
      "Train Loss: 0.9820, Train Acc: 97.92%\n",
      "Val Loss: 1.5686, Val Acc: 64.06%\n"
     ]
    },
    {
     "name": "stderr",
     "output_type": "stream",
     "text": [
      "Epoch 30/50: 100%|██████████| 90/90 [00:44<00:00,  2.04it/s, loss=1.0117, acc=96.15%]\n"
     ]
    },
    {
     "name": "stdout",
     "output_type": "stream",
     "text": [
      "\n",
      "Epoch 30/50:\n",
      "Train Loss: 1.0117, Train Acc: 96.15%\n",
      "Val Loss: 1.6313, Val Acc: 61.51%\n"
     ]
    },
    {
     "name": "stderr",
     "output_type": "stream",
     "text": [
      "Epoch 31/50: 100%|██████████| 90/90 [00:45<00:00,  1.99it/s, loss=1.0052, acc=96.91%]\n"
     ]
    },
    {
     "name": "stdout",
     "output_type": "stream",
     "text": [
      "\n",
      "Epoch 31/50:\n",
      "Train Loss: 1.0052, Train Acc: 96.91%\n",
      "Val Loss: 1.6976, Val Acc: 61.22%\n"
     ]
    },
    {
     "name": "stderr",
     "output_type": "stream",
     "text": [
      "Epoch 32/50: 100%|██████████| 90/90 [00:45<00:00,  2.00it/s, loss=0.9966, acc=97.19%]\n"
     ]
    },
    {
     "name": "stdout",
     "output_type": "stream",
     "text": [
      "\n",
      "Epoch 32/50:\n",
      "Train Loss: 0.9966, Train Acc: 97.19%\n",
      "Val Loss: 1.5693, Val Acc: 66.90%\n"
     ]
    },
    {
     "name": "stderr",
     "output_type": "stream",
     "text": [
      "Epoch 33/50: 100%|██████████| 90/90 [00:45<00:00,  1.96it/s, loss=0.9778, acc=98.09%]\n"
     ]
    },
    {
     "name": "stdout",
     "output_type": "stream",
     "text": [
      "\n",
      "Epoch 33/50:\n",
      "Train Loss: 0.9778, Train Acc: 98.09%\n",
      "Val Loss: 1.4660, Val Acc: 69.74%\n"
     ]
    },
    {
     "name": "stderr",
     "output_type": "stream",
     "text": [
      "Epoch 34/50: 100%|██████████| 90/90 [00:47<00:00,  1.91it/s, loss=0.9733, acc=97.99%]\n"
     ]
    },
    {
     "name": "stdout",
     "output_type": "stream",
     "text": [
      "\n",
      "Epoch 34/50:\n",
      "Train Loss: 0.9733, Train Acc: 97.99%\n",
      "Val Loss: 2.2725, Val Acc: 38.35%\n"
     ]
    },
    {
     "name": "stderr",
     "output_type": "stream",
     "text": [
      "Epoch 35/50: 100%|██████████| 90/90 [00:47<00:00,  1.91it/s, loss=0.9791, acc=98.06%]\n"
     ]
    },
    {
     "name": "stdout",
     "output_type": "stream",
     "text": [
      "\n",
      "Epoch 35/50:\n",
      "Train Loss: 0.9791, Train Acc: 98.06%\n",
      "Val Loss: 2.0447, Val Acc: 38.07%\n"
     ]
    },
    {
     "name": "stderr",
     "output_type": "stream",
     "text": [
      "Epoch 36/50: 100%|██████████| 90/90 [00:46<00:00,  1.93it/s, loss=0.9645, acc=98.54%]\n"
     ]
    },
    {
     "name": "stdout",
     "output_type": "stream",
     "text": [
      "\n",
      "Epoch 36/50:\n",
      "Train Loss: 0.9645, Train Acc: 98.54%\n",
      "Val Loss: 1.7913, Val Acc: 48.01%\n"
     ]
    },
    {
     "name": "stderr",
     "output_type": "stream",
     "text": [
      "Epoch 37/50: 100%|██████████| 90/90 [00:46<00:00,  1.93it/s, loss=0.9524, acc=98.96%]\n"
     ]
    },
    {
     "name": "stdout",
     "output_type": "stream",
     "text": [
      "\n",
      "Epoch 37/50:\n",
      "Train Loss: 0.9524, Train Acc: 98.96%\n",
      "Val Loss: 1.3306, Val Acc: 78.12%\n"
     ]
    },
    {
     "name": "stderr",
     "output_type": "stream",
     "text": [
      "Epoch 38/50: 100%|██████████| 90/90 [00:47<00:00,  1.90it/s, loss=0.9454, acc=99.27%]\n"
     ]
    },
    {
     "name": "stdout",
     "output_type": "stream",
     "text": [
      "\n",
      "Epoch 38/50:\n",
      "Train Loss: 0.9454, Train Acc: 99.27%\n",
      "Val Loss: 1.4405, Val Acc: 69.89%\n"
     ]
    },
    {
     "name": "stderr",
     "output_type": "stream",
     "text": [
      "Epoch 39/50: 100%|██████████| 90/90 [00:47<00:00,  1.90it/s, loss=0.9427, acc=99.17%]\n"
     ]
    },
    {
     "name": "stdout",
     "output_type": "stream",
     "text": [
      "\n",
      "Epoch 39/50:\n",
      "Train Loss: 0.9427, Train Acc: 99.17%\n",
      "Val Loss: 1.6314, Val Acc: 59.94%\n"
     ]
    },
    {
     "name": "stderr",
     "output_type": "stream",
     "text": [
      "Epoch 40/50: 100%|██████████| 90/90 [00:46<00:00,  1.92it/s, loss=0.9419, acc=99.24%] \n"
     ]
    },
    {
     "name": "stdout",
     "output_type": "stream",
     "text": [
      "\n",
      "Epoch 40/50:\n",
      "Train Loss: 0.9419, Train Acc: 99.24%\n",
      "Val Loss: 1.4506, Val Acc: 69.18%\n"
     ]
    },
    {
     "name": "stderr",
     "output_type": "stream",
     "text": [
      "Epoch 41/50: 100%|██████████| 90/90 [00:51<00:00,  1.75it/s, loss=0.9318, acc=99.55%]\n"
     ]
    },
    {
     "name": "stdout",
     "output_type": "stream",
     "text": [
      "\n",
      "Epoch 41/50:\n",
      "Train Loss: 0.9318, Train Acc: 99.55%\n",
      "Val Loss: 1.3510, Val Acc: 77.70%\n"
     ]
    },
    {
     "name": "stderr",
     "output_type": "stream",
     "text": [
      "Epoch 42/50: 100%|██████████| 90/90 [00:50<00:00,  1.77it/s, loss=0.9309, acc=99.58%]\n"
     ]
    },
    {
     "name": "stdout",
     "output_type": "stream",
     "text": [
      "\n",
      "Epoch 42/50:\n",
      "Train Loss: 0.9309, Train Acc: 99.58%\n",
      "Val Loss: 1.5478, Val Acc: 70.17%\n"
     ]
    },
    {
     "name": "stderr",
     "output_type": "stream",
     "text": [
      "Epoch 43/50: 100%|██████████| 90/90 [00:49<00:00,  1.81it/s, loss=0.9294, acc=99.62%]\n"
     ]
    },
    {
     "name": "stdout",
     "output_type": "stream",
     "text": [
      "\n",
      "Epoch 43/50:\n",
      "Train Loss: 0.9294, Train Acc: 99.62%\n",
      "Val Loss: 1.5389, Val Acc: 64.91%\n"
     ]
    },
    {
     "name": "stderr",
     "output_type": "stream",
     "text": [
      "Epoch 44/50: 100%|██████████| 90/90 [00:50<00:00,  1.78it/s, loss=0.9221, acc=99.83%] \n"
     ]
    },
    {
     "name": "stdout",
     "output_type": "stream",
     "text": [
      "\n",
      "Epoch 44/50:\n",
      "Train Loss: 0.9221, Train Acc: 99.83%\n",
      "Val Loss: 1.4475, Val Acc: 69.46%\n"
     ]
    },
    {
     "name": "stderr",
     "output_type": "stream",
     "text": [
      "Epoch 45/50: 100%|██████████| 90/90 [00:49<00:00,  1.82it/s, loss=0.9189, acc=99.76%] \n"
     ]
    },
    {
     "name": "stdout",
     "output_type": "stream",
     "text": [
      "\n",
      "Epoch 45/50:\n",
      "Train Loss: 0.9189, Train Acc: 99.76%\n",
      "Val Loss: 1.6108, Val Acc: 59.23%\n"
     ]
    },
    {
     "name": "stderr",
     "output_type": "stream",
     "text": [
      "Epoch 46/50: 100%|██████████| 90/90 [00:52<00:00,  1.70it/s, loss=0.9127, acc=99.93%] \n"
     ]
    },
    {
     "name": "stdout",
     "output_type": "stream",
     "text": [
      "\n",
      "Epoch 46/50:\n",
      "Train Loss: 0.9127, Train Acc: 99.93%\n",
      "Val Loss: 1.4986, Val Acc: 69.46%\n"
     ]
    },
    {
     "name": "stderr",
     "output_type": "stream",
     "text": [
      "Epoch 47/50: 100%|██████████| 90/90 [00:58<00:00,  1.54it/s, loss=0.9137, acc=99.90%] \n"
     ]
    },
    {
     "name": "stdout",
     "output_type": "stream",
     "text": [
      "\n",
      "Epoch 47/50:\n",
      "Train Loss: 0.9137, Train Acc: 99.90%\n",
      "Val Loss: 1.3684, Val Acc: 77.13%\n"
     ]
    },
    {
     "name": "stderr",
     "output_type": "stream",
     "text": [
      "Epoch 48/50: 100%|██████████| 90/90 [00:57<00:00,  1.58it/s, loss=0.9108, acc=99.97%] \n"
     ]
    },
    {
     "name": "stdout",
     "output_type": "stream",
     "text": [
      "\n",
      "Epoch 48/50:\n",
      "Train Loss: 0.9108, Train Acc: 99.97%\n",
      "Val Loss: 1.4463, Val Acc: 74.29%\n"
     ]
    },
    {
     "name": "stderr",
     "output_type": "stream",
     "text": [
      "Epoch 49/50: 100%|██████████| 90/90 [00:50<00:00,  1.78it/s, loss=0.9079, acc=99.93%] \n"
     ]
    },
    {
     "name": "stdout",
     "output_type": "stream",
     "text": [
      "\n",
      "Epoch 49/50:\n",
      "Train Loss: 0.9079, Train Acc: 99.93%\n",
      "Val Loss: 1.5519, Val Acc: 62.93%\n"
     ]
    },
    {
     "name": "stderr",
     "output_type": "stream",
     "text": [
      "Epoch 50/50: 100%|██████████| 90/90 [00:50<00:00,  1.77it/s, loss=0.9085, acc=100.00%]\n"
     ]
    },
    {
     "name": "stdout",
     "output_type": "stream",
     "text": [
      "\n",
      "Epoch 50/50:\n",
      "Train Loss: 0.9085, Train Acc: 100.00%\n",
      "Val Loss: 1.5466, Val Acc: 67.90%\n"
     ]
    },
    {
     "data": {
      "image/png": "[encoded data removed]",
      "text/plain": [
       "<Figure size 1500x500 with 2 Axes>"
      ]
     },
     "metadata": {},
     "output_type": "display_data"
    }
   ],
   "source": [
    "def train_model(model, train_loader, val_loader, num_epochs=50):\n",
    "    device = torch.device('cuda' if torch.cuda.is_available() else 'cpu')\n",
    "    model = model.to(device)\n",
    "    \n",
    "    # Initialize optimizer with conservative parameters\n",
    "    optimizer = optim.AdamW(\n",
    "        model.parameters(),\n",
    "        lr=0.001,  # Very conservative learning rate\n",
    "        weight_decay=0.1,  # Strong regularization\n",
    "        betas=(0.9, 0.999)\n",
    "    )\n",
    "    \n",
    "    # Cosine annealing scheduler with warm restarts\n",
    "    scheduler = optim.lr_scheduler.CosineAnnealingWarmRestarts(\n",
    "        optimizer,\n",
    "        T_0=10,  # Initial cycle length\n",
    "        T_mult=2,  # Cycle length multiplier\n",
    "        eta_min=1e-6  # Minimum learning rate\n",
    "    )\n",
    "    \n",
    "    # Loss functions with label smoothing\n",
    "    criterion = nn.CrossEntropyLoss(label_smoothing=0.2)\n",
    "    recon_criterion = nn.MSELoss()\n",
    "    \n",
    "    # Initialize EMA model\n",
    "    ema = torch.optim.swa_utils.AveragedModel(model)\n",
    "    \n",
    "    # Initialize tracking variables\n",
    "    best_val_acc = 0\n",
    "    patience = 15  # Increased patience\n",
    "    patience_counter = 0\n",
    "    best_model_state = None\n",
    "    \n",
    "    train_losses = []\n",
    "    val_losses = []\n",
    "    train_accs = []\n",
    "    val_accs = []\n",
    "    \n",
    "    # Number of gradient accumulation steps\n",
    "    num_accumulation_steps = 4\n",
    "    \n",
    "    for epoch in range(num_epochs):\n",
    "        # Training phase\n",
    "        model.train()\n",
    "        running_loss = 0.0\n",
    "        running_correct = 0\n",
    "        running_total = 0\n",
    "        \n",
    "        # Progress bar for training\n",
    "        pbar = tqdm(train_loader, desc=f'Epoch {epoch+1}/{num_epochs}')\n",
    "        \n",
    "        for batch_idx, (inputs, targets) in enumerate(pbar):\n",
    "            inputs = inputs.to(device).float()\n",
    "            targets = targets.to(device)\n",
    "            \n",
    "            # Zero gradients at the start of accumulation\n",
    "            if batch_idx % num_accumulation_steps == 0:\n",
    "                optimizer.zero_grad(set_to_none=True)\n",
    "            \n",
    "            # Forward pass\n",
    "            logits, recon = model(inputs)\n",
    "            \n",
    "            # Calculate losses\n",
    "            ce_loss = criterion(logits, targets)\n",
    "            recon_loss = recon_criterion(recon, inputs)\n",
    "            loss = ce_loss + 0.05 * recon_loss  # Reduced reconstruction weight\n",
    "            \n",
    "            # Scale loss for gradient accumulation\n",
    "            loss = loss / num_accumulation_steps\n",
    "            loss.backward()\n",
    "            \n",
    "            # Update weights after accumulation steps\n",
    "            if (batch_idx + 1) % num_accumulation_steps == 0:\n",
    "                # Gradient clipping\n",
    "                torch.nn.utils.clip_grad_norm_(model.parameters(), max_norm=0.5)\n",
    "                optimizer.step()\n",
    "                scheduler.step()\n",
    "                \n",
    "                # Update EMA model\n",
    "                ema.update_parameters(model)\n",
    "            \n",
    "            # Update metrics\n",
    "            running_loss += loss.item() * num_accumulation_steps\n",
    "            _, predicted = logits.max(1)\n",
    "            running_total += targets.size(0)\n",
    "            running_correct += predicted.eq(targets).sum().item()\n",
    "            \n",
    "            # Update progress bar\n",
    "            current_loss = running_loss / (batch_idx + 1)\n",
    "            current_acc = 100. * running_correct / running_total\n",
    "            pbar.set_postfix({\n",
    "                'loss': f'{current_loss:.4f}',\n",
    "                'acc': f'{current_acc:.2f}%'\n",
    "            })\n",
    "        \n",
    "        # Calculate training metrics\n",
    "        train_loss = running_loss / len(train_loader)\n",
    "        train_acc = 100. * running_correct / running_total\n",
    "        \n",
    "        # Validation phase\n",
    "        model.eval()\n",
    "        val_loss = 0.0\n",
    "        val_correct = 0\n",
    "        val_total = 0\n",
    "        \n",
    "        with torch.no_grad():\n",
    "            # Use EMA model for validation\n",
    "            ema.eval()\n",
    "            \n",
    "            for inputs, targets in val_loader:\n",
    "                inputs = inputs.to(device).float()\n",
    "                targets = targets.to(device)\n",
    "                \n",
    "                # Test-time augmentation\n",
    "                n_augmentations = 5\n",
    "                predictions = []\n",
    "                \n",
    "                for _ in range(n_augmentations):\n",
    "                    logits, recon = ema.module(inputs)\n",
    "                    predictions.append(F.softmax(logits, dim=1))\n",
    "                \n",
    "                # Average predictions\n",
    "                averaged_preds = torch.stack(predictions).mean(0)\n",
    "                \n",
    "                # Calculate loss with averaged predictions\n",
    "                loss = criterion(averaged_preds.log(), targets)\n",
    "                val_loss += loss.item()\n",
    "                \n",
    "                _, predicted = averaged_preds.max(1)\n",
    "                val_total += targets.size(0)\n",
    "                val_correct += predicted.eq(targets).sum().item()\n",
    "        \n",
    "        # Calculate validation metrics\n",
    "        val_loss = val_loss / len(val_loader)\n",
    "        val_acc = 100. * val_correct / val_total\n",
    "        \n",
    "        # Store metrics\n",
    "        train_losses.append(train_loss)\n",
    "        val_losses.append(val_loss)\n",
    "        train_accs.append(train_acc)\n",
    "        val_accs.append(val_acc)\n",
    "        \n",
    "        # Print epoch results\n",
    "        print(f'\\nEpoch {epoch+1}/{num_epochs}:')\n",
    "        print(f'Train Loss: {train_loss:.4f}, Train Acc: {train_acc:.2f}%')\n",
    "        print(f'Val Loss: {val_loss:.4f}, Val Acc: {val_acc:.2f}%')\n",
    "        \n",
    "        # Early stopping check\n",
    "        if val_acc > best_val_acc:\n",
    "            best_val_acc = val_acc\n",
    "            patience_counter = 0\n",
    "            best_model_state = ema.module.state_dict().copy()  # Save EMA model state\n",
    "        else:\n",
    "            patience_counter += 1\n",
    "            if patience_counter >= patience:\n",
    "                print(f'Early stopping triggered at epoch {epoch+1}')\n",
    "                model.load_state_dict(best_model_state)\n",
    "                break\n",
    "    \n",
    "    # Plot smooth training curves\n",
    "    plt.figure(figsize=(15, 5))\n",
    "    \n",
    "    def smooth_curve(points, factor=0.8):\n",
    "        smoothed_points = []\n",
    "        for point in points:\n",
    "            if smoothed_points:\n",
    "                previous = smoothed_points[-1]\n",
    "                smoothed_points.append(previous * factor + point * (1 - factor))\n",
    "            else:\n",
    "                smoothed_points.append(point)\n",
    "        return smoothed_points\n",
    "    \n",
    "    # Loss plot\n",
    "    plt.subplot(1, 2, 1)\n",
    "    plt.plot(smooth_curve(train_losses), label='Training Loss')\n",
    "    plt.plot(smooth_curve(val_losses), label='Validation Loss')\n",
    "    plt.title('Loss over epochs')\n",
    "    plt.xlabel('Epoch')\n",
    "    plt.ylabel('Loss')\n",
    "    plt.legend()\n",
    "    plt.grid(True)\n",
    "    \n",
    "    # Accuracy plot\n",
    "    plt.subplot(1, 2, 2)\n",
    "    plt.plot(smooth_curve(train_accs), label='Training Accuracy')\n",
    "    plt.plot(smooth_curve(val_accs), label='Validation Accuracy')\n",
    "    plt.title('Accuracy over epochs')\n",
    "    plt.xlabel('Epoch')\n",
    "    plt.ylabel('Accuracy (%)')\n",
    "    plt.legend()\n",
    "    plt.grid(True)\n",
    "    \n",
    "    plt.tight_layout()\n",
    "    plt.show()\n",
    "    \n",
    "    # Load best model before returning\n",
    "    if best_model_state is not None:\n",
    "        model.load_state_dict(best_model_state)\n",
    "    \n",
    "    return model, train_losses, val_losses, train_accs, val_accs\n",
    "\n",
    "# Usage example:\n",
    "num_classes = 10\n",
    "model = EEGClassifier(\n",
    "    input_channels=1,\n",
    "    num_classes=num_classes,\n",
    "    dropout_prob=0.3\n",
    ")\n",
    "\n",
    "# Create data loaders with consistent batch size\n",
    "train_loader = DataLoader(\n",
    "    train_dataset,\n",
    "    batch_size=32,\n",
    "    shuffle=True,\n",
    "    num_workers=0,\n",
    "    pin_memory=True,\n",
    "    drop_last=True\n",
    ")\n",
    "\n",
    "val_loader = DataLoader(\n",
    "    val_dataset,\n",
    "    batch_size=32,\n",
    "    shuffle=False,\n",
    "    num_workers=0,\n",
    "    pin_memory=True,\n",
    "    drop_last=True\n",
    ")\n",
    "\n",
    "# Train the model\n",
    "trained_model, train_losses, val_losses, train_accs, val_accs = train_model(\n",
    "    model,\n",
    "    train_loader,\n",
    "    val_loader,\n",
    "    num_epochs=50\n",
    ")"
   ]
  },
  {
   "cell_type": "code",
   "execution_count": 23,
   "metadata": {},
   "outputs": [
    {
     "name": "stderr",
     "output_type": "stream",
     "text": [
      "Epoch 1/50:   0%|          | 0/180 [00:00<?, ?it/s]"
     ]
    },
    {
     "name": "stderr",
     "output_type": "stream",
     "text": [
      "C:\\Users\\eshwa\\AppData\\Local\\Temp\\ipykernel_29280\\1028220634.py:37: UserWarning: Using a target size (torch.Size([16, 4, 1, 1])) that is different to the input size (torch.Size([16, 4, 1, 64])). This will likely lead to incorrect results due to broadcasting. Please ensure they have the same size.\n",
      "  consistency_loss = F.smooth_l1_loss(\n",
      "Epoch 1/50:   0%|          | 0/180 [00:00<?, ?it/s]\n"
     ]
    },
    {
     "ename": "TypeError",
     "evalue": "cross_entropy_loss(): argument 'input' (position 1) must be Tensor, not tuple",
     "output_type": "error",
     "traceback": [
      "\u001b[1;31m---------------------------------------------------------------------------\u001b[0m",
      "\u001b[1;31mTypeError\u001b[0m                                 Traceback (most recent call last)",
      "Cell \u001b[1;32mIn[23], line 28\u001b[0m\n\u001b[0;32m     18\u001b[0m val_loader \u001b[38;5;241m=\u001b[39m DataLoader(\n\u001b[0;32m     19\u001b[0m     val_dataset,\n\u001b[0;32m     20\u001b[0m     batch_size\u001b[38;5;241m=\u001b[39m\u001b[38;5;241m16\u001b[39m,  \u001b[38;5;66;03m# Reduced batch size\u001b[39;00m\n\u001b[1;32m   (...)\u001b[0m\n\u001b[0;32m     24\u001b[0m     drop_last\u001b[38;5;241m=\u001b[39m\u001b[38;5;28;01mTrue\u001b[39;00m\n\u001b[0;32m     25\u001b[0m )\n\u001b[0;32m     27\u001b[0m \u001b[38;5;66;03m# Train model\u001b[39;00m\n\u001b[1;32m---> 28\u001b[0m trained_model, train_losses, val_losses, train_accs, val_accs \u001b[38;5;241m=\u001b[39m \u001b[43mtrain_model\u001b[49m\u001b[43m(\u001b[49m\n\u001b[0;32m     29\u001b[0m \u001b[43m    \u001b[49m\u001b[43mmodel\u001b[49m\u001b[43m,\u001b[49m\n\u001b[0;32m     30\u001b[0m \u001b[43m    \u001b[49m\u001b[43mtrain_loader\u001b[49m\u001b[43m,\u001b[49m\n\u001b[0;32m     31\u001b[0m \u001b[43m    \u001b[49m\u001b[43mval_loader\u001b[49m\u001b[43m,\u001b[49m\n\u001b[0;32m     32\u001b[0m \u001b[43m    \u001b[49m\u001b[43mnum_epochs\u001b[49m\u001b[38;5;241;43m=\u001b[39;49m\u001b[38;5;241;43m50\u001b[39;49m\n\u001b[0;32m     33\u001b[0m \u001b[43m)\u001b[49m\n",
      "Cell \u001b[1;32mIn[22], line 52\u001b[0m, in \u001b[0;36mtrain_model\u001b[1;34m(model, train_loader, val_loader, num_epochs)\u001b[0m\n\u001b[0;32m     50\u001b[0m \u001b[38;5;66;03m# Forward pass\u001b[39;00m\n\u001b[0;32m     51\u001b[0m outputs \u001b[38;5;241m=\u001b[39m model(inputs)\n\u001b[1;32m---> 52\u001b[0m loss \u001b[38;5;241m=\u001b[39m \u001b[43mcriterion\u001b[49m\u001b[43m(\u001b[49m\u001b[43moutputs\u001b[49m\u001b[43m,\u001b[49m\u001b[43m \u001b[49m\u001b[43mtargets\u001b[49m\u001b[43m)\u001b[49m\n\u001b[0;32m     54\u001b[0m \u001b[38;5;66;03m# Backward pass with gradient clipping\u001b[39;00m\n\u001b[0;32m     55\u001b[0m loss\u001b[38;5;241m.\u001b[39mbackward()\n",
      "File \u001b[1;32m~\\AppData\\Local\\Packages\\PythonSoftwareFoundation.Python.3.12_qbz5n2kfra8p0\\LocalCache\\local-packages\\Python312\\site-packages\\torch\\nn\\modules\\module.py:1553\u001b[0m, in \u001b[0;36mModule._wrapped_call_impl\u001b[1;34m(self, *args, **kwargs)\u001b[0m\n\u001b[0;32m   1551\u001b[0m     \u001b[38;5;28;01mreturn\u001b[39;00m \u001b[38;5;28mself\u001b[39m\u001b[38;5;241m.\u001b[39m_compiled_call_impl(\u001b[38;5;241m*\u001b[39margs, \u001b[38;5;241m*\u001b[39m\u001b[38;5;241m*\u001b[39mkwargs)  \u001b[38;5;66;03m# type: ignore[misc]\u001b[39;00m\n\u001b[0;32m   1552\u001b[0m \u001b[38;5;28;01melse\u001b[39;00m:\n\u001b[1;32m-> 1553\u001b[0m     \u001b[38;5;28;01mreturn\u001b[39;00m \u001b[38;5;28;43mself\u001b[39;49m\u001b[38;5;241;43m.\u001b[39;49m\u001b[43m_call_impl\u001b[49m\u001b[43m(\u001b[49m\u001b[38;5;241;43m*\u001b[39;49m\u001b[43margs\u001b[49m\u001b[43m,\u001b[49m\u001b[43m \u001b[49m\u001b[38;5;241;43m*\u001b[39;49m\u001b[38;5;241;43m*\u001b[39;49m\u001b[43mkwargs\u001b[49m\u001b[43m)\u001b[49m\n",
      "File \u001b[1;32m~\\AppData\\Local\\Packages\\PythonSoftwareFoundation.Python.3.12_qbz5n2kfra8p0\\LocalCache\\local-packages\\Python312\\site-packages\\torch\\nn\\modules\\module.py:1562\u001b[0m, in \u001b[0;36mModule._call_impl\u001b[1;34m(self, *args, **kwargs)\u001b[0m\n\u001b[0;32m   1557\u001b[0m \u001b[38;5;66;03m# If we don't have any hooks, we want to skip the rest of the logic in\u001b[39;00m\n\u001b[0;32m   1558\u001b[0m \u001b[38;5;66;03m# this function, and just call forward.\u001b[39;00m\n\u001b[0;32m   1559\u001b[0m \u001b[38;5;28;01mif\u001b[39;00m \u001b[38;5;129;01mnot\u001b[39;00m (\u001b[38;5;28mself\u001b[39m\u001b[38;5;241m.\u001b[39m_backward_hooks \u001b[38;5;129;01mor\u001b[39;00m \u001b[38;5;28mself\u001b[39m\u001b[38;5;241m.\u001b[39m_backward_pre_hooks \u001b[38;5;129;01mor\u001b[39;00m \u001b[38;5;28mself\u001b[39m\u001b[38;5;241m.\u001b[39m_forward_hooks \u001b[38;5;129;01mor\u001b[39;00m \u001b[38;5;28mself\u001b[39m\u001b[38;5;241m.\u001b[39m_forward_pre_hooks\n\u001b[0;32m   1560\u001b[0m         \u001b[38;5;129;01mor\u001b[39;00m _global_backward_pre_hooks \u001b[38;5;129;01mor\u001b[39;00m _global_backward_hooks\n\u001b[0;32m   1561\u001b[0m         \u001b[38;5;129;01mor\u001b[39;00m _global_forward_hooks \u001b[38;5;129;01mor\u001b[39;00m _global_forward_pre_hooks):\n\u001b[1;32m-> 1562\u001b[0m     \u001b[38;5;28;01mreturn\u001b[39;00m \u001b[43mforward_call\u001b[49m\u001b[43m(\u001b[49m\u001b[38;5;241;43m*\u001b[39;49m\u001b[43margs\u001b[49m\u001b[43m,\u001b[49m\u001b[43m \u001b[49m\u001b[38;5;241;43m*\u001b[39;49m\u001b[38;5;241;43m*\u001b[39;49m\u001b[43mkwargs\u001b[49m\u001b[43m)\u001b[49m\n\u001b[0;32m   1564\u001b[0m \u001b[38;5;28;01mtry\u001b[39;00m:\n\u001b[0;32m   1565\u001b[0m     result \u001b[38;5;241m=\u001b[39m \u001b[38;5;28;01mNone\u001b[39;00m\n",
      "File \u001b[1;32m~\\AppData\\Local\\Packages\\PythonSoftwareFoundation.Python.3.12_qbz5n2kfra8p0\\LocalCache\\local-packages\\Python312\\site-packages\\torch\\nn\\modules\\loss.py:1188\u001b[0m, in \u001b[0;36mCrossEntropyLoss.forward\u001b[1;34m(self, input, target)\u001b[0m\n\u001b[0;32m   1187\u001b[0m \u001b[38;5;28;01mdef\u001b[39;00m \u001b[38;5;21mforward\u001b[39m(\u001b[38;5;28mself\u001b[39m, \u001b[38;5;28minput\u001b[39m: Tensor, target: Tensor) \u001b[38;5;241m-\u001b[39m\u001b[38;5;241m>\u001b[39m Tensor:\n\u001b[1;32m-> 1188\u001b[0m     \u001b[38;5;28;01mreturn\u001b[39;00m \u001b[43mF\u001b[49m\u001b[38;5;241;43m.\u001b[39;49m\u001b[43mcross_entropy\u001b[49m\u001b[43m(\u001b[49m\u001b[38;5;28;43minput\u001b[39;49m\u001b[43m,\u001b[49m\u001b[43m \u001b[49m\u001b[43mtarget\u001b[49m\u001b[43m,\u001b[49m\u001b[43m \u001b[49m\u001b[43mweight\u001b[49m\u001b[38;5;241;43m=\u001b[39;49m\u001b[38;5;28;43mself\u001b[39;49m\u001b[38;5;241;43m.\u001b[39;49m\u001b[43mweight\u001b[49m\u001b[43m,\u001b[49m\n\u001b[0;32m   1189\u001b[0m \u001b[43m                           \u001b[49m\u001b[43mignore_index\u001b[49m\u001b[38;5;241;43m=\u001b[39;49m\u001b[38;5;28;43mself\u001b[39;49m\u001b[38;5;241;43m.\u001b[39;49m\u001b[43mignore_index\u001b[49m\u001b[43m,\u001b[49m\u001b[43m \u001b[49m\u001b[43mreduction\u001b[49m\u001b[38;5;241;43m=\u001b[39;49m\u001b[38;5;28;43mself\u001b[39;49m\u001b[38;5;241;43m.\u001b[39;49m\u001b[43mreduction\u001b[49m\u001b[43m,\u001b[49m\n\u001b[0;32m   1190\u001b[0m \u001b[43m                           \u001b[49m\u001b[43mlabel_smoothing\u001b[49m\u001b[38;5;241;43m=\u001b[39;49m\u001b[38;5;28;43mself\u001b[39;49m\u001b[38;5;241;43m.\u001b[39;49m\u001b[43mlabel_smoothing\u001b[49m\u001b[43m)\u001b[49m\n",
      "File \u001b[1;32m~\\AppData\\Local\\Packages\\PythonSoftwareFoundation.Python.3.12_qbz5n2kfra8p0\\LocalCache\\local-packages\\Python312\\site-packages\\torch\\nn\\functional.py:3104\u001b[0m, in \u001b[0;36mcross_entropy\u001b[1;34m(input, target, weight, size_average, ignore_index, reduce, reduction, label_smoothing)\u001b[0m\n\u001b[0;32m   3102\u001b[0m \u001b[38;5;28;01mif\u001b[39;00m size_average \u001b[38;5;129;01mis\u001b[39;00m \u001b[38;5;129;01mnot\u001b[39;00m \u001b[38;5;28;01mNone\u001b[39;00m \u001b[38;5;129;01mor\u001b[39;00m reduce \u001b[38;5;129;01mis\u001b[39;00m \u001b[38;5;129;01mnot\u001b[39;00m \u001b[38;5;28;01mNone\u001b[39;00m:\n\u001b[0;32m   3103\u001b[0m     reduction \u001b[38;5;241m=\u001b[39m _Reduction\u001b[38;5;241m.\u001b[39mlegacy_get_string(size_average, reduce)\n\u001b[1;32m-> 3104\u001b[0m \u001b[38;5;28;01mreturn\u001b[39;00m \u001b[43mtorch\u001b[49m\u001b[38;5;241;43m.\u001b[39;49m\u001b[43m_C\u001b[49m\u001b[38;5;241;43m.\u001b[39;49m\u001b[43m_nn\u001b[49m\u001b[38;5;241;43m.\u001b[39;49m\u001b[43mcross_entropy_loss\u001b[49m\u001b[43m(\u001b[49m\u001b[38;5;28;43minput\u001b[39;49m\u001b[43m,\u001b[49m\u001b[43m \u001b[49m\u001b[43mtarget\u001b[49m\u001b[43m,\u001b[49m\u001b[43m \u001b[49m\u001b[43mweight\u001b[49m\u001b[43m,\u001b[49m\u001b[43m \u001b[49m\u001b[43m_Reduction\u001b[49m\u001b[38;5;241;43m.\u001b[39;49m\u001b[43mget_enum\u001b[49m\u001b[43m(\u001b[49m\u001b[43mreduction\u001b[49m\u001b[43m)\u001b[49m\u001b[43m,\u001b[49m\u001b[43m \u001b[49m\u001b[43mignore_index\u001b[49m\u001b[43m,\u001b[49m\u001b[43m \u001b[49m\u001b[43mlabel_smoothing\u001b[49m\u001b[43m)\u001b[49m\n",
      "\u001b[1;31mTypeError\u001b[0m: cross_entropy_loss(): argument 'input' (position 1) must be Tensor, not tuple"
     ]
    }
   ],
   "source": [
    "# Initialize model\n",
    "model = EEGClassifier(\n",
    "    input_channels=1,\n",
    "    num_classes=num_classes,\n",
    "    dropout_prob=0.3\n",
    ")\n",
    "\n",
    "# Train with smaller batch size for stability\n",
    "train_loader = DataLoader(\n",
    "    train_dataset,\n",
    "    batch_size=16,  # Reduced batch size\n",
    "    shuffle=True,\n",
    "    num_workers=0,\n",
    "    pin_memory=True,\n",
    "    drop_last=True\n",
    ")\n",
    "\n",
    "val_loader = DataLoader(\n",
    "    val_dataset,\n",
    "    batch_size=16,  # Reduced batch size\n",
    "    shuffle=False,\n",
    "    num_workers=0,\n",
    "    pin_memory=True,\n",
    "    drop_last=True\n",
    ")\n",
    "\n",
    "# Train model\n",
    "trained_model, train_losses, val_losses, train_accs, val_accs = train_model(\n",
    "    model,\n",
    "    train_loader,\n",
    "    val_loader,\n",
    "    num_epochs=50\n",
    ")"
   ]
  },
  {
   "cell_type": "code",
   "execution_count": 22,
   "metadata": {},
   "outputs": [
    {
     "name": "stderr",
     "output_type": "stream",
     "text": [
      "Epoch 1/50:   0%|          | 0/180 [00:00<?, ?it/s]"
     ]
    },
    {
     "name": "stderr",
     "output_type": "stream",
     "text": [
      "C:\\Users\\eshwa\\AppData\\Local\\Temp\\ipykernel_29280\\1028220634.py:37: UserWarning: Using a target size (torch.Size([16, 4, 1, 1])) that is different to the input size (torch.Size([16, 4, 1, 64])). This will likely lead to incorrect results due to broadcasting. Please ensure they have the same size.\n",
      "  consistency_loss = F.smooth_l1_loss(\n",
      "Epoch 1/50:   0%|          | 0/180 [00:00<?, ?it/s]\n"
     ]
    },
    {
     "ename": "TypeError",
     "evalue": "cross_entropy_loss(): argument 'input' (position 1) must be Tensor, not tuple",
     "output_type": "error",
     "traceback": [
      "\u001b[1;31m---------------------------------------------------------------------------\u001b[0m",
      "\u001b[1;31mTypeError\u001b[0m                                 Traceback (most recent call last)",
      "Cell \u001b[1;32mIn[22], line 152\u001b[0m\n\u001b[0;32m    142\u001b[0m val_loader \u001b[38;5;241m=\u001b[39m DataLoader(\n\u001b[0;32m    143\u001b[0m     val_dataset,\n\u001b[0;32m    144\u001b[0m     batch_size\u001b[38;5;241m=\u001b[39m\u001b[38;5;241m16\u001b[39m,\n\u001b[1;32m   (...)\u001b[0m\n\u001b[0;32m    148\u001b[0m     drop_last\u001b[38;5;241m=\u001b[39m\u001b[38;5;28;01mTrue\u001b[39;00m\n\u001b[0;32m    149\u001b[0m )\n\u001b[0;32m    151\u001b[0m \u001b[38;5;66;03m# Train model\u001b[39;00m\n\u001b[1;32m--> 152\u001b[0m trained_model, train_losses, val_losses, train_accs, val_accs \u001b[38;5;241m=\u001b[39m \u001b[43mtrain_model\u001b[49m\u001b[43m(\u001b[49m\n\u001b[0;32m    153\u001b[0m \u001b[43m    \u001b[49m\u001b[43mmodel\u001b[49m\u001b[43m,\u001b[49m\n\u001b[0;32m    154\u001b[0m \u001b[43m    \u001b[49m\u001b[43mtrain_loader\u001b[49m\u001b[43m,\u001b[49m\n\u001b[0;32m    155\u001b[0m \u001b[43m    \u001b[49m\u001b[43mval_loader\u001b[49m\u001b[43m,\u001b[49m\n\u001b[0;32m    156\u001b[0m \u001b[43m    \u001b[49m\u001b[43mnum_epochs\u001b[49m\u001b[38;5;241;43m=\u001b[39;49m\u001b[38;5;241;43m50\u001b[39;49m\n\u001b[0;32m    157\u001b[0m \u001b[43m)\u001b[49m\n",
      "Cell \u001b[1;32mIn[22], line 52\u001b[0m, in \u001b[0;36mtrain_model\u001b[1;34m(model, train_loader, val_loader, num_epochs)\u001b[0m\n\u001b[0;32m     50\u001b[0m \u001b[38;5;66;03m# Forward pass\u001b[39;00m\n\u001b[0;32m     51\u001b[0m outputs \u001b[38;5;241m=\u001b[39m model(inputs)\n\u001b[1;32m---> 52\u001b[0m loss \u001b[38;5;241m=\u001b[39m \u001b[43mcriterion\u001b[49m\u001b[43m(\u001b[49m\u001b[43moutputs\u001b[49m\u001b[43m,\u001b[49m\u001b[43m \u001b[49m\u001b[43mtargets\u001b[49m\u001b[43m)\u001b[49m\n\u001b[0;32m     54\u001b[0m \u001b[38;5;66;03m# Backward pass with gradient clipping\u001b[39;00m\n\u001b[0;32m     55\u001b[0m loss\u001b[38;5;241m.\u001b[39mbackward()\n",
      "File \u001b[1;32m~\\AppData\\Local\\Packages\\PythonSoftwareFoundation.Python.3.12_qbz5n2kfra8p0\\LocalCache\\local-packages\\Python312\\site-packages\\torch\\nn\\modules\\module.py:1553\u001b[0m, in \u001b[0;36mModule._wrapped_call_impl\u001b[1;34m(self, *args, **kwargs)\u001b[0m\n\u001b[0;32m   1551\u001b[0m     \u001b[38;5;28;01mreturn\u001b[39;00m \u001b[38;5;28mself\u001b[39m\u001b[38;5;241m.\u001b[39m_compiled_call_impl(\u001b[38;5;241m*\u001b[39margs, \u001b[38;5;241m*\u001b[39m\u001b[38;5;241m*\u001b[39mkwargs)  \u001b[38;5;66;03m# type: ignore[misc]\u001b[39;00m\n\u001b[0;32m   1552\u001b[0m \u001b[38;5;28;01melse\u001b[39;00m:\n\u001b[1;32m-> 1553\u001b[0m     \u001b[38;5;28;01mreturn\u001b[39;00m \u001b[38;5;28;43mself\u001b[39;49m\u001b[38;5;241;43m.\u001b[39;49m\u001b[43m_call_impl\u001b[49m\u001b[43m(\u001b[49m\u001b[38;5;241;43m*\u001b[39;49m\u001b[43margs\u001b[49m\u001b[43m,\u001b[49m\u001b[43m \u001b[49m\u001b[38;5;241;43m*\u001b[39;49m\u001b[38;5;241;43m*\u001b[39;49m\u001b[43mkwargs\u001b[49m\u001b[43m)\u001b[49m\n",
      "File \u001b[1;32m~\\AppData\\Local\\Packages\\PythonSoftwareFoundation.Python.3.12_qbz5n2kfra8p0\\LocalCache\\local-packages\\Python312\\site-packages\\torch\\nn\\modules\\module.py:1562\u001b[0m, in \u001b[0;36mModule._call_impl\u001b[1;34m(self, *args, **kwargs)\u001b[0m\n\u001b[0;32m   1557\u001b[0m \u001b[38;5;66;03m# If we don't have any hooks, we want to skip the rest of the logic in\u001b[39;00m\n\u001b[0;32m   1558\u001b[0m \u001b[38;5;66;03m# this function, and just call forward.\u001b[39;00m\n\u001b[0;32m   1559\u001b[0m \u001b[38;5;28;01mif\u001b[39;00m \u001b[38;5;129;01mnot\u001b[39;00m (\u001b[38;5;28mself\u001b[39m\u001b[38;5;241m.\u001b[39m_backward_hooks \u001b[38;5;129;01mor\u001b[39;00m \u001b[38;5;28mself\u001b[39m\u001b[38;5;241m.\u001b[39m_backward_pre_hooks \u001b[38;5;129;01mor\u001b[39;00m \u001b[38;5;28mself\u001b[39m\u001b[38;5;241m.\u001b[39m_forward_hooks \u001b[38;5;129;01mor\u001b[39;00m \u001b[38;5;28mself\u001b[39m\u001b[38;5;241m.\u001b[39m_forward_pre_hooks\n\u001b[0;32m   1560\u001b[0m         \u001b[38;5;129;01mor\u001b[39;00m _global_backward_pre_hooks \u001b[38;5;129;01mor\u001b[39;00m _global_backward_hooks\n\u001b[0;32m   1561\u001b[0m         \u001b[38;5;129;01mor\u001b[39;00m _global_forward_hooks \u001b[38;5;129;01mor\u001b[39;00m _global_forward_pre_hooks):\n\u001b[1;32m-> 1562\u001b[0m     \u001b[38;5;28;01mreturn\u001b[39;00m \u001b[43mforward_call\u001b[49m\u001b[43m(\u001b[49m\u001b[38;5;241;43m*\u001b[39;49m\u001b[43margs\u001b[49m\u001b[43m,\u001b[49m\u001b[43m \u001b[49m\u001b[38;5;241;43m*\u001b[39;49m\u001b[38;5;241;43m*\u001b[39;49m\u001b[43mkwargs\u001b[49m\u001b[43m)\u001b[49m\n\u001b[0;32m   1564\u001b[0m \u001b[38;5;28;01mtry\u001b[39;00m:\n\u001b[0;32m   1565\u001b[0m     result \u001b[38;5;241m=\u001b[39m \u001b[38;5;28;01mNone\u001b[39;00m\n",
      "File \u001b[1;32m~\\AppData\\Local\\Packages\\PythonSoftwareFoundation.Python.3.12_qbz5n2kfra8p0\\LocalCache\\local-packages\\Python312\\site-packages\\torch\\nn\\modules\\loss.py:1188\u001b[0m, in \u001b[0;36mCrossEntropyLoss.forward\u001b[1;34m(self, input, target)\u001b[0m\n\u001b[0;32m   1187\u001b[0m \u001b[38;5;28;01mdef\u001b[39;00m \u001b[38;5;21mforward\u001b[39m(\u001b[38;5;28mself\u001b[39m, \u001b[38;5;28minput\u001b[39m: Tensor, target: Tensor) \u001b[38;5;241m-\u001b[39m\u001b[38;5;241m>\u001b[39m Tensor:\n\u001b[1;32m-> 1188\u001b[0m     \u001b[38;5;28;01mreturn\u001b[39;00m \u001b[43mF\u001b[49m\u001b[38;5;241;43m.\u001b[39;49m\u001b[43mcross_entropy\u001b[49m\u001b[43m(\u001b[49m\u001b[38;5;28;43minput\u001b[39;49m\u001b[43m,\u001b[49m\u001b[43m \u001b[49m\u001b[43mtarget\u001b[49m\u001b[43m,\u001b[49m\u001b[43m \u001b[49m\u001b[43mweight\u001b[49m\u001b[38;5;241;43m=\u001b[39;49m\u001b[38;5;28;43mself\u001b[39;49m\u001b[38;5;241;43m.\u001b[39;49m\u001b[43mweight\u001b[49m\u001b[43m,\u001b[49m\n\u001b[0;32m   1189\u001b[0m \u001b[43m                           \u001b[49m\u001b[43mignore_index\u001b[49m\u001b[38;5;241;43m=\u001b[39;49m\u001b[38;5;28;43mself\u001b[39;49m\u001b[38;5;241;43m.\u001b[39;49m\u001b[43mignore_index\u001b[49m\u001b[43m,\u001b[49m\u001b[43m \u001b[49m\u001b[43mreduction\u001b[49m\u001b[38;5;241;43m=\u001b[39;49m\u001b[38;5;28;43mself\u001b[39;49m\u001b[38;5;241;43m.\u001b[39;49m\u001b[43mreduction\u001b[49m\u001b[43m,\u001b[49m\n\u001b[0;32m   1190\u001b[0m \u001b[43m                           \u001b[49m\u001b[43mlabel_smoothing\u001b[49m\u001b[38;5;241;43m=\u001b[39;49m\u001b[38;5;28;43mself\u001b[39;49m\u001b[38;5;241;43m.\u001b[39;49m\u001b[43mlabel_smoothing\u001b[49m\u001b[43m)\u001b[49m\n",
      "File \u001b[1;32m~\\AppData\\Local\\Packages\\PythonSoftwareFoundation.Python.3.12_qbz5n2kfra8p0\\LocalCache\\local-packages\\Python312\\site-packages\\torch\\nn\\functional.py:3104\u001b[0m, in \u001b[0;36mcross_entropy\u001b[1;34m(input, target, weight, size_average, ignore_index, reduce, reduction, label_smoothing)\u001b[0m\n\u001b[0;32m   3102\u001b[0m \u001b[38;5;28;01mif\u001b[39;00m size_average \u001b[38;5;129;01mis\u001b[39;00m \u001b[38;5;129;01mnot\u001b[39;00m \u001b[38;5;28;01mNone\u001b[39;00m \u001b[38;5;129;01mor\u001b[39;00m reduce \u001b[38;5;129;01mis\u001b[39;00m \u001b[38;5;129;01mnot\u001b[39;00m \u001b[38;5;28;01mNone\u001b[39;00m:\n\u001b[0;32m   3103\u001b[0m     reduction \u001b[38;5;241m=\u001b[39m _Reduction\u001b[38;5;241m.\u001b[39mlegacy_get_string(size_average, reduce)\n\u001b[1;32m-> 3104\u001b[0m \u001b[38;5;28;01mreturn\u001b[39;00m \u001b[43mtorch\u001b[49m\u001b[38;5;241;43m.\u001b[39;49m\u001b[43m_C\u001b[49m\u001b[38;5;241;43m.\u001b[39;49m\u001b[43m_nn\u001b[49m\u001b[38;5;241;43m.\u001b[39;49m\u001b[43mcross_entropy_loss\u001b[49m\u001b[43m(\u001b[49m\u001b[38;5;28;43minput\u001b[39;49m\u001b[43m,\u001b[49m\u001b[43m \u001b[49m\u001b[43mtarget\u001b[49m\u001b[43m,\u001b[49m\u001b[43m \u001b[49m\u001b[43mweight\u001b[49m\u001b[43m,\u001b[49m\u001b[43m \u001b[49m\u001b[43m_Reduction\u001b[49m\u001b[38;5;241;43m.\u001b[39;49m\u001b[43mget_enum\u001b[49m\u001b[43m(\u001b[49m\u001b[43mreduction\u001b[49m\u001b[43m)\u001b[49m\u001b[43m,\u001b[49m\u001b[43m \u001b[49m\u001b[43mignore_index\u001b[49m\u001b[43m,\u001b[49m\u001b[43m \u001b[49m\u001b[43mlabel_smoothing\u001b[49m\u001b[43m)\u001b[49m\n",
      "\u001b[1;31mTypeError\u001b[0m: cross_entropy_loss(): argument 'input' (position 1) must be Tensor, not tuple"
     ]
    }
   ],
   "source": [
    "def train_model(model, train_loader, val_loader, num_epochs=50):\n",
    "    device = torch.device('cuda' if torch.cuda.is_available() else 'cpu')\n",
    "    model = model.to(device)\n",
    "    \n",
    "    # 1. Optimized learning setup for TTT\n",
    "    optimizer = optim.AdamW(\n",
    "        model.parameters(),\n",
    "        lr=0.0005,  # Slightly higher LR for TTT\n",
    "        weight_decay=0.001,  # Reduced weight decay\n",
    "        betas=(0.9, 0.95)  # Modified beta2 for TTT dynamics\n",
    "    )\n",
    "    \n",
    "    # 2. Cyclical learning rate for better TTT convergence\n",
    "    scheduler = optim.lr_scheduler.OneCycleLR(\n",
    "        optimizer,\n",
    "        max_lr=0.001,\n",
    "        epochs=num_epochs,\n",
    "        steps_per_epoch=len(train_loader),\n",
    "        pct_start=0.3,  # Longer warmup for TTT\n",
    "        div_factor=25,\n",
    "        final_div_factor=1000\n",
    "    )\n",
    "    \n",
    "    # 3. Loss function with label smoothing\n",
    "    criterion = nn.CrossEntropyLoss(label_smoothing=0.1)\n",
    "    \n",
    "    # 4. Training metrics\n",
    "    best_val_acc = 0\n",
    "    best_model_state = None\n",
    "    patience = 10\n",
    "    patience_counter = 0\n",
    "    \n",
    "    train_losses, val_losses = [], []\n",
    "    train_accs, val_accs = [], []\n",
    "    \n",
    "    for epoch in range(num_epochs):\n",
    "        model.train()\n",
    "        train_loss = 0\n",
    "        correct = 0\n",
    "        total = 0\n",
    "        \n",
    "        pbar = tqdm(train_loader, desc=f'Epoch {epoch+1}/{num_epochs}')\n",
    "        \n",
    "        for inputs, targets in pbar:\n",
    "            inputs, targets = inputs.to(device), targets.to(device)\n",
    "            \n",
    "            # 5. Gradient accumulation for stability\n",
    "            optimizer.zero_grad()\n",
    "            \n",
    "            # Forward pass\n",
    "            outputs = model(inputs)\n",
    "            loss = criterion(outputs, targets)\n",
    "            \n",
    "            # Backward pass with gradient clipping\n",
    "            loss.backward()\n",
    "            torch.nn.utils.clip_grad_norm_(model.parameters(), max_norm=0.5)  # Reduced clip value\n",
    "            optimizer.step()\n",
    "            scheduler.step()\n",
    "            \n",
    "            # Metrics\n",
    "            train_loss += loss.item()\n",
    "            _, predicted = outputs.max(1)\n",
    "            total += targets.size(0)\n",
    "            correct += predicted.eq(targets).sum().item()\n",
    "            \n",
    "            pbar.set_postfix({\n",
    "                'loss': f'{loss.item():.4f}',\n",
    "                'acc': f'{100.*correct/total:.2f}%'\n",
    "            })\n",
    "        \n",
    "        train_loss = train_loss / len(train_loader)\n",
    "        train_acc = 100. * correct / total\n",
    "        \n",
    "        # Validation phase\n",
    "        model.eval()\n",
    "        val_loss = 0\n",
    "        val_correct = 0\n",
    "        val_total = 0\n",
    "        \n",
    "        with torch.no_grad():\n",
    "            for inputs, targets in val_loader:\n",
    "                inputs, targets = inputs.to(device), targets.to(device)\n",
    "                \n",
    "                # 6. Multiple forward passes for robust validation\n",
    "                n_forwards = 3\n",
    "                outputs_list = []\n",
    "                for _ in range(n_forwards):\n",
    "                    outputs = model(inputs)\n",
    "                    outputs_list.append(F.softmax(outputs, dim=1))\n",
    "                \n",
    "                # Average predictions\n",
    "                outputs = torch.stack(outputs_list).mean(0)\n",
    "                loss = criterion(outputs.log(), targets)\n",
    "                \n",
    "                val_loss += loss.item()\n",
    "                _, predicted = outputs.max(1)\n",
    "                val_total += targets.size(0)\n",
    "                val_correct += predicted.eq(targets).sum().item()\n",
    "        \n",
    "        val_loss = val_loss / len(val_loader)\n",
    "        val_acc = 100. * val_correct / val_total\n",
    "        \n",
    "        # Store metrics\n",
    "        train_losses.append(train_loss)\n",
    "        val_losses.append(val_loss)\n",
    "        train_accs.append(train_acc)\n",
    "        val_accs.append(val_acc)\n",
    "        \n",
    "        # Early stopping with patience\n",
    "        if val_acc > best_val_acc:\n",
    "            best_val_acc = val_acc\n",
    "            best_model_state = model.state_dict().copy()\n",
    "            patience_counter = 0\n",
    "        else:\n",
    "            patience_counter += 1\n",
    "            \n",
    "        if patience_counter >= patience:\n",
    "            print(f'Early stopping triggered after epoch {epoch+1}')\n",
    "            break\n",
    "        \n",
    "        print(f'\\nEpoch {epoch+1}/{num_epochs}:')\n",
    "        print(f'Train Loss: {train_loss:.4f}, Train Acc: {train_acc:.2f}%')\n",
    "        print(f'Val Loss: {val_loss:.4f}, Val Acc: {val_acc:.2f}%')\n",
    "        print(f'Learning Rate: {scheduler.get_last_lr()[0]:.6f}')\n",
    "    \n",
    "    # Load best model\n",
    "    if best_model_state is not None:\n",
    "        model.load_state_dict(best_model_state)\n",
    "    \n",
    "    return model, train_losses, val_losses, train_accs, val_accs\n",
    "\n",
    "# Usage with smaller batch size for better TTT dynamics\n",
    "train_loader = DataLoader(\n",
    "    train_dataset,\n",
    "    batch_size=16,  # Smaller batch size for TTT\n",
    "    shuffle=True,\n",
    "    num_workers=0,\n",
    "    pin_memory=True,\n",
    "    drop_last=True\n",
    ")\n",
    "\n",
    "val_loader = DataLoader(\n",
    "    val_dataset,\n",
    "    batch_size=16,\n",
    "    shuffle=False,\n",
    "    num_workers=0,\n",
    "    pin_memory=True,\n",
    "    drop_last=True\n",
    ")\n",
    "\n",
    "# Train model\n",
    "trained_model, train_losses, val_losses, train_accs, val_accs = train_model(\n",
    "    model,\n",
    "    train_loader,\n",
    "    val_loader,\n",
    "    num_epochs=50\n",
    ")"
   ]
  },
  {
   "cell_type": "code",
   "execution_count": null,
   "metadata": {},
   "outputs": [],
   "source": []
  }
 ],
 "metadata": {
  "kernelspec": {
   "display_name": "Python 3",
   "language": "python",
   "name": "python3"
  },
  "language_info": {
   "codemirror_mode": {
    "name": "ipython",
    "version": 3
   },
   "file_extension": ".py",
   "mimetype": "text/x-python",
   "name": "python",
   "nbconvert_exporter": "python",
   "pygments_lexer": "ipython3",
   "version": "3.12.8"
  }
 },
 "nbformat": 4,
 "nbformat_minor": 2
}
